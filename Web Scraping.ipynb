{
 "cells": [
  {
   "cell_type": "markdown",
   "id": "7467ae66",
   "metadata": {},
   "source": [
    "# Web Scraping"
   ]
  },
  {
   "cell_type": "markdown",
   "id": "2fb1aff8",
   "metadata": {},
   "source": [
    "Importing the necessary libraries"
   ]
  },
  {
   "cell_type": "code",
   "execution_count": 1,
   "id": "2553f10b",
   "metadata": {},
   "outputs": [],
   "source": [
    "from bs4 import BeautifulSoup\n",
    "import pandas as pd\n",
    "import numpy as np"
   ]
  },
  {
   "cell_type": "markdown",
   "id": "a1a29617",
   "metadata": {},
   "source": [
    "We scrolled down (with chrome extension until we had all the data we wanted),\n",
    "after that, we saved the website and scraped it.\n",
    "\n",
    "We did it to prevent 'burning hours', because it took us more than 6 hours of scrolling down to have the data we want.\n",
    "\n",
    "The link to the original website: https://www.nadlan.gov.il/.\n",
    "\n",
    "We also uploaded the website after we scrolled down."
   ]
  },
  {
   "cell_type": "code",
   "execution_count": 2,
   "id": "f059b2ae",
   "metadata": {},
   "outputs": [],
   "source": [
    "path = 'C:/Users/matan/Data Science Project/check/website/website.html'"
   ]
  },
  {
   "cell_type": "code",
   "execution_count": 3,
   "id": "29f69f13",
   "metadata": {},
   "outputs": [],
   "source": [
    "# opening the website with code we found on google to prevent bugs.\n",
    "webSite = open(path, encoding = 'utf8')"
   ]
  },
  {
   "cell_type": "code",
   "execution_count": 4,
   "id": "47045eef",
   "metadata": {},
   "outputs": [],
   "source": [
    "# reading the data through bs\n",
    "bs = BeautifulSoup(webSite.read())"
   ]
  },
  {
   "cell_type": "code",
   "execution_count": 5,
   "id": "55ab33e2",
   "metadata": {},
   "outputs": [],
   "source": [
    "# by exploring the website devTools we saw that all of the relevant data is inside classes named \"tableCol\" \n",
    "data = bs.find_all('div', {'class': \"tableCol\"})"
   ]
  },
  {
   "cell_type": "markdown",
   "id": "f8ffbdaa",
   "metadata": {},
   "source": [
    "By checking how the data looks, we saw that the relevant data is in the text itself.\n",
    "\n",
    "That means we have to iterate through all of the tags we found and placed in 'data',\n",
    "and take only the text from each one of them."
   ]
  },
  {
   "cell_type": "code",
   "execution_count": 6,
   "id": "0ece22d3",
   "metadata": {},
   "outputs": [],
   "source": [
    "# This returns a modified list where every value in the original list has been changed based on a function.\n",
    "# The strip cleans all of the garbage\n",
    "text_data = list(map(lambda d: d.text.strip(), data))"
   ]
  },
  {
   "cell_type": "markdown",
   "id": "6dac117a",
   "metadata": {},
   "source": [
    "As for now we have one big list (text_data) that contains all of the data.\n",
    "\n",
    "To create a panda's data frame we will first create for each column the relevant data for that column. "
   ]
  },
  {
   "cell_type": "code",
   "execution_count": 7,
   "id": "3c0ca652",
   "metadata": {},
   "outputs": [],
   "source": [
    "year_sold = []\n",
    "for i in range(int(len(text_data)/10)):\n",
    "    index = i*10\n",
    "    year_ind = text_data[index].rfind(\".\")\n",
    "    year = text_data[index][year_ind+1:]\n",
    "    year_int = int(year)\n",
    "    year_sold.append(year_int)"
   ]
  },
  {
   "cell_type": "code",
   "execution_count": 8,
   "id": "564bc26c",
   "metadata": {},
   "outputs": [],
   "source": [
    "month_sold = []\n",
    "for i in range(int(len(text_data)/10)):\n",
    "    index = i*10\n",
    "    first_ind = text_data[index].find(\".\")\n",
    "    last_ind = text_data[index].rfind(\".\")\n",
    "    month = text_data[index][first_ind+1:last_ind]\n",
    "    month_int = int(month)\n",
    "    month_sold.append(month_int)"
   ]
  },
  {
   "cell_type": "code",
   "execution_count": 9,
   "id": "a1b4e397",
   "metadata": {},
   "outputs": [],
   "source": [
    "day_sold = []\n",
    "for i in range(int(len(text_data)/10)):\n",
    "    index = i*10\n",
    "    ind = text_data[index].find(\".\")\n",
    "    day = text_data[index][:ind]\n",
    "    day_int = int(day)\n",
    "    day_sold.append(day_int)"
   ]
  },
  {
   "cell_type": "code",
   "execution_count": 10,
   "id": "e63a9258",
   "metadata": {},
   "outputs": [],
   "source": [
    "street = []\n",
    "for i in range (int(len(text_data)/10)):\n",
    "    index = text_data[i*10+1].rfind(\" \")\n",
    "    street_name = text_data[i*10+1][0:index]\n",
    "    street.append(street_name)"
   ]
  },
  {
   "cell_type": "code",
   "execution_count": 11,
   "id": "006042d6",
   "metadata": {},
   "outputs": [],
   "source": [
    "kind = []\n",
    "for i in range (int(len(text_data)/10)):\n",
    "    kind.append(text_data[i*10+3])"
   ]
  },
  {
   "cell_type": "code",
   "execution_count": 12,
   "id": "c4449b15",
   "metadata": {},
   "outputs": [],
   "source": [
    "num_of_rooms = []\n",
    "for i in range (int(len(text_data)/10)):\n",
    "    int_rooms = lambda x: float(x) if x != '' else ''\n",
    "    num_of_rooms.append(int_rooms(text_data[i*10+4]))"
   ]
  },
  {
   "cell_type": "code",
   "execution_count": 13,
   "id": "f54b8f21",
   "metadata": {},
   "outputs": [],
   "source": [
    "def floor_str_to_int(floor_str):\n",
    "    if floor_str == 'קרקע' or floor_str == 'קומה 0':\n",
    "        return 0\n",
    "    elif floor_str == 'ראשונה' or floor_str == 'קומה 1':\n",
    "        return 1\n",
    "    elif floor_str == 'שניה' or floor_str == 'קומה 2':\n",
    "        return 2\n",
    "    elif floor_str == 'שלישית' or floor_str == 'קומה 3':\n",
    "        return 3\n",
    "    elif floor_str == 'רביעית' or floor_str == 'קומה 4':\n",
    "        return 4\n",
    "    elif floor_str == 'חמישית' or floor_str == 'קומה 5':\n",
    "        return 5\n",
    "    elif floor_str == 'שישית' or floor_str == 'קומה 6':\n",
    "        return 6\n",
    "    elif floor_str == 'שביעית' or floor_str == 'קומה 7':\n",
    "        return 7\n",
    "    elif floor_str == 'שמינית' or floor_str == 'קומה 8':\n",
    "        return 8\n",
    "    elif floor_str == 'תשיעית' or floor_str == 'קומה 9':\n",
    "        return 9\n",
    "    elif floor_str == 'עשירית' or floor_str == 'קומה 10':\n",
    "        return 10\n",
    "    elif floor_str == 'אחת עשרה' or floor_str == 'קומה 11':\n",
    "        return 11\n",
    "    elif floor_str == 'שתים עשרה' or floor_str == 'קומה 12':\n",
    "        return 12\n",
    "    elif floor_str == 'שלוש עשרה' or floor_str == 'קומה 13':\n",
    "        return 13\n",
    "    elif floor_str == 'ארבע עשרה' or floor_str == 'קומה 14':\n",
    "        return 14\n",
    "    elif floor_str == 'חמש עשרה' or floor_str == 'קומה 15':\n",
    "        return 15\n",
    "    elif floor_str == 'שש עשרה' or floor_str == 'קומה 16':\n",
    "        return 16\n",
    "    elif floor_str == 'שבע עשרה' or floor_str == 'קומה 17':\n",
    "        return 17\n",
    "    elif floor_str == 'שמונה עשרה' or floor_str == 'קומה 18':\n",
    "        return 18\n",
    "    elif floor_str == 'תשע עשרה' or floor_str == 'קומה 19':\n",
    "        return 19\n",
    "    elif floor_str == 'עשרים' or floor_str == 'קומה 20':\n",
    "        return 20\n",
    "    elif floor_str == 'עשרים ואחת' or floor_str == 'קומה 21':\n",
    "        return 21\n",
    "    elif floor_str == 'עשרים ושתים' or floor_str == 'עשרים ושתיים' or floor_str == 'קומה 22':\n",
    "        return 22\n",
    "    elif floor_str == 'עשרים ושלוש' or floor_str == 'קומה 23':\n",
    "        return 23\n",
    "    elif floor_str == 'עשרים וארבע' or floor_str == 'קומה 24':\n",
    "        return 24\n",
    "    elif floor_str == 'עשרים וחמש' or floor_str == 'קומה 25':\n",
    "        return 25\n",
    "    elif floor_str == 'עשרים ושש' or floor_str == 'קומה 26':\n",
    "        return 26\n",
    "    else:\n",
    "        return ''"
   ]
  },
  {
   "cell_type": "code",
   "execution_count": 14,
   "id": "dc991249",
   "metadata": {},
   "outputs": [],
   "source": [
    "floor = []\n",
    "for i in range (int(len(text_data)/10)):\n",
    "    fl = text_data[i*10+5]\n",
    "    if len(fl) == 8 and fl[-2] >= '0' and fl[-2] <= '9':\n",
    "        fl = fl[0:5]+fl[6:7]\n",
    "    elif len(fl) == 9 and fl[-2] >= '0' and fl[-2] <= '9':\n",
    "        fl = fl[0:5]+fl[6:8]\n",
    "    int_floor = floor_str_to_int(fl)\n",
    "    floor.append(int_floor)"
   ]
  },
  {
   "cell_type": "code",
   "execution_count": 15,
   "id": "8e17a9e8",
   "metadata": {},
   "outputs": [],
   "source": [
    "squared = []\n",
    "for i in range (int(len(text_data)/10)):\n",
    "    float_squared = lambda x: float(x) if x != '' else ''\n",
    "    squared.append(float_squared(text_data[i*10+6]))"
   ]
  },
  {
   "cell_type": "code",
   "execution_count": 16,
   "id": "acb5e037",
   "metadata": {},
   "outputs": [],
   "source": [
    "price = []\n",
    "for i in range (int(len(text_data)/10)):\n",
    "    str_price = text_data[i*10+7].replace(',','')\n",
    "    int_price = int(str_price)\n",
    "    price.append(int_price)"
   ]
  },
  {
   "cell_type": "markdown",
   "id": "c6d1f634",
   "metadata": {},
   "source": [
    "We prefared not to take the 'מגמת שינוי' and 'סוג נכס' data at all, because we ran our models with it and got worser results in the predictions."
   ]
  },
  {
   "cell_type": "code",
   "execution_count": 17,
   "id": "d9eb98f1",
   "metadata": {},
   "outputs": [],
   "source": [
    "df_dict = {\"Year sold\":year_sold, \"Month sold\":month_sold, \"Day sold\":day_sold, \"Street\":street, \"Kind\":kind, \"Number of rooms\":num_of_rooms, \"Floor\":floor, \"Squared meter\":squared, \"Price\":price}"
   ]
  },
  {
   "cell_type": "markdown",
   "id": "003a134d",
   "metadata": {},
   "source": [
    "## Creating the data frame"
   ]
  },
  {
   "cell_type": "code",
   "execution_count": 18,
   "id": "2e8a7de2",
   "metadata": {},
   "outputs": [],
   "source": [
    "df = pd.DataFrame(df_dict)"
   ]
  },
  {
   "cell_type": "code",
   "execution_count": 19,
   "id": "e286eafa",
   "metadata": {},
   "outputs": [
    {
     "data": {
      "text/html": [
       "<div>\n",
       "<style scoped>\n",
       "    .dataframe tbody tr th:only-of-type {\n",
       "        vertical-align: middle;\n",
       "    }\n",
       "\n",
       "    .dataframe tbody tr th {\n",
       "        vertical-align: top;\n",
       "    }\n",
       "\n",
       "    .dataframe thead th {\n",
       "        text-align: right;\n",
       "    }\n",
       "</style>\n",
       "<table border=\"1\" class=\"dataframe\">\n",
       "  <thead>\n",
       "    <tr style=\"text-align: right;\">\n",
       "      <th></th>\n",
       "      <th>Year sold</th>\n",
       "      <th>Month sold</th>\n",
       "      <th>Day sold</th>\n",
       "      <th>Street</th>\n",
       "      <th>Kind</th>\n",
       "      <th>Number of rooms</th>\n",
       "      <th>Floor</th>\n",
       "      <th>Squared meter</th>\n",
       "      <th>Price</th>\n",
       "    </tr>\n",
       "  </thead>\n",
       "  <tbody>\n",
       "    <tr>\n",
       "      <th>0</th>\n",
       "      <td>2021</td>\n",
       "      <td>12</td>\n",
       "      <td>20</td>\n",
       "      <td>נירים</td>\n",
       "      <td>דירה בבית קומות</td>\n",
       "      <td>6.0</td>\n",
       "      <td>6</td>\n",
       "      <td>134.6</td>\n",
       "      <td>3670000</td>\n",
       "    </tr>\n",
       "    <tr>\n",
       "      <th>1</th>\n",
       "      <td>2021</td>\n",
       "      <td>12</td>\n",
       "      <td>19</td>\n",
       "      <td>קרל נטר</td>\n",
       "      <td>דירה בבית קומות</td>\n",
       "      <td>3.0</td>\n",
       "      <td>3</td>\n",
       "      <td>81.0</td>\n",
       "      <td>1770000</td>\n",
       "    </tr>\n",
       "    <tr>\n",
       "      <th>2</th>\n",
       "      <td>2021</td>\n",
       "      <td>12</td>\n",
       "      <td>16</td>\n",
       "      <td>יהודה הלוי</td>\n",
       "      <td>דירה בבית קומות</td>\n",
       "      <td>5.0</td>\n",
       "      <td>5</td>\n",
       "      <td>120.0</td>\n",
       "      <td>2400000</td>\n",
       "    </tr>\n",
       "    <tr>\n",
       "      <th>3</th>\n",
       "      <td>2021</td>\n",
       "      <td>12</td>\n",
       "      <td>15</td>\n",
       "      <td>שרירא שמואל</td>\n",
       "      <td>דירה בבית קומות</td>\n",
       "      <td>4.0</td>\n",
       "      <td>2</td>\n",
       "      <td>64.32</td>\n",
       "      <td>2050000</td>\n",
       "    </tr>\n",
       "    <tr>\n",
       "      <th>4</th>\n",
       "      <td>2021</td>\n",
       "      <td>12</td>\n",
       "      <td>15</td>\n",
       "      <td>תרמ\"ב</td>\n",
       "      <td>דירה בבית קומות</td>\n",
       "      <td>3.0</td>\n",
       "      <td>3</td>\n",
       "      <td>80.98</td>\n",
       "      <td>1640000</td>\n",
       "    </tr>\n",
       "  </tbody>\n",
       "</table>\n",
       "</div>"
      ],
      "text/plain": [
       "   Year sold  Month sold  Day sold       Street             Kind  \\\n",
       "0       2021          12        20        נירים  דירה בבית קומות   \n",
       "1       2021          12        19      קרל נטר  דירה בבית קומות   \n",
       "2       2021          12        16   יהודה הלוי  דירה בבית קומות   \n",
       "3       2021          12        15  שרירא שמואל  דירה בבית קומות   \n",
       "4       2021          12        15        תרמ\"ב  דירה בבית קומות   \n",
       "\n",
       "   Number of rooms Floor Squared meter    Price  \n",
       "0              6.0     6         134.6  3670000  \n",
       "1              3.0     3          81.0  1770000  \n",
       "2              5.0     5         120.0  2400000  \n",
       "3              4.0     2         64.32  2050000  \n",
       "4              3.0     3         80.98  1640000  "
      ]
     },
     "execution_count": 19,
     "metadata": {},
     "output_type": "execute_result"
    }
   ],
   "source": [
    "df.head()"
   ]
  },
  {
   "cell_type": "markdown",
   "id": "a7faea08",
   "metadata": {},
   "source": [
    "## Droping nan/empty values"
   ]
  },
  {
   "cell_type": "code",
   "execution_count": 20,
   "id": "429b5d15",
   "metadata": {},
   "outputs": [],
   "source": [
    "# We want to have only the rows that has values for all of the columns.\n",
    "# to do that, we can cast every empty string to NaN,\n",
    "# and simply, drop all the rows that contains at least one NaN value.\n",
    "df = df.replace(r'^\\s*$', np.NaN, regex=True)\n",
    "df = df.dropna()"
   ]
  },
  {
   "cell_type": "code",
   "execution_count": 21,
   "id": "1969ccef",
   "metadata": {},
   "outputs": [],
   "source": [
    "# We decided that our goal will be to predict the price that a random apartment has been sold.\n",
    "# so, we will remove all other options.\n",
    "df = df.loc[(df['Kind'] == 'דירה') |\n",
    "            (df['Kind'] == 'דירת גג') |\n",
    "            (df['Kind'] == 'דירת גג (פנטהאוז)') |\n",
    "            (df['Kind'] == 'דירת גן') |\n",
    "            (df['Kind'] == 'דירה בבית קומות')]"
   ]
  },
  {
   "cell_type": "code",
   "execution_count": 22,
   "id": "f8c67e85",
   "metadata": {},
   "outputs": [
    {
     "data": {
      "text/plain": [
       "0            0\n",
       "1            1\n",
       "2            2\n",
       "3            3\n",
       "4            4\n",
       "         ...  \n",
       "25832    39775\n",
       "25833    39776\n",
       "25834    39777\n",
       "25835    39778\n",
       "25836    39779\n",
       "Name: index, Length: 25837, dtype: int64"
      ]
     },
     "execution_count": 22,
     "metadata": {},
     "output_type": "execute_result"
    }
   ],
   "source": [
    "# reseting the index, and removing the old index column\n",
    "df.reset_index(inplace = True)\n",
    "df.pop('index')"
   ]
  },
  {
   "cell_type": "code",
   "execution_count": 23,
   "id": "c002baad",
   "metadata": {},
   "outputs": [
    {
     "data": {
      "text/plain": [
       "(25837, 9)"
      ]
     },
     "execution_count": 23,
     "metadata": {},
     "output_type": "execute_result"
    }
   ],
   "source": [
    "df.shape"
   ]
  },
  {
   "cell_type": "code",
   "execution_count": 24,
   "id": "2a3cc2c5",
   "metadata": {},
   "outputs": [
    {
     "data": {
      "text/plain": [
       "1"
      ]
     },
     "execution_count": 24,
     "metadata": {},
     "output_type": "execute_result"
    }
   ],
   "source": [
    "df.duplicated().sum()"
   ]
  },
  {
   "cell_type": "markdown",
   "id": "2d113c6e",
   "metadata": {},
   "source": [
    "we checked and there are no duplicates, the reason it shows that there is one duplicate it's because we didn't took the Street number data.\n",
    "\n",
    "Note: we prefered not to take that data at all because we got worser results with it."
   ]
  },
  {
   "cell_type": "markdown",
   "id": "dce9974a",
   "metadata": {},
   "source": [
    "## Saving the data as csv file\n",
    "The encoding 'utf-8sig' is a code that we found on google to have csv file clean of garbage data."
   ]
  },
  {
   "cell_type": "code",
   "execution_count": 25,
   "id": "742d2cd4",
   "metadata": {},
   "outputs": [],
   "source": [
    "df.to_csv('C:/Users/matan/Data Science Project/Real_Estate_Rishon_Lezion.csv', encoding = 'utf-8-sig', index_label = 'index')"
   ]
  }
 ],
 "metadata": {
  "kernelspec": {
   "display_name": "Python 3",
   "language": "python",
   "name": "python3"
  },
  "language_info": {
   "codemirror_mode": {
    "name": "ipython",
    "version": 3
   },
   "file_extension": ".py",
   "mimetype": "text/x-python",
   "name": "python",
   "nbconvert_exporter": "python",
   "pygments_lexer": "ipython3",
   "version": "3.8.8"
  }
 },
 "nbformat": 4,
 "nbformat_minor": 5
}
