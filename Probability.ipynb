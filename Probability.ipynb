{
 "cells": [
  {
   "cell_type": "markdown",
   "metadata": {},
   "source": [
    "## Question 1.a"
   ]
  },
  {
   "cell_type": "markdown",
   "metadata": {},
   "source": [
    "prob for iden boys: 1/300 * 1/2 = 1/600\n",
    "\n",
    "prob for non iden boys: 1/125 * 1/2 * 1/2 = 1/500\n",
    "\n",
    "final ans: (1 * 1/600) / (1/600 + 1/500) = 0.4545"
   ]
  },
  {
   "cell_type": "markdown",
   "metadata": {},
   "source": [
    "## Question 1.b"
   ]
  },
  {
   "cell_type": "markdown",
   "metadata": {},
   "source": [
    "Because we already know that eric chose a chocolate cookie:\n",
    "\n",
    "final ans: (0.5*0.75) / ((0.5*0.75)+(0.5*0.5)) = 0.6"
   ]
  },
  {
   "cell_type": "markdown",
   "metadata": {},
   "source": [
    "## Question 2"
   ]
  },
  {
   "cell_type": "markdown",
   "metadata": {},
   "source": [
    "we will divide the chance of getting a yellow m&m from the 1994 pack by the sum of the chances of getting it tottaly:\n",
    "\n",
    "final ans: 20 / (20+14) = 0.58"
   ]
  },
  {
   "cell_type": "markdown",
   "metadata": {},
   "source": [
    "## Question 3.a"
   ]
  },
  {
   "cell_type": "markdown",
   "metadata": {},
   "source": [
    "The prob we will be sick is: 1/10,000\n",
    "\n",
    "Therfore, the prob we are healthy is: 9,999/10,000\n",
    "\n",
    "prob that the result will return of the blood analysis will return positive:\n",
    "(1/10,000 * 1) + (9,999/10,000) * 0.01 = 0.010099\n",
    "\n",
    "final ans: (1/10,000 * 1) / 0.010099 = 0.0099108"
   ]
  },
  {
   "cell_type": "markdown",
   "metadata": {},
   "source": [
    "## Question 3.b"
   ]
  },
  {
   "cell_type": "markdown",
   "metadata": {},
   "source": [
    "The prob we will be sick is: 1/200\n",
    "Therfore, the prob we are healthy is: 199/200\n",
    "\n",
    "prob that the result will return of the blood analysis will return positive = 199/200\n",
    "\n",
    "final ans: (1/200 * 1) + (199/200) * 0.01 = 0.01495"
   ]
  },
  {
   "cell_type": "markdown",
   "metadata": {},
   "source": [
    "## Question 4"
   ]
  },
  {
   "cell_type": "markdown",
   "metadata": {},
   "source": [
    "same as Question 1.a"
   ]
  },
  {
   "cell_type": "markdown",
   "metadata": {},
   "source": [
    "# Random Variables"
   ]
  },
  {
   "cell_type": "markdown",
   "metadata": {},
   "source": [
    "## Question 1"
   ]
  },
  {
   "cell_type": "markdown",
   "metadata": {},
   "source": [
    "We noticed that for every outcome in the first dice, there is only 2 options between the 6 that will make the sum divisible by 3.\n",
    "\n",
    "final ans: 6 * ((2/6)*6 + (4/6)*(-3)) = 0"
   ]
  },
  {
   "cell_type": "markdown",
   "metadata": {},
   "source": [
    "## Question 2"
   ]
  },
  {
   "cell_type": "markdown",
   "metadata": {},
   "source": [
    "ans: (6/25 * 5) + (4/25  * 0) + (9/25 * (-6)) = -2.4"
   ]
  },
  {
   "cell_type": "markdown",
   "metadata": {},
   "source": [
    "## Question 3"
   ]
  },
  {
   "cell_type": "markdown",
   "metadata": {},
   "source": [
    "8 * 0.4 = 3.2\n",
    "Therfore, the mean is: 3.2.\n",
    "\n",
    "The standard deviation is: square(0.4*(1-0.4)/8) = 0.1732"
   ]
  },
  {
   "cell_type": "markdown",
   "metadata": {},
   "source": [
    "## Question 4"
   ]
  },
  {
   "cell_type": "markdown",
   "metadata": {},
   "source": [
    "the mean is 26,000 and the std is 2,000. to find the prob between 26 and 30 we will calculate the z-score.\n",
    "\n",
    "k = 26, a = 2\n",
    "P(k1 < X < k2) = P((k1-k)/a < z < (k2-k)/a)\n",
    "\n",
    "P(26 < X < 30) = P((26-26)/2 < z < (30 -26)/2) = P(0 < z < 2)\n",
    "\n",
    "The values according to the Z-table** are: P(0 < z < 2) = 0.4772"
   ]
  },
  {
   "cell_type": "markdown",
   "metadata": {},
   "source": [
    "## Question 5"
   ]
  },
  {
   "cell_type": "markdown",
   "metadata": {},
   "source": [
    "ans: (0.4*(5-3))/2 = 0.4"
   ]
  },
  {
   "cell_type": "markdown",
   "metadata": {},
   "source": [
    "## Question 6"
   ]
  },
  {
   "cell_type": "markdown",
   "metadata": {},
   "source": [
    "we are computing the prob that 3 of the 4 chosen has children, and multiplying by 4 because we have 4 options.\n",
    "\n",
    "4*((300/500)*(299/499)*(298/498)*(200/497)) = 0.346"
   ]
  },
  {
   "cell_type": "markdown",
   "metadata": {},
   "source": [
    "## Question 7"
   ]
  },
  {
   "cell_type": "markdown",
   "metadata": {},
   "source": [
    "By simple calculation, we recieve: -10*0.1 -5*0.35 + 0*0.1 + 5*0.35 + 10*0.1 = 0\n",
    "\n",
    "Therefore, the expected value of X is 0."
   ]
  }
 ],
 "metadata": {
  "kernelspec": {
   "display_name": "Python 3",
   "language": "python",
   "name": "python3"
  },
  "language_info": {
   "codemirror_mode": {
    "name": "ipython",
    "version": 3
   },
   "file_extension": ".py",
   "mimetype": "text/x-python",
   "name": "python",
   "nbconvert_exporter": "python",
   "pygments_lexer": "ipython3",
   "version": "3.7.6"
  }
 },
 "nbformat": 4,
 "nbformat_minor": 4
}
