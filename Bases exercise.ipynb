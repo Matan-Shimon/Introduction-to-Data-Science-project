{
 "cells": [
  {
   "cell_type": "code",
   "execution_count": 18,
   "id": "aad92cb9",
   "metadata": {},
   "outputs": [],
   "source": [
    "def bases_func(num):\n",
    "    list_2 = numberToBase(num, 2)\n",
    "    print(f\"In base 2: {list_to_str(list_2)}\")\n",
    "    list_8 = numberToBase(num, 8)\n",
    "    print(f\"In base 8: {list_to_str(list_8)}\")\n",
    "    list_16 = numberToBase(num, 16)\n",
    "    print(f\"In base 16: {list_to_str(list_16)}\")"
   ]
  },
  {
   "cell_type": "code",
   "execution_count": 13,
   "id": "8b5c691f",
   "metadata": {},
   "outputs": [],
   "source": [
    "def numberToBase(n, b):\n",
    "    if n == 0:\n",
    "        return [0]\n",
    "    digits = []\n",
    "    while n:\n",
    "        digits.append(int(n % b))\n",
    "        n //= b\n",
    "    return digits[::-1]"
   ]
  },
  {
   "cell_type": "code",
   "execution_count": 17,
   "id": "9c57618c",
   "metadata": {},
   "outputs": [],
   "source": [
    "def list_to_str(my_list):\n",
    "    my_str = \"\"\n",
    "    for i in my_list:\n",
    "        my_str += str(i)\n",
    "    \n",
    "    return my_str"
   ]
  },
  {
   "cell_type": "code",
   "execution_count": 19,
   "id": "e1523bd9",
   "metadata": {},
   "outputs": [
    {
     "name": "stdout",
     "output_type": "stream",
     "text": [
      "In base 2: 101\n",
      "In base 8: 5\n",
      "In base 16: 5\n"
     ]
    }
   ],
   "source": [
    "bases_func(5)"
   ]
  },
  {
   "cell_type": "code",
   "execution_count": null,
   "id": "da8535c6",
   "metadata": {},
   "outputs": [],
   "source": []
  }
 ],
 "metadata": {
  "kernelspec": {
   "display_name": "Python 3",
   "language": "python",
   "name": "python3"
  },
  "language_info": {
   "codemirror_mode": {
    "name": "ipython",
    "version": 3
   },
   "file_extension": ".py",
   "mimetype": "text/x-python",
   "name": "python",
   "nbconvert_exporter": "python",
   "pygments_lexer": "ipython3",
   "version": "3.8.8"
  }
 },
 "nbformat": 4,
 "nbformat_minor": 5
}
