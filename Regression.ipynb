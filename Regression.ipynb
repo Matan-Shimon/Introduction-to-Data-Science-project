{
 "cells": [
  {
   "cell_type": "markdown",
   "metadata": {},
   "source": [
    "# Regression - Real Estate in Rishon Lezion"
   ]
  },
  {
   "cell_type": "code",
   "execution_count": null,
   "metadata": {},
   "outputs": [],
   "source": [
    "# Image"
   ]
  },
  {
   "cell_type": "markdown",
   "metadata": {},
   "source": [
    "Importing the neccesary libraries"
   ]
  },
  {
   "cell_type": "code",
   "execution_count": 1,
   "metadata": {},
   "outputs": [],
   "source": [
    "import numpy as np\n",
    "import pandas as pd\n",
    "import seaborn as sb\n",
    "import matplotlib.pyplot as plt\n",
    "%matplotlib inline\n",
    "from sklearn import linear_model\n",
    "from sklearn.linear_model import LinearRegression\n",
    "from sklearn.linear_model import LogisticRegression\n",
    "from sklearn.model_selection import GridSearchCV\n",
    "from sklearn.model_selection import train_test_split\n",
    "from sklearn.model_selection import cross_val_score\n",
    "from sklearn.linear_model import LogisticRegression\n",
    "from sklearn.ensemble import RandomForestRegressor\n",
    "from sklearn.dummy import DummyRegressor\n",
    "from sklearn.neighbors import KNeighborsRegressor\n",
    "from sklearn import metrics\n",
    "from sklearn.metrics import mean_squared_error, confusion_matrix\n",
    "from sklearn.preprocessing import MinMaxScaler\n",
    "import warnings\n",
    "warnings.filterwarnings('ignore')"
   ]
  },
  {
   "cell_type": "markdown",
   "metadata": {},
   "source": [
    "The csv file that we created from web scraping"
   ]
  },
  {
   "cell_type": "code",
   "execution_count": 2,
   "metadata": {},
   "outputs": [],
   "source": [
    "df = pd.read_csv('C:/Users/matan/OneDrive/שולחן העבודה/Data Science Project/Rishon_Lezion_Real_Estate.csv')"
   ]
  },
  {
   "cell_type": "code",
   "execution_count": 3,
   "metadata": {},
   "outputs": [
    {
     "data": {
      "text/html": [
       "<div>\n",
       "<style scoped>\n",
       "    .dataframe tbody tr th:only-of-type {\n",
       "        vertical-align: middle;\n",
       "    }\n",
       "\n",
       "    .dataframe tbody tr th {\n",
       "        vertical-align: top;\n",
       "    }\n",
       "\n",
       "    .dataframe thead th {\n",
       "        text-align: right;\n",
       "    }\n",
       "</style>\n",
       "<table border=\"1\" class=\"dataframe\">\n",
       "  <thead>\n",
       "    <tr style=\"text-align: right;\">\n",
       "      <th></th>\n",
       "      <th>index</th>\n",
       "      <th>Year sold</th>\n",
       "      <th>Month sold</th>\n",
       "      <th>Day sold</th>\n",
       "      <th>Street</th>\n",
       "      <th>Street number</th>\n",
       "      <th>Kind</th>\n",
       "      <th>Number of rooms</th>\n",
       "      <th>Floor</th>\n",
       "      <th>Squared meter</th>\n",
       "      <th>Price</th>\n",
       "    </tr>\n",
       "  </thead>\n",
       "  <tbody>\n",
       "    <tr>\n",
       "      <th>0</th>\n",
       "      <td>0</td>\n",
       "      <td>2021</td>\n",
       "      <td>12</td>\n",
       "      <td>20</td>\n",
       "      <td>נירים</td>\n",
       "      <td>3</td>\n",
       "      <td>דירה בבית קומות</td>\n",
       "      <td>6.0</td>\n",
       "      <td>6.0</td>\n",
       "      <td>134.60</td>\n",
       "      <td>3670000</td>\n",
       "    </tr>\n",
       "    <tr>\n",
       "      <th>1</th>\n",
       "      <td>1</td>\n",
       "      <td>2021</td>\n",
       "      <td>12</td>\n",
       "      <td>19</td>\n",
       "      <td>קרל נטר</td>\n",
       "      <td>6</td>\n",
       "      <td>דירה בבית קומות</td>\n",
       "      <td>3.0</td>\n",
       "      <td>3.0</td>\n",
       "      <td>81.00</td>\n",
       "      <td>1770000</td>\n",
       "    </tr>\n",
       "    <tr>\n",
       "      <th>2</th>\n",
       "      <td>2</td>\n",
       "      <td>2021</td>\n",
       "      <td>12</td>\n",
       "      <td>16</td>\n",
       "      <td>יהודה הלוי</td>\n",
       "      <td>27</td>\n",
       "      <td>דירה בבית קומות</td>\n",
       "      <td>5.0</td>\n",
       "      <td>5.0</td>\n",
       "      <td>120.00</td>\n",
       "      <td>2400000</td>\n",
       "    </tr>\n",
       "    <tr>\n",
       "      <th>3</th>\n",
       "      <td>3</td>\n",
       "      <td>2021</td>\n",
       "      <td>12</td>\n",
       "      <td>15</td>\n",
       "      <td>שרירא שמואל</td>\n",
       "      <td>17</td>\n",
       "      <td>דירה בבית קומות</td>\n",
       "      <td>4.0</td>\n",
       "      <td>2.0</td>\n",
       "      <td>64.32</td>\n",
       "      <td>2050000</td>\n",
       "    </tr>\n",
       "    <tr>\n",
       "      <th>4</th>\n",
       "      <td>4</td>\n",
       "      <td>2021</td>\n",
       "      <td>12</td>\n",
       "      <td>15</td>\n",
       "      <td>תרמ\"ב</td>\n",
       "      <td>30</td>\n",
       "      <td>דירה בבית קומות</td>\n",
       "      <td>3.0</td>\n",
       "      <td>3.0</td>\n",
       "      <td>80.98</td>\n",
       "      <td>1640000</td>\n",
       "    </tr>\n",
       "  </tbody>\n",
       "</table>\n",
       "</div>"
      ],
      "text/plain": [
       "   index  Year sold  Month sold  Day sold       Street  Street number  \\\n",
       "0      0       2021          12        20        נירים              3   \n",
       "1      1       2021          12        19      קרל נטר              6   \n",
       "2      2       2021          12        16   יהודה הלוי             27   \n",
       "3      3       2021          12        15  שרירא שמואל             17   \n",
       "4      4       2021          12        15        תרמ\"ב             30   \n",
       "\n",
       "              Kind  Number of rooms  Floor  Squared meter    Price  \n",
       "0  דירה בבית קומות              6.0    6.0         134.60  3670000  \n",
       "1  דירה בבית קומות              3.0    3.0          81.00  1770000  \n",
       "2  דירה בבית קומות              5.0    5.0         120.00  2400000  \n",
       "3  דירה בבית קומות              4.0    2.0          64.32  2050000  \n",
       "4  דירה בבית קומות              3.0    3.0          80.98  1640000  "
      ]
     },
     "execution_count": 3,
     "metadata": {},
     "output_type": "execute_result"
    }
   ],
   "source": [
    "df.head()"
   ]
  },
  {
   "cell_type": "code",
   "execution_count": 4,
   "metadata": {},
   "outputs": [
    {
     "data": {
      "text/html": [
       "<div>\n",
       "<style scoped>\n",
       "    .dataframe tbody tr th:only-of-type {\n",
       "        vertical-align: middle;\n",
       "    }\n",
       "\n",
       "    .dataframe tbody tr th {\n",
       "        vertical-align: top;\n",
       "    }\n",
       "\n",
       "    .dataframe thead th {\n",
       "        text-align: right;\n",
       "    }\n",
       "</style>\n",
       "<table border=\"1\" class=\"dataframe\">\n",
       "  <thead>\n",
       "    <tr style=\"text-align: right;\">\n",
       "      <th></th>\n",
       "      <th>index</th>\n",
       "      <th>Year sold</th>\n",
       "      <th>Month sold</th>\n",
       "      <th>Day sold</th>\n",
       "      <th>Street</th>\n",
       "      <th>Street number</th>\n",
       "      <th>Kind</th>\n",
       "      <th>Number of rooms</th>\n",
       "      <th>Floor</th>\n",
       "      <th>Squared meter</th>\n",
       "      <th>Price</th>\n",
       "    </tr>\n",
       "  </thead>\n",
       "  <tbody>\n",
       "    <tr>\n",
       "      <th>0</th>\n",
       "      <td>0</td>\n",
       "      <td>2021</td>\n",
       "      <td>12</td>\n",
       "      <td>20</td>\n",
       "      <td>נירים</td>\n",
       "      <td>3</td>\n",
       "      <td>דירה בבית קומות</td>\n",
       "      <td>6.0</td>\n",
       "      <td>6.0</td>\n",
       "      <td>134.60</td>\n",
       "      <td>3670000</td>\n",
       "    </tr>\n",
       "    <tr>\n",
       "      <th>1</th>\n",
       "      <td>1</td>\n",
       "      <td>2021</td>\n",
       "      <td>12</td>\n",
       "      <td>19</td>\n",
       "      <td>קרל נטר</td>\n",
       "      <td>6</td>\n",
       "      <td>דירה בבית קומות</td>\n",
       "      <td>3.0</td>\n",
       "      <td>3.0</td>\n",
       "      <td>81.00</td>\n",
       "      <td>1770000</td>\n",
       "    </tr>\n",
       "    <tr>\n",
       "      <th>2</th>\n",
       "      <td>2</td>\n",
       "      <td>2021</td>\n",
       "      <td>12</td>\n",
       "      <td>16</td>\n",
       "      <td>יהודה הלוי</td>\n",
       "      <td>27</td>\n",
       "      <td>דירה בבית קומות</td>\n",
       "      <td>5.0</td>\n",
       "      <td>5.0</td>\n",
       "      <td>120.00</td>\n",
       "      <td>2400000</td>\n",
       "    </tr>\n",
       "    <tr>\n",
       "      <th>3</th>\n",
       "      <td>3</td>\n",
       "      <td>2021</td>\n",
       "      <td>12</td>\n",
       "      <td>15</td>\n",
       "      <td>שרירא שמואל</td>\n",
       "      <td>17</td>\n",
       "      <td>דירה בבית קומות</td>\n",
       "      <td>4.0</td>\n",
       "      <td>2.0</td>\n",
       "      <td>64.32</td>\n",
       "      <td>2050000</td>\n",
       "    </tr>\n",
       "    <tr>\n",
       "      <th>4</th>\n",
       "      <td>4</td>\n",
       "      <td>2021</td>\n",
       "      <td>12</td>\n",
       "      <td>15</td>\n",
       "      <td>תרמ\"ב</td>\n",
       "      <td>30</td>\n",
       "      <td>דירה בבית קומות</td>\n",
       "      <td>3.0</td>\n",
       "      <td>3.0</td>\n",
       "      <td>80.98</td>\n",
       "      <td>1640000</td>\n",
       "    </tr>\n",
       "    <tr>\n",
       "      <th>...</th>\n",
       "      <td>...</td>\n",
       "      <td>...</td>\n",
       "      <td>...</td>\n",
       "      <td>...</td>\n",
       "      <td>...</td>\n",
       "      <td>...</td>\n",
       "      <td>...</td>\n",
       "      <td>...</td>\n",
       "      <td>...</td>\n",
       "      <td>...</td>\n",
       "      <td>...</td>\n",
       "    </tr>\n",
       "    <tr>\n",
       "      <th>19438</th>\n",
       "      <td>19438</td>\n",
       "      <td>2010</td>\n",
       "      <td>5</td>\n",
       "      <td>30</td>\n",
       "      <td>ההתיישבות</td>\n",
       "      <td>51</td>\n",
       "      <td>דירה בבית קומות</td>\n",
       "      <td>4.0</td>\n",
       "      <td>2.0</td>\n",
       "      <td>112.10</td>\n",
       "      <td>1345000</td>\n",
       "    </tr>\n",
       "    <tr>\n",
       "      <th>19439</th>\n",
       "      <td>19439</td>\n",
       "      <td>2010</td>\n",
       "      <td>5</td>\n",
       "      <td>30</td>\n",
       "      <td>מזרחי משה</td>\n",
       "      <td>5</td>\n",
       "      <td>דירה בבית קומות</td>\n",
       "      <td>4.0</td>\n",
       "      <td>3.0</td>\n",
       "      <td>90.00</td>\n",
       "      <td>900000</td>\n",
       "    </tr>\n",
       "    <tr>\n",
       "      <th>19440</th>\n",
       "      <td>19440</td>\n",
       "      <td>2010</td>\n",
       "      <td>5</td>\n",
       "      <td>30</td>\n",
       "      <td>שז\"ר זלמן</td>\n",
       "      <td>28</td>\n",
       "      <td>דירה</td>\n",
       "      <td>4.0</td>\n",
       "      <td>2.0</td>\n",
       "      <td>126.00</td>\n",
       "      <td>1725000</td>\n",
       "    </tr>\n",
       "    <tr>\n",
       "      <th>19441</th>\n",
       "      <td>19441</td>\n",
       "      <td>2010</td>\n",
       "      <td>5</td>\n",
       "      <td>30</td>\n",
       "      <td>תרמ\"ב</td>\n",
       "      <td>13</td>\n",
       "      <td>דירה בבית קומות</td>\n",
       "      <td>3.0</td>\n",
       "      <td>20.0</td>\n",
       "      <td>78.40</td>\n",
       "      <td>1350000</td>\n",
       "    </tr>\n",
       "    <tr>\n",
       "      <th>19442</th>\n",
       "      <td>19442</td>\n",
       "      <td>2010</td>\n",
       "      <td>5</td>\n",
       "      <td>28</td>\n",
       "      <td>הגפן</td>\n",
       "      <td>1</td>\n",
       "      <td>דירה בבית קומות</td>\n",
       "      <td>4.0</td>\n",
       "      <td>4.0</td>\n",
       "      <td>91.73</td>\n",
       "      <td>1200000</td>\n",
       "    </tr>\n",
       "  </tbody>\n",
       "</table>\n",
       "<p>19443 rows × 11 columns</p>\n",
       "</div>"
      ],
      "text/plain": [
       "       index  Year sold  Month sold  Day sold       Street  Street number  \\\n",
       "0          0       2021          12        20        נירים              3   \n",
       "1          1       2021          12        19      קרל נטר              6   \n",
       "2          2       2021          12        16   יהודה הלוי             27   \n",
       "3          3       2021          12        15  שרירא שמואל             17   \n",
       "4          4       2021          12        15        תרמ\"ב             30   \n",
       "...      ...        ...         ...       ...          ...            ...   \n",
       "19438  19438       2010           5        30    ההתיישבות             51   \n",
       "19439  19439       2010           5        30    מזרחי משה              5   \n",
       "19440  19440       2010           5        30    שז\"ר זלמן             28   \n",
       "19441  19441       2010           5        30        תרמ\"ב             13   \n",
       "19442  19442       2010           5        28         הגפן              1   \n",
       "\n",
       "                  Kind  Number of rooms  Floor  Squared meter    Price  \n",
       "0      דירה בבית קומות              6.0    6.0         134.60  3670000  \n",
       "1      דירה בבית קומות              3.0    3.0          81.00  1770000  \n",
       "2      דירה בבית קומות              5.0    5.0         120.00  2400000  \n",
       "3      דירה בבית קומות              4.0    2.0          64.32  2050000  \n",
       "4      דירה בבית קומות              3.0    3.0          80.98  1640000  \n",
       "...                ...              ...    ...            ...      ...  \n",
       "19438  דירה בבית קומות              4.0    2.0         112.10  1345000  \n",
       "19439  דירה בבית קומות              4.0    3.0          90.00   900000  \n",
       "19440             דירה              4.0    2.0         126.00  1725000  \n",
       "19441  דירה בבית קומות              3.0   20.0          78.40  1350000  \n",
       "19442  דירה בבית קומות              4.0    4.0          91.73  1200000  \n",
       "\n",
       "[19443 rows x 11 columns]"
      ]
     },
     "execution_count": 4,
     "metadata": {},
     "output_type": "execute_result"
    }
   ],
   "source": [
    "df"
   ]
  },
  {
   "cell_type": "markdown",
   "metadata": {},
   "source": [
    "Replace text to integers in column 'Kind' by levels"
   ]
  },
  {
   "cell_type": "code",
   "execution_count": 5,
   "metadata": {},
   "outputs": [],
   "source": [
    "df[\"Kind\"].replace({\"דירה\": \"1\", \"דירה בבית קומות\": \"1\"}, inplace=True)\n",
    "df[\"Kind\"].replace({\"דירת גן\": \"2\"}, inplace=True)\n",
    "df[\"Kind\"].replace({\"דירת גג\": \"3\", \"דירת גג (פנטהאוז)\": \"3\"}, inplace=True)"
   ]
  },
  {
   "cell_type": "markdown",
   "metadata": {},
   "source": [
    "Removing the unnecesary columns"
   ]
  },
  {
   "cell_type": "code",
   "execution_count": 6,
   "metadata": {},
   "outputs": [
    {
     "data": {
      "text/plain": [
       "0            0\n",
       "1            1\n",
       "2            2\n",
       "3            3\n",
       "4            4\n",
       "         ...  \n",
       "19438    19438\n",
       "19439    19439\n",
       "19440    19440\n",
       "19441    19441\n",
       "19442    19442\n",
       "Name: index, Length: 19443, dtype: int64"
      ]
     },
     "execution_count": 6,
     "metadata": {},
     "output_type": "execute_result"
    }
   ],
   "source": [
    "df.pop('index')\n",
    "#df.pop('Day sold')\n",
    "#df.pop('Street number')"
   ]
  },
  {
   "cell_type": "code",
   "execution_count": 7,
   "metadata": {},
   "outputs": [
    {
     "data": {
      "text/html": [
       "<div>\n",
       "<style scoped>\n",
       "    .dataframe tbody tr th:only-of-type {\n",
       "        vertical-align: middle;\n",
       "    }\n",
       "\n",
       "    .dataframe tbody tr th {\n",
       "        vertical-align: top;\n",
       "    }\n",
       "\n",
       "    .dataframe thead th {\n",
       "        text-align: right;\n",
       "    }\n",
       "</style>\n",
       "<table border=\"1\" class=\"dataframe\">\n",
       "  <thead>\n",
       "    <tr style=\"text-align: right;\">\n",
       "      <th></th>\n",
       "      <th>Year sold</th>\n",
       "      <th>Month sold</th>\n",
       "      <th>Day sold</th>\n",
       "      <th>Street</th>\n",
       "      <th>Street number</th>\n",
       "      <th>Kind</th>\n",
       "      <th>Number of rooms</th>\n",
       "      <th>Floor</th>\n",
       "      <th>Squared meter</th>\n",
       "      <th>Price</th>\n",
       "    </tr>\n",
       "  </thead>\n",
       "  <tbody>\n",
       "    <tr>\n",
       "      <th>0</th>\n",
       "      <td>2021</td>\n",
       "      <td>12</td>\n",
       "      <td>20</td>\n",
       "      <td>נירים</td>\n",
       "      <td>3</td>\n",
       "      <td>1</td>\n",
       "      <td>6.0</td>\n",
       "      <td>6.0</td>\n",
       "      <td>134.60</td>\n",
       "      <td>3670000</td>\n",
       "    </tr>\n",
       "    <tr>\n",
       "      <th>1</th>\n",
       "      <td>2021</td>\n",
       "      <td>12</td>\n",
       "      <td>19</td>\n",
       "      <td>קרל נטר</td>\n",
       "      <td>6</td>\n",
       "      <td>1</td>\n",
       "      <td>3.0</td>\n",
       "      <td>3.0</td>\n",
       "      <td>81.00</td>\n",
       "      <td>1770000</td>\n",
       "    </tr>\n",
       "    <tr>\n",
       "      <th>2</th>\n",
       "      <td>2021</td>\n",
       "      <td>12</td>\n",
       "      <td>16</td>\n",
       "      <td>יהודה הלוי</td>\n",
       "      <td>27</td>\n",
       "      <td>1</td>\n",
       "      <td>5.0</td>\n",
       "      <td>5.0</td>\n",
       "      <td>120.00</td>\n",
       "      <td>2400000</td>\n",
       "    </tr>\n",
       "    <tr>\n",
       "      <th>3</th>\n",
       "      <td>2021</td>\n",
       "      <td>12</td>\n",
       "      <td>15</td>\n",
       "      <td>שרירא שמואל</td>\n",
       "      <td>17</td>\n",
       "      <td>1</td>\n",
       "      <td>4.0</td>\n",
       "      <td>2.0</td>\n",
       "      <td>64.32</td>\n",
       "      <td>2050000</td>\n",
       "    </tr>\n",
       "    <tr>\n",
       "      <th>4</th>\n",
       "      <td>2021</td>\n",
       "      <td>12</td>\n",
       "      <td>15</td>\n",
       "      <td>תרמ\"ב</td>\n",
       "      <td>30</td>\n",
       "      <td>1</td>\n",
       "      <td>3.0</td>\n",
       "      <td>3.0</td>\n",
       "      <td>80.98</td>\n",
       "      <td>1640000</td>\n",
       "    </tr>\n",
       "  </tbody>\n",
       "</table>\n",
       "</div>"
      ],
      "text/plain": [
       "   Year sold  Month sold  Day sold       Street  Street number Kind  \\\n",
       "0       2021          12        20        נירים              3    1   \n",
       "1       2021          12        19      קרל נטר              6    1   \n",
       "2       2021          12        16   יהודה הלוי             27    1   \n",
       "3       2021          12        15  שרירא שמואל             17    1   \n",
       "4       2021          12        15        תרמ\"ב             30    1   \n",
       "\n",
       "   Number of rooms  Floor  Squared meter    Price  \n",
       "0              6.0    6.0         134.60  3670000  \n",
       "1              3.0    3.0          81.00  1770000  \n",
       "2              5.0    5.0         120.00  2400000  \n",
       "3              4.0    2.0          64.32  2050000  \n",
       "4              3.0    3.0          80.98  1640000  "
      ]
     },
     "execution_count": 7,
     "metadata": {},
     "output_type": "execute_result"
    }
   ],
   "source": [
    "df.head()"
   ]
  },
  {
   "cell_type": "markdown",
   "metadata": {},
   "source": [
    "Description for the columns stats"
   ]
  },
  {
   "cell_type": "code",
   "execution_count": 11,
   "metadata": {},
   "outputs": [
    {
     "data": {
      "text/html": [
       "<div>\n",
       "<style scoped>\n",
       "    .dataframe tbody tr th:only-of-type {\n",
       "        vertical-align: middle;\n",
       "    }\n",
       "\n",
       "    .dataframe tbody tr th {\n",
       "        vertical-align: top;\n",
       "    }\n",
       "\n",
       "    .dataframe thead th {\n",
       "        text-align: right;\n",
       "    }\n",
       "</style>\n",
       "<table border=\"1\" class=\"dataframe\">\n",
       "  <thead>\n",
       "    <tr style=\"text-align: right;\">\n",
       "      <th></th>\n",
       "      <th>Year sold</th>\n",
       "      <th>Month sold</th>\n",
       "      <th>Number of rooms</th>\n",
       "      <th>Floor</th>\n",
       "      <th>Squared meter</th>\n",
       "      <th>Price</th>\n",
       "    </tr>\n",
       "  </thead>\n",
       "  <tbody>\n",
       "    <tr>\n",
       "      <th>count</th>\n",
       "      <td>19443.000000</td>\n",
       "      <td>19443.000000</td>\n",
       "      <td>19443.000000</td>\n",
       "      <td>19443.000000</td>\n",
       "      <td>19443.000000</td>\n",
       "      <td>1.944300e+04</td>\n",
       "    </tr>\n",
       "    <tr>\n",
       "      <th>mean</th>\n",
       "      <td>2015.785064</td>\n",
       "      <td>6.581340</td>\n",
       "      <td>3.742637</td>\n",
       "      <td>3.914519</td>\n",
       "      <td>86.776765</td>\n",
       "      <td>1.581540e+06</td>\n",
       "    </tr>\n",
       "    <tr>\n",
       "      <th>std</th>\n",
       "      <td>3.333801</td>\n",
       "      <td>3.488176</td>\n",
       "      <td>0.858536</td>\n",
       "      <td>3.365243</td>\n",
       "      <td>32.624374</td>\n",
       "      <td>1.305453e+06</td>\n",
       "    </tr>\n",
       "    <tr>\n",
       "      <th>min</th>\n",
       "      <td>2010.000000</td>\n",
       "      <td>1.000000</td>\n",
       "      <td>1.000000</td>\n",
       "      <td>0.000000</td>\n",
       "      <td>21.500000</td>\n",
       "      <td>8.200000e+04</td>\n",
       "    </tr>\n",
       "    <tr>\n",
       "      <th>25%</th>\n",
       "      <td>2013.000000</td>\n",
       "      <td>3.000000</td>\n",
       "      <td>3.000000</td>\n",
       "      <td>2.000000</td>\n",
       "      <td>66.730000</td>\n",
       "      <td>1.219142e+06</td>\n",
       "    </tr>\n",
       "    <tr>\n",
       "      <th>50%</th>\n",
       "      <td>2016.000000</td>\n",
       "      <td>7.000000</td>\n",
       "      <td>4.000000</td>\n",
       "      <td>3.000000</td>\n",
       "      <td>83.590000</td>\n",
       "      <td>1.490000e+06</td>\n",
       "    </tr>\n",
       "    <tr>\n",
       "      <th>75%</th>\n",
       "      <td>2019.000000</td>\n",
       "      <td>10.000000</td>\n",
       "      <td>4.000000</td>\n",
       "      <td>5.000000</td>\n",
       "      <td>102.000000</td>\n",
       "      <td>1.800000e+06</td>\n",
       "    </tr>\n",
       "    <tr>\n",
       "      <th>max</th>\n",
       "      <td>2021.000000</td>\n",
       "      <td>12.000000</td>\n",
       "      <td>9.000000</td>\n",
       "      <td>26.000000</td>\n",
       "      <td>1950.000000</td>\n",
       "      <td>1.060000e+08</td>\n",
       "    </tr>\n",
       "  </tbody>\n",
       "</table>\n",
       "</div>"
      ],
      "text/plain": [
       "          Year sold    Month sold  Number of rooms         Floor  \\\n",
       "count  19443.000000  19443.000000     19443.000000  19443.000000   \n",
       "mean    2015.785064      6.581340         3.742637      3.914519   \n",
       "std        3.333801      3.488176         0.858536      3.365243   \n",
       "min     2010.000000      1.000000         1.000000      0.000000   \n",
       "25%     2013.000000      3.000000         3.000000      2.000000   \n",
       "50%     2016.000000      7.000000         4.000000      3.000000   \n",
       "75%     2019.000000     10.000000         4.000000      5.000000   \n",
       "max     2021.000000     12.000000         9.000000     26.000000   \n",
       "\n",
       "       Squared meter         Price  \n",
       "count   19443.000000  1.944300e+04  \n",
       "mean       86.776765  1.581540e+06  \n",
       "std        32.624374  1.305453e+06  \n",
       "min        21.500000  8.200000e+04  \n",
       "25%        66.730000  1.219142e+06  \n",
       "50%        83.590000  1.490000e+06  \n",
       "75%       102.000000  1.800000e+06  \n",
       "max      1950.000000  1.060000e+08  "
      ]
     },
     "execution_count": 11,
     "metadata": {},
     "output_type": "execute_result"
    }
   ],
   "source": [
    "df.describe()"
   ]
  },
  {
   "cell_type": "markdown",
   "metadata": {},
   "source": [
    "Correlation matrix.\n",
    "\n",
    "From here we can see which columns are more correlated to the 'Price' column,\n",
    "and which columns aren't."
   ]
  },
  {
   "cell_type": "code",
   "execution_count": null,
   "metadata": {},
   "outputs": [],
   "source": [
    "plt.figure(figsize=(16, 8))\n",
    "sb.heatmap(df.corr(), cmap = 'Blues', annot=True);"
   ]
  },
  {
   "cell_type": "markdown",
   "metadata": {},
   "source": [
    "Ploting the columns"
   ]
  },
  {
   "cell_type": "code",
   "execution_count": 12,
   "metadata": {},
   "outputs": [
    {
     "data": {
      "image/png": "[encoded data removed]",
      "text/plain": [
       "<Figure size 1440x1080 with 6 Axes>"
      ]
     },
     "metadata": {
      "needs_background": "light"
     },
     "output_type": "display_data"
    }
   ],
   "source": [
    "df.hist(bins=50, figsize=(20,15))\n",
    "plt.show()"
   ]
  },
  {
   "cell_type": "markdown",
   "metadata": {},
   "source": [
    "Cleaning outliers"
   ]
  },
  {
   "cell_type": "code",
   "execution_count": 13,
   "metadata": {},
   "outputs": [],
   "source": [
    "df = df.loc[df['Floor'] < 10]\n",
    "df = df.loc[(df['Number of rooms'] > 1) & (df['Number of rooms'] < 7)]\n",
    "df = df.loc[df['Squared meter'] < 250]\n",
    "df = df.loc[df['Price'] < 10000000]"
   ]
  },
  {
   "cell_type": "markdown",
   "metadata": {},
   "source": [
    "Ploting again to check if there are more specific outliers"
   ]
  },
  {
   "cell_type": "code",
   "execution_count": 14,
   "metadata": {},
   "outputs": [
    {
     "data": {
      "image/png": "[encoded data removed]",
      "text/plain": [
       "<Figure size 1440x1080 with 6 Axes>"
      ]
     },
     "metadata": {
      "needs_background": "light"
     },
     "output_type": "display_data"
    }
   ],
   "source": [
    "df.hist(bins=50, figsize=(20,15))\n",
    "plt.show()"
   ]
  },
  {
   "cell_type": "markdown",
   "metadata": {},
   "source": [
    "Cleaning outliers again (more specific)"
   ]
  },
  {
   "cell_type": "code",
   "execution_count": 15,
   "metadata": {},
   "outputs": [],
   "source": [
    "df = df.loc[df['Squared meter'] <= 150]\n",
    "df = df.loc[df['Price'] < 3000000]"
   ]
  },
  {
   "cell_type": "markdown",
   "metadata": {},
   "source": [
    "An updated heat map"
   ]
  },
  {
   "cell_type": "code",
   "execution_count": 16,
   "metadata": {},
   "outputs": [
    {
     "data": {
      "image/png": "[encoded data removed]",
      "text/plain": [
       "<Figure size 1440x720 with 2 Axes>"
      ]
     },
     "metadata": {
      "needs_background": "light"
     },
     "output_type": "display_data"
    }
   ],
   "source": [
    "plt.figure(figsize=(20, 10))\n",
    "sb.heatmap(df.corr(), cmap = 'Blues', annot=True);"
   ]
  },
  {
   "cell_type": "markdown",
   "metadata": {},
   "source": [
    "As we can see from the correlation map,\n",
    "the Month sold and Price columns are almost not correlated at all.\n",
    "\n",
    "Therfore, we will drop the 'Month sold' column (Maybe some other columns too)"
   ]
  },
  {
   "cell_type": "code",
   "execution_count": 19,
   "metadata": {},
   "outputs": [],
   "source": [
    "df = df.drop('Month sold', axis=1)\n",
    "# maybe some more columns"
   ]
  },
  {
   "cell_type": "code",
   "execution_count": 20,
   "metadata": {},
   "outputs": [
    {
     "data": {
      "image/png": "[encoded data removed]",
      "text/plain": [
       "<Figure size 432x288 with 1 Axes>"
      ]
     },
     "metadata": {
      "needs_background": "light"
     },
     "output_type": "display_data"
    },
    {
     "data": {
      "image/png": "[encoded data removed]",
      "text/plain": [
       "<Figure size 432x288 with 1 Axes>"
      ]
     },
     "metadata": {
      "needs_background": "light"
     },
     "output_type": "display_data"
    },
    {
     "data": {
      "image/png": "[encoded data removed]",
      "text/plain": [
       "<Figure size 432x288 with 1 Axes>"
      ]
     },
     "metadata": {
      "needs_background": "light"
     },
     "output_type": "display_data"
    },
    {
     "data": {
      "image/png": "[encoded data removed]",
      "text/plain": [
       "<Figure size 432x288 with 1 Axes>"
      ]
     },
     "metadata": {
      "needs_background": "light"
     },
     "output_type": "display_data"
    }
   ],
   "source": [
    "sb.scatterplot(x = df['Price'], y = df['Year sold'], color='blue')\n",
    "plt.title(\"Price VS Year sold\")\n",
    "plt.show()\n",
    "\n",
    "sb.scatterplot(x = df['Price'], y = df['Number of rooms'], color='red')\n",
    "plt.title(\"Price VS Number of rooms\")\n",
    "plt.show()\n",
    "\n",
    "sb.scatterplot(x = df['Price'], y = df['Floor'], color='green')\n",
    "plt.title(\"Price VS Floor\")\n",
    "plt.show()\n",
    "\n",
    "sb.scatterplot(x = df['Price'], y = df['Squared meter'], color='orange')\n",
    "plt.title(\"Price VS Squared meter\")\n",
    "plt.show()"
   ]
  },
  {
   "cell_type": "code",
   "execution_count": 21,
   "metadata": {},
   "outputs": [
    {
     "data": {
      "image/png": "[encoded data removed]",
      "text/plain": [
       "<Figure size 432x288 with 1 Axes>"
      ]
     },
     "metadata": {
      "needs_background": "light"
     },
     "output_type": "display_data"
    }
   ],
   "source": [
    "ax = sb.regplot(x=\"Price\", y=\"Year sold\", data=df, fit_reg=True, scatter_kws={\"color\": \"grey\"}, line_kws={\"color\": \"blue\"})\n",
    "ax.set_title(\"Regression Line: Price VS Year sold\", color=\"black\", loc='left');"
   ]
  },
  {
   "cell_type": "code",
   "execution_count": 22,
   "metadata": {},
   "outputs": [
    {
     "data": {
      "image/png": "[encoded data removed]",
      "text/plain": [
       "<Figure size 432x288 with 1 Axes>"
      ]
     },
     "metadata": {
      "needs_background": "light"
     },
     "output_type": "display_data"
    }
   ],
   "source": [
    "ax = sb.regplot(x=\"Price\", y=\"Number of rooms\", data=df, fit_reg=True, scatter_kws={\"color\": \"grey\"}, line_kws={\"color\": \"red\"})\n",
    "ax.set_title(\"Regression Line: Price VS Number of rooms\", color=\"black\", loc='left');"
   ]
  },
  {
   "cell_type": "code",
   "execution_count": 23,
   "metadata": {},
   "outputs": [
    {
     "data": {
      "image/png": "[encoded data removed]",
      "text/plain": [
       "<Figure size 432x288 with 1 Axes>"
      ]
     },
     "metadata": {
      "needs_background": "light"
     },
     "output_type": "display_data"
    }
   ],
   "source": [
    "ax = sb.regplot(x=\"Price\", y=\"Floor\", data=df, fit_reg=True, scatter_kws={\"color\": \"grey\"}, line_kws={\"color\": \"green\"})\n",
    "ax.set_title(\"Regression Line: Price VS Floor\", color=\"black\", loc='left');"
   ]
  },
  {
   "cell_type": "code",
   "execution_count": 24,
   "metadata": {},
   "outputs": [
    {
     "data": {
      "image/png": "[encoded data removed]",
      "text/plain": [
       "<Figure size 432x288 with 1 Axes>"
      ]
     },
     "metadata": {
      "needs_background": "light"
     },
     "output_type": "display_data"
    }
   ],
   "source": [
    "ax = sb.regplot(x=\"Price\", y=\"Squared meter\", data=df, fit_reg=True, scatter_kws={\"color\": \"grey\"}, line_kws={\"color\": \"orange\"})\n",
    "ax.set_title(\"Regression Line: Price VS Squared meter\", color=\"black\", loc='left');"
   ]
  },
  {
   "cell_type": "code",
   "execution_count": 25,
   "metadata": {},
   "outputs": [
    {
     "data": {
      "text/html": [
       "<div>\n",
       "<style scoped>\n",
       "    .dataframe tbody tr th:only-of-type {\n",
       "        vertical-align: middle;\n",
       "    }\n",
       "\n",
       "    .dataframe tbody tr th {\n",
       "        vertical-align: top;\n",
       "    }\n",
       "\n",
       "    .dataframe thead th {\n",
       "        text-align: right;\n",
       "    }\n",
       "</style>\n",
       "<table border=\"1\" class=\"dataframe\">\n",
       "  <thead>\n",
       "    <tr style=\"text-align: right;\">\n",
       "      <th></th>\n",
       "      <th>Year sold</th>\n",
       "      <th>Number of rooms</th>\n",
       "      <th>Floor</th>\n",
       "      <th>Squared meter</th>\n",
       "      <th>Price</th>\n",
       "    </tr>\n",
       "  </thead>\n",
       "  <tbody>\n",
       "    <tr>\n",
       "      <th>count</th>\n",
       "      <td>17955.000000</td>\n",
       "      <td>17955.000000</td>\n",
       "      <td>17955.000000</td>\n",
       "      <td>17955.000000</td>\n",
       "      <td>1.795500e+04</td>\n",
       "    </tr>\n",
       "    <tr>\n",
       "      <th>mean</th>\n",
       "      <td>2015.820162</td>\n",
       "      <td>3.680401</td>\n",
       "      <td>3.268338</td>\n",
       "      <td>83.708588</td>\n",
       "      <td>1.490254e+06</td>\n",
       "    </tr>\n",
       "    <tr>\n",
       "      <th>std</th>\n",
       "      <td>3.323506</td>\n",
       "      <td>0.812672</td>\n",
       "      <td>2.077494</td>\n",
       "      <td>23.196421</td>\n",
       "      <td>4.434619e+05</td>\n",
       "    </tr>\n",
       "    <tr>\n",
       "      <th>min</th>\n",
       "      <td>2010.000000</td>\n",
       "      <td>1.500000</td>\n",
       "      <td>0.000000</td>\n",
       "      <td>22.000000</td>\n",
       "      <td>1.060000e+05</td>\n",
       "    </tr>\n",
       "    <tr>\n",
       "      <th>25%</th>\n",
       "      <td>2013.000000</td>\n",
       "      <td>3.000000</td>\n",
       "      <td>2.000000</td>\n",
       "      <td>65.745000</td>\n",
       "      <td>1.200000e+06</td>\n",
       "    </tr>\n",
       "    <tr>\n",
       "      <th>50%</th>\n",
       "      <td>2016.000000</td>\n",
       "      <td>4.000000</td>\n",
       "      <td>3.000000</td>\n",
       "      <td>81.700000</td>\n",
       "      <td>1.450000e+06</td>\n",
       "    </tr>\n",
       "    <tr>\n",
       "      <th>75%</th>\n",
       "      <td>2019.000000</td>\n",
       "      <td>4.000000</td>\n",
       "      <td>4.000000</td>\n",
       "      <td>99.000000</td>\n",
       "      <td>1.740000e+06</td>\n",
       "    </tr>\n",
       "    <tr>\n",
       "      <th>max</th>\n",
       "      <td>2021.000000</td>\n",
       "      <td>6.000000</td>\n",
       "      <td>9.000000</td>\n",
       "      <td>150.000000</td>\n",
       "      <td>2.999000e+06</td>\n",
       "    </tr>\n",
       "  </tbody>\n",
       "</table>\n",
       "</div>"
      ],
      "text/plain": [
       "          Year sold  Number of rooms         Floor  Squared meter  \\\n",
       "count  17955.000000     17955.000000  17955.000000   17955.000000   \n",
       "mean    2015.820162         3.680401      3.268338      83.708588   \n",
       "std        3.323506         0.812672      2.077494      23.196421   \n",
       "min     2010.000000         1.500000      0.000000      22.000000   \n",
       "25%     2013.000000         3.000000      2.000000      65.745000   \n",
       "50%     2016.000000         4.000000      3.000000      81.700000   \n",
       "75%     2019.000000         4.000000      4.000000      99.000000   \n",
       "max     2021.000000         6.000000      9.000000     150.000000   \n",
       "\n",
       "              Price  \n",
       "count  1.795500e+04  \n",
       "mean   1.490254e+06  \n",
       "std    4.434619e+05  \n",
       "min    1.060000e+05  \n",
       "25%    1.200000e+06  \n",
       "50%    1.450000e+06  \n",
       "75%    1.740000e+06  \n",
       "max    2.999000e+06  "
      ]
     },
     "execution_count": 25,
     "metadata": {},
     "output_type": "execute_result"
    }
   ],
   "source": [
    "df.describe()"
   ]
  },
  {
   "cell_type": "markdown",
   "metadata": {},
   "source": [
    "We checked two options (and some more that we prefered not to show them).\n",
    "\n",
    "one without streets at all, and one with get dummies function on the 'Street' column."
   ]
  },
  {
   "cell_type": "code",
   "execution_count": 27,
   "metadata": {},
   "outputs": [],
   "source": [
    "df_without_street = df.drop('Street', axis=1)\n",
    "df_with_street_dummies = pd.get_dummies(df, columns = ['Street'], prefix = '', prefix_sep = '')"
   ]
  },
  {
   "cell_type": "code",
   "execution_count": 28,
   "metadata": {},
   "outputs": [
    {
     "data": {
      "text/html": [
       "<div>\n",
       "<style scoped>\n",
       "    .dataframe tbody tr th:only-of-type {\n",
       "        vertical-align: middle;\n",
       "    }\n",
       "\n",
       "    .dataframe tbody tr th {\n",
       "        vertical-align: top;\n",
       "    }\n",
       "\n",
       "    .dataframe thead th {\n",
       "        text-align: right;\n",
       "    }\n",
       "</style>\n",
       "<table border=\"1\" class=\"dataframe\">\n",
       "  <thead>\n",
       "    <tr style=\"text-align: right;\">\n",
       "      <th></th>\n",
       "      <th>Year sold</th>\n",
       "      <th>Street</th>\n",
       "      <th>Kind</th>\n",
       "      <th>Number of rooms</th>\n",
       "      <th>Floor</th>\n",
       "      <th>Squared meter</th>\n",
       "      <th>Price</th>\n",
       "    </tr>\n",
       "  </thead>\n",
       "  <tbody>\n",
       "    <tr>\n",
       "      <th>1</th>\n",
       "      <td>2021</td>\n",
       "      <td>קרל נטר</td>\n",
       "      <td>1</td>\n",
       "      <td>3.0</td>\n",
       "      <td>3.0</td>\n",
       "      <td>81.00</td>\n",
       "      <td>1770000</td>\n",
       "    </tr>\n",
       "    <tr>\n",
       "      <th>2</th>\n",
       "      <td>2021</td>\n",
       "      <td>יהודה הלוי</td>\n",
       "      <td>1</td>\n",
       "      <td>5.0</td>\n",
       "      <td>5.0</td>\n",
       "      <td>120.00</td>\n",
       "      <td>2400000</td>\n",
       "    </tr>\n",
       "    <tr>\n",
       "      <th>3</th>\n",
       "      <td>2021</td>\n",
       "      <td>שרירא שמואל</td>\n",
       "      <td>1</td>\n",
       "      <td>4.0</td>\n",
       "      <td>2.0</td>\n",
       "      <td>64.32</td>\n",
       "      <td>2050000</td>\n",
       "    </tr>\n",
       "    <tr>\n",
       "      <th>4</th>\n",
       "      <td>2021</td>\n",
       "      <td>תרמ\"ב</td>\n",
       "      <td>1</td>\n",
       "      <td>3.0</td>\n",
       "      <td>3.0</td>\n",
       "      <td>80.98</td>\n",
       "      <td>1640000</td>\n",
       "    </tr>\n",
       "    <tr>\n",
       "      <th>5</th>\n",
       "      <td>2021</td>\n",
       "      <td>רש\"י</td>\n",
       "      <td>1</td>\n",
       "      <td>4.0</td>\n",
       "      <td>2.0</td>\n",
       "      <td>86.44</td>\n",
       "      <td>1710000</td>\n",
       "    </tr>\n",
       "  </tbody>\n",
       "</table>\n",
       "</div>"
      ],
      "text/plain": [
       "   Year sold       Street Kind  Number of rooms  Floor  Squared meter    Price\n",
       "1       2021      קרל נטר    1              3.0    3.0          81.00  1770000\n",
       "2       2021   יהודה הלוי    1              5.0    5.0         120.00  2400000\n",
       "3       2021  שרירא שמואל    1              4.0    2.0          64.32  2050000\n",
       "4       2021        תרמ\"ב    1              3.0    3.0          80.98  1640000\n",
       "5       2021         רש\"י    1              4.0    2.0          86.44  1710000"
      ]
     },
     "execution_count": 28,
     "metadata": {},
     "output_type": "execute_result"
    }
   ],
   "source": [
    "df.head()"
   ]
  },
  {
   "cell_type": "code",
   "execution_count": 29,
   "metadata": {},
   "outputs": [
    {
     "data": {
      "text/html": [
       "<div>\n",
       "<style scoped>\n",
       "    .dataframe tbody tr th:only-of-type {\n",
       "        vertical-align: middle;\n",
       "    }\n",
       "\n",
       "    .dataframe tbody tr th {\n",
       "        vertical-align: top;\n",
       "    }\n",
       "\n",
       "    .dataframe thead th {\n",
       "        text-align: right;\n",
       "    }\n",
       "</style>\n",
       "<table border=\"1\" class=\"dataframe\">\n",
       "  <thead>\n",
       "    <tr style=\"text-align: right;\">\n",
       "      <th></th>\n",
       "      <th>Year sold</th>\n",
       "      <th>Kind</th>\n",
       "      <th>Number of rooms</th>\n",
       "      <th>Floor</th>\n",
       "      <th>Squared meter</th>\n",
       "      <th>Price</th>\n",
       "    </tr>\n",
       "  </thead>\n",
       "  <tbody>\n",
       "    <tr>\n",
       "      <th>1</th>\n",
       "      <td>2021</td>\n",
       "      <td>1</td>\n",
       "      <td>3.0</td>\n",
       "      <td>3.0</td>\n",
       "      <td>81.00</td>\n",
       "      <td>1770000</td>\n",
       "    </tr>\n",
       "    <tr>\n",
       "      <th>2</th>\n",
       "      <td>2021</td>\n",
       "      <td>1</td>\n",
       "      <td>5.0</td>\n",
       "      <td>5.0</td>\n",
       "      <td>120.00</td>\n",
       "      <td>2400000</td>\n",
       "    </tr>\n",
       "    <tr>\n",
       "      <th>3</th>\n",
       "      <td>2021</td>\n",
       "      <td>1</td>\n",
       "      <td>4.0</td>\n",
       "      <td>2.0</td>\n",
       "      <td>64.32</td>\n",
       "      <td>2050000</td>\n",
       "    </tr>\n",
       "    <tr>\n",
       "      <th>4</th>\n",
       "      <td>2021</td>\n",
       "      <td>1</td>\n",
       "      <td>3.0</td>\n",
       "      <td>3.0</td>\n",
       "      <td>80.98</td>\n",
       "      <td>1640000</td>\n",
       "    </tr>\n",
       "    <tr>\n",
       "      <th>5</th>\n",
       "      <td>2021</td>\n",
       "      <td>1</td>\n",
       "      <td>4.0</td>\n",
       "      <td>2.0</td>\n",
       "      <td>86.44</td>\n",
       "      <td>1710000</td>\n",
       "    </tr>\n",
       "  </tbody>\n",
       "</table>\n",
       "</div>"
      ],
      "text/plain": [
       "   Year sold Kind  Number of rooms  Floor  Squared meter    Price\n",
       "1       2021    1              3.0    3.0          81.00  1770000\n",
       "2       2021    1              5.0    5.0         120.00  2400000\n",
       "3       2021    1              4.0    2.0          64.32  2050000\n",
       "4       2021    1              3.0    3.0          80.98  1640000\n",
       "5       2021    1              4.0    2.0          86.44  1710000"
      ]
     },
     "execution_count": 29,
     "metadata": {},
     "output_type": "execute_result"
    }
   ],
   "source": [
    "df_without_street.head()"
   ]
  },
  {
   "cell_type": "code",
   "execution_count": 30,
   "metadata": {},
   "outputs": [
    {
     "data": {
      "text/html": [
       "<div>\n",
       "<style scoped>\n",
       "    .dataframe tbody tr th:only-of-type {\n",
       "        vertical-align: middle;\n",
       "    }\n",
       "\n",
       "    .dataframe tbody tr th {\n",
       "        vertical-align: top;\n",
       "    }\n",
       "\n",
       "    .dataframe thead th {\n",
       "        text-align: right;\n",
       "    }\n",
       "</style>\n",
       "<table border=\"1\" class=\"dataframe\">\n",
       "  <thead>\n",
       "    <tr style=\"text-align: right;\">\n",
       "      <th></th>\n",
       "      <th>Year sold</th>\n",
       "      <th>Kind</th>\n",
       "      <th>Number of rooms</th>\n",
       "      <th>Floor</th>\n",
       "      <th>Squared meter</th>\n",
       "      <th>Price</th>\n",
       "      <th>אבידן שמעון</th>\n",
       "      <th>אביעזר</th>\n",
       "      <th>אבן גבירול</th>\n",
       "      <th>אבן חן</th>\n",
       "      <th>...</th>\n",
       "      <th>שפרינצק</th>\n",
       "      <th>שרירא שמואל</th>\n",
       "      <th>שרף חיים</th>\n",
       "      <th>תדהר דוד</th>\n",
       "      <th>תורה ועבודה</th>\n",
       "      <th>תל חי</th>\n",
       "      <th>תנועות הנוער</th>\n",
       "      <th>תנחום</th>\n",
       "      <th>תרמ\"ב</th>\n",
       "      <th>תרשיש</th>\n",
       "    </tr>\n",
       "  </thead>\n",
       "  <tbody>\n",
       "    <tr>\n",
       "      <th>1</th>\n",
       "      <td>2021</td>\n",
       "      <td>1</td>\n",
       "      <td>3.0</td>\n",
       "      <td>3.0</td>\n",
       "      <td>81.00</td>\n",
       "      <td>1770000</td>\n",
       "      <td>0</td>\n",
       "      <td>0</td>\n",
       "      <td>0</td>\n",
       "      <td>0</td>\n",
       "      <td>...</td>\n",
       "      <td>0</td>\n",
       "      <td>0</td>\n",
       "      <td>0</td>\n",
       "      <td>0</td>\n",
       "      <td>0</td>\n",
       "      <td>0</td>\n",
       "      <td>0</td>\n",
       "      <td>0</td>\n",
       "      <td>0</td>\n",
       "      <td>0</td>\n",
       "    </tr>\n",
       "    <tr>\n",
       "      <th>2</th>\n",
       "      <td>2021</td>\n",
       "      <td>1</td>\n",
       "      <td>5.0</td>\n",
       "      <td>5.0</td>\n",
       "      <td>120.00</td>\n",
       "      <td>2400000</td>\n",
       "      <td>0</td>\n",
       "      <td>0</td>\n",
       "      <td>0</td>\n",
       "      <td>0</td>\n",
       "      <td>...</td>\n",
       "      <td>0</td>\n",
       "      <td>0</td>\n",
       "      <td>0</td>\n",
       "      <td>0</td>\n",
       "      <td>0</td>\n",
       "      <td>0</td>\n",
       "      <td>0</td>\n",
       "      <td>0</td>\n",
       "      <td>0</td>\n",
       "      <td>0</td>\n",
       "    </tr>\n",
       "    <tr>\n",
       "      <th>3</th>\n",
       "      <td>2021</td>\n",
       "      <td>1</td>\n",
       "      <td>4.0</td>\n",
       "      <td>2.0</td>\n",
       "      <td>64.32</td>\n",
       "      <td>2050000</td>\n",
       "      <td>0</td>\n",
       "      <td>0</td>\n",
       "      <td>0</td>\n",
       "      <td>0</td>\n",
       "      <td>...</td>\n",
       "      <td>0</td>\n",
       "      <td>1</td>\n",
       "      <td>0</td>\n",
       "      <td>0</td>\n",
       "      <td>0</td>\n",
       "      <td>0</td>\n",
       "      <td>0</td>\n",
       "      <td>0</td>\n",
       "      <td>0</td>\n",
       "      <td>0</td>\n",
       "    </tr>\n",
       "    <tr>\n",
       "      <th>4</th>\n",
       "      <td>2021</td>\n",
       "      <td>1</td>\n",
       "      <td>3.0</td>\n",
       "      <td>3.0</td>\n",
       "      <td>80.98</td>\n",
       "      <td>1640000</td>\n",
       "      <td>0</td>\n",
       "      <td>0</td>\n",
       "      <td>0</td>\n",
       "      <td>0</td>\n",
       "      <td>...</td>\n",
       "      <td>0</td>\n",
       "      <td>0</td>\n",
       "      <td>0</td>\n",
       "      <td>0</td>\n",
       "      <td>0</td>\n",
       "      <td>0</td>\n",
       "      <td>0</td>\n",
       "      <td>0</td>\n",
       "      <td>1</td>\n",
       "      <td>0</td>\n",
       "    </tr>\n",
       "    <tr>\n",
       "      <th>5</th>\n",
       "      <td>2021</td>\n",
       "      <td>1</td>\n",
       "      <td>4.0</td>\n",
       "      <td>2.0</td>\n",
       "      <td>86.44</td>\n",
       "      <td>1710000</td>\n",
       "      <td>0</td>\n",
       "      <td>0</td>\n",
       "      <td>0</td>\n",
       "      <td>0</td>\n",
       "      <td>...</td>\n",
       "      <td>0</td>\n",
       "      <td>0</td>\n",
       "      <td>0</td>\n",
       "      <td>0</td>\n",
       "      <td>0</td>\n",
       "      <td>0</td>\n",
       "      <td>0</td>\n",
       "      <td>0</td>\n",
       "      <td>0</td>\n",
       "      <td>0</td>\n",
       "    </tr>\n",
       "  </tbody>\n",
       "</table>\n",
       "<p>5 rows × 444 columns</p>\n",
       "</div>"
      ],
      "text/plain": [
       "   Year sold Kind  Number of rooms  Floor  Squared meter    Price  \\\n",
       "1       2021    1              3.0    3.0          81.00  1770000   \n",
       "2       2021    1              5.0    5.0         120.00  2400000   \n",
       "3       2021    1              4.0    2.0          64.32  2050000   \n",
       "4       2021    1              3.0    3.0          80.98  1640000   \n",
       "5       2021    1              4.0    2.0          86.44  1710000   \n",
       "\n",
       "   אבידן שמעון  אביעזר  אבן גבירול  אבן חן  ...  שפרינצק  שרירא שמואל  \\\n",
       "1            0       0           0       0  ...        0            0   \n",
       "2            0       0           0       0  ...        0            0   \n",
       "3            0       0           0       0  ...        0            1   \n",
       "4            0       0           0       0  ...        0            0   \n",
       "5            0       0           0       0  ...        0            0   \n",
       "\n",
       "   שרף חיים  תדהר דוד  תורה ועבודה  תל חי  תנועות הנוער  תנחום  תרמ\"ב  תרשיש  \n",
       "1         0         0            0      0             0      0      0      0  \n",
       "2         0         0            0      0             0      0      0      0  \n",
       "3         0         0            0      0             0      0      0      0  \n",
       "4         0         0            0      0             0      0      1      0  \n",
       "5         0         0            0      0             0      0      0      0  \n",
       "\n",
       "[5 rows x 444 columns]"
      ]
     },
     "execution_count": 30,
     "metadata": {},
     "output_type": "execute_result"
    }
   ],
   "source": [
    "df_with_street_dummies.head()"
   ]
  },
  {
   "cell_type": "markdown",
   "metadata": {},
   "source": [
    "## Without streets"
   ]
  },
  {
   "cell_type": "markdown",
   "metadata": {},
   "source": [
    "### Spliting the data into train and test parts"
   ]
  },
  {
   "cell_type": "code",
   "execution_count": 31,
   "metadata": {},
   "outputs": [],
   "source": [
    "prices = df_without_street['Price']\n",
    "data_without_prices = df_without_street.drop(['Price'],axis=1)\n",
    "X_train,X_test,y_train,y_test = train_test_split(data_without_prices, prices, test_size=0.2, random_state = 7)"
   ]
  },
  {
   "cell_type": "code",
   "execution_count": 32,
   "metadata": {},
   "outputs": [
    {
     "data": {
      "text/html": [
       "<div>\n",
       "<style scoped>\n",
       "    .dataframe tbody tr th:only-of-type {\n",
       "        vertical-align: middle;\n",
       "    }\n",
       "\n",
       "    .dataframe tbody tr th {\n",
       "        vertical-align: top;\n",
       "    }\n",
       "\n",
       "    .dataframe thead th {\n",
       "        text-align: right;\n",
       "    }\n",
       "</style>\n",
       "<table border=\"1\" class=\"dataframe\">\n",
       "  <thead>\n",
       "    <tr style=\"text-align: right;\">\n",
       "      <th></th>\n",
       "      <th>Year sold</th>\n",
       "      <th>Kind</th>\n",
       "      <th>Number of rooms</th>\n",
       "      <th>Floor</th>\n",
       "      <th>Squared meter</th>\n",
       "    </tr>\n",
       "  </thead>\n",
       "  <tbody>\n",
       "    <tr>\n",
       "      <th>11063</th>\n",
       "      <td>2015</td>\n",
       "      <td>1</td>\n",
       "      <td>3.5</td>\n",
       "      <td>1.0</td>\n",
       "      <td>74.48</td>\n",
       "    </tr>\n",
       "    <tr>\n",
       "      <th>19340</th>\n",
       "      <td>2010</td>\n",
       "      <td>1</td>\n",
       "      <td>5.0</td>\n",
       "      <td>1.0</td>\n",
       "      <td>126.60</td>\n",
       "    </tr>\n",
       "    <tr>\n",
       "      <th>13451</th>\n",
       "      <td>2014</td>\n",
       "      <td>1</td>\n",
       "      <td>4.0</td>\n",
       "      <td>4.0</td>\n",
       "      <td>98.90</td>\n",
       "    </tr>\n",
       "    <tr>\n",
       "      <th>6886</th>\n",
       "      <td>2017</td>\n",
       "      <td>1</td>\n",
       "      <td>4.0</td>\n",
       "      <td>3.0</td>\n",
       "      <td>93.70</td>\n",
       "    </tr>\n",
       "    <tr>\n",
       "      <th>2731</th>\n",
       "      <td>2020</td>\n",
       "      <td>1</td>\n",
       "      <td>3.5</td>\n",
       "      <td>4.0</td>\n",
       "      <td>73.21</td>\n",
       "    </tr>\n",
       "    <tr>\n",
       "      <th>...</th>\n",
       "      <td>...</td>\n",
       "      <td>...</td>\n",
       "      <td>...</td>\n",
       "      <td>...</td>\n",
       "      <td>...</td>\n",
       "    </tr>\n",
       "    <tr>\n",
       "      <th>15014</th>\n",
       "      <td>2013</td>\n",
       "      <td>1</td>\n",
       "      <td>2.0</td>\n",
       "      <td>2.0</td>\n",
       "      <td>35.20</td>\n",
       "    </tr>\n",
       "    <tr>\n",
       "      <th>985</th>\n",
       "      <td>2021</td>\n",
       "      <td>1</td>\n",
       "      <td>4.0</td>\n",
       "      <td>1.0</td>\n",
       "      <td>80.90</td>\n",
       "    </tr>\n",
       "    <tr>\n",
       "      <th>6115</th>\n",
       "      <td>2018</td>\n",
       "      <td>2</td>\n",
       "      <td>3.0</td>\n",
       "      <td>0.0</td>\n",
       "      <td>50.20</td>\n",
       "    </tr>\n",
       "    <tr>\n",
       "      <th>11520</th>\n",
       "      <td>2015</td>\n",
       "      <td>2</td>\n",
       "      <td>2.5</td>\n",
       "      <td>0.0</td>\n",
       "      <td>56.00</td>\n",
       "    </tr>\n",
       "    <tr>\n",
       "      <th>18299</th>\n",
       "      <td>2011</td>\n",
       "      <td>1</td>\n",
       "      <td>4.0</td>\n",
       "      <td>2.0</td>\n",
       "      <td>104.96</td>\n",
       "    </tr>\n",
       "  </tbody>\n",
       "</table>\n",
       "<p>14364 rows × 5 columns</p>\n",
       "</div>"
      ],
      "text/plain": [
       "       Year sold Kind  Number of rooms  Floor  Squared meter\n",
       "11063       2015    1              3.5    1.0          74.48\n",
       "19340       2010    1              5.0    1.0         126.60\n",
       "13451       2014    1              4.0    4.0          98.90\n",
       "6886        2017    1              4.0    3.0          93.70\n",
       "2731        2020    1              3.5    4.0          73.21\n",
       "...          ...  ...              ...    ...            ...\n",
       "15014       2013    1              2.0    2.0          35.20\n",
       "985         2021    1              4.0    1.0          80.90\n",
       "6115        2018    2              3.0    0.0          50.20\n",
       "11520       2015    2              2.5    0.0          56.00\n",
       "18299       2011    1              4.0    2.0         104.96\n",
       "\n",
       "[14364 rows x 5 columns]"
      ]
     },
     "execution_count": 32,
     "metadata": {},
     "output_type": "execute_result"
    }
   ],
   "source": [
    "X_train"
   ]
  },
  {
   "cell_type": "code",
   "execution_count": 33,
   "metadata": {},
   "outputs": [
    {
     "data": {
      "text/plain": [
       "11063    1240000\n",
       "19340    2200000\n",
       "13451    1250000\n",
       "6886     1920000\n",
       "2731     1280000\n",
       "          ...   \n",
       "15014     600000\n",
       "985       785000\n",
       "6115     1975000\n",
       "11520    1060000\n",
       "18299    1525000\n",
       "Name: Price, Length: 14364, dtype: int64"
      ]
     },
     "execution_count": 33,
     "metadata": {},
     "output_type": "execute_result"
    }
   ],
   "source": [
    "y_train"
   ]
  },
  {
   "cell_type": "markdown",
   "metadata": {},
   "source": [
    "### Normalization"
   ]
  },
  {
   "cell_type": "code",
   "execution_count": 34,
   "metadata": {},
   "outputs": [],
   "source": [
    "basic_scale = MinMaxScaler()\n",
    "X_train = basic_scale.fit_transform(X_train)\n",
    "X_test = basic_scale.transform(X_test)"
   ]
  },
  {
   "cell_type": "markdown",
   "metadata": {},
   "source": [
    "### Models"
   ]
  },
  {
   "cell_type": "markdown",
   "metadata": {},
   "source": [
    "#### Dummy Regressor "
   ]
  },
  {
   "cell_type": "code",
   "execution_count": null,
   "metadata": {},
   "outputs": [],
   "source": [
    "# needs to be implemented"
   ]
  },
  {
   "cell_type": "markdown",
   "metadata": {},
   "source": [
    "#### Models that we have learned"
   ]
  },
  {
   "cell_type": "code",
   "execution_count": 35,
   "metadata": {},
   "outputs": [
    {
     "name": "stdout",
     "output_type": "stream",
     "text": [
      "score:  0.6446039786084905\n",
      "r^2 score:  0.6446039786084905\n",
      "MSE:  261741.21421521684\n"
     ]
    }
   ],
   "source": [
    "# Linear Regression\n",
    "linear_reg = LinearRegression()\n",
    "linear_reg.fit(X_train, y_train)\n",
    "initial_prediction = linear_reg.predict(X_test)\n",
    "\n",
    "print(\"score: \",linear_reg.score(X_test,y_test))\n",
    "print(\"r^2 score: \",metrics.r2_score(y_test,initial_prediction))\n",
    "print (\"MSE: \",mean_squared_error(y_test,initial_prediction, squared=False))"
   ]
  },
  {
   "cell_type": "code",
   "execution_count": 36,
   "metadata": {},
   "outputs": [
    {
     "name": "stdout",
     "output_type": "stream",
     "text": [
      "After cross validation\n",
      "\n",
      "R2 Score: 0.6512125802413611\n",
      "MSE: 262408.62802991486\n"
     ]
    }
   ],
   "source": [
    "# Cross validation\n",
    "linear_reg_scores = cross_val_score(LinearRegression(), X_train, y_train, cv=10,scoring=\"neg_mean_squared_error\")\n",
    "linear_reg_scores_r2 = cross_val_score(LinearRegression(),X_train, y_train,cv=10,scoring=\"r2\")\n",
    "\n",
    "print(\"After cross validation\\n\")\n",
    "print(\"R2 Score:\",linear_reg_scores_r2.mean())\n",
    "print (\"MSE:\",np.sqrt(-linear_reg_scores.mean()))"
   ]
  },
  {
   "cell_type": "code",
   "execution_count": null,
   "metadata": {},
   "outputs": [],
   "source": [
    "# KNN Regressor\n",
    "knn_reg = KNeighborsRegressor()\n",
    "knn_reg.fit(X_train, y_train)\n",
    "initial_prediction = knn_reg.predict(X_test)\n",
    "\n",
    "print(\"score: \",knn_reg.score(X_test,y_test))\n",
    "print(\"r^2 score: \",metrics.r2_score(y_test,initial_prediction))\n",
    "print (\"MSE: \",mean_squared_error(y_test,initial_prediction))"
   ]
  },
  {
   "cell_type": "code",
   "execution_count": null,
   "metadata": {},
   "outputs": [],
   "source": [
    "# Cross validation\n",
    "knn_reg_scores = cross_val_score(KNeighborsRegressor(n_neighbors=10),X_train, y_train, cv=10, scoring=\"neg_mean_squared_error\")\n",
    "knn_reg_scores_r2 = cross_val_score(KNeighborsRegressor(n_neighbors=10),X_train, y_train, cv=10, scoring=\"r2\")\n",
    "\n",
    "print(\"After cross validation\\n\")\n",
    "print(\"R2 Score:\",knn_reg_scores_r2.mean())\n",
    "print (\"Mean Square ERR:\",np.sqrt(-knn_reg_scores.mean()))"
   ]
  },
  {
   "cell_type": "markdown",
   "metadata": {},
   "source": [
    "#### Models that we did not learn"
   ]
  },
  {
   "cell_type": "code",
   "execution_count": 37,
   "metadata": {},
   "outputs": [
    {
     "name": "stdout",
     "output_type": "stream",
     "text": [
      "score:  0.6165961893500083\n",
      "r^2 score:  0.6165961893500083\n",
      "MSE:  73907427992.69759\n"
     ]
    }
   ],
   "source": [
    "# Random Forrest\n",
    "rf_reg = RandomForestRegressor()\n",
    "rf_reg.fit(X_train, y_train)\n",
    "initial_prediction = rf_reg.predict(X_test)\n",
    "\n",
    "\n",
    "print(\"score: \",rf_reg.score(X_test,y_test))\n",
    "print(\"r^2 score: \",metrics.r2_score(y_test,initial_prediction))\n",
    "print (\"MSE: \",mean_squared_error(y_test,initial_prediction))"
   ]
  },
  {
   "cell_type": "code",
   "execution_count": 38,
   "metadata": {},
   "outputs": [
    {
     "name": "stdout",
     "output_type": "stream",
     "text": [
      "After cross validation\n",
      "\n",
      "R2 Score: 0.6367041146161484\n",
      "Mean Square ERR: 267908.65284136316\n"
     ]
    }
   ],
   "source": [
    "# Cross validation\n",
    "rf_reg_scores = cross_val_score(RandomForestRegressor(),X_train, y_train, cv=10, scoring=\"neg_mean_squared_error\")\n",
    "rf_reg_scores_r2 = cross_val_score(RandomForestRegressor(),X_train, y_train, cv=10, scoring=\"r2\")\n",
    "\n",
    "print(\"After cross validation\\n\")\n",
    "print(\"R2 Score:\",rf_reg_scores_r2.mean())\n",
    "print (\"Mean Square ERR:\",np.sqrt(-rf_reg_scores.mean()))"
   ]
  },
  {
   "cell_type": "code",
   "execution_count": 39,
   "metadata": {},
   "outputs": [
    {
     "name": "stdout",
     "output_type": "stream",
     "text": [
      "score:  0.6205994184257368\n",
      "r^2 score:  0.6205994184257368\n",
      "MSE:  73135739354.15459\n"
     ]
    }
   ],
   "source": [
    "# outcome for knn\n",
    "# need to be deleted"
   ]
  },
  {
   "cell_type": "code",
   "execution_count": 40,
   "metadata": {},
   "outputs": [
    {
     "name": "stdout",
     "output_type": "stream",
     "text": [
      "After cross validation\n",
      "\n",
      "R2 Score: 0.6438610779815563\n",
      "Mean Square ERR: 265126.8458176779\n"
     ]
    }
   ],
   "source": [
    "# Cross validation outcome\n",
    "# need to be deleted"
   ]
  },
  {
   "cell_type": "code",
   "execution_count": 103,
   "metadata": {},
   "outputs": [
    {
     "name": "stdout",
     "output_type": "stream",
     "text": [
      "0.024271844660194174\n",
      "130380724172.41837\n"
     ]
    }
   ],
   "source": [
    "# Logistic Regression\n",
    "log_reg = LogisticRegression()\n",
    "log_reg.fit(X_train, y_train)\n",
    "initial_prediction = log_reg.predict(X_test)\n",
    "\n",
    "\n",
    "print(log_reg.score(X_test, y_test))\n",
    "print (mean_squared_error(y_test,initial_prediction))"
   ]
  },
  {
   "cell_type": "code",
   "execution_count": null,
   "metadata": {},
   "outputs": [],
   "source": [
    "# Cross validation\n",
    "log_reg_scores = cross_val_score(LogisticRegression(),X_train, y_train, cv=10, scoring=\"neg_mean_squared_error\")\n",
    "log_reg_scores_r2 = cross_val_score(LogisticRegression(),X_train, y_train, cv=10, scoring=\"r2\")\n",
    "\n",
    "print(\"After cross validation\\n\")\n",
    "print(\"R2 Score:\",rf_reg_scores_r2.mean())\n",
    "print (\"Mean Square ERR:\",np.sqrt(-rf_reg_scores.mean()))"
   ]
  },
  {
   "cell_type": "markdown",
   "metadata": {},
   "source": [
    "## With street dummies"
   ]
  },
  {
   "cell_type": "markdown",
   "metadata": {},
   "source": [
    "### Spliting the data into train and test parts"
   ]
  },
  {
   "cell_type": "code",
   "execution_count": 41,
   "metadata": {},
   "outputs": [],
   "source": [
    "prices1 = df_with_street_dummies['Price']\n",
    "data_without_prices1 = df_with_street_dummies.drop(['Price'],axis=1)\n",
    "X_train1,X_test1,y_train1,y_test1 = train_test_split(data_without_prices1, prices1, test_size=0.2, random_state = 7)"
   ]
  },
  {
   "cell_type": "code",
   "execution_count": 42,
   "metadata": {},
   "outputs": [
    {
     "data": {
      "text/html": [
       "<div>\n",
       "<style scoped>\n",
       "    .dataframe tbody tr th:only-of-type {\n",
       "        vertical-align: middle;\n",
       "    }\n",
       "\n",
       "    .dataframe tbody tr th {\n",
       "        vertical-align: top;\n",
       "    }\n",
       "\n",
       "    .dataframe thead th {\n",
       "        text-align: right;\n",
       "    }\n",
       "</style>\n",
       "<table border=\"1\" class=\"dataframe\">\n",
       "  <thead>\n",
       "    <tr style=\"text-align: right;\">\n",
       "      <th></th>\n",
       "      <th>Year sold</th>\n",
       "      <th>Kind</th>\n",
       "      <th>Number of rooms</th>\n",
       "      <th>Floor</th>\n",
       "      <th>Squared meter</th>\n",
       "      <th>אבידן שמעון</th>\n",
       "      <th>אביעזר</th>\n",
       "      <th>אבן גבירול</th>\n",
       "      <th>אבן חן</th>\n",
       "      <th>אברבנאל</th>\n",
       "      <th>...</th>\n",
       "      <th>שפרינצק</th>\n",
       "      <th>שרירא שמואל</th>\n",
       "      <th>שרף חיים</th>\n",
       "      <th>תדהר דוד</th>\n",
       "      <th>תורה ועבודה</th>\n",
       "      <th>תל חי</th>\n",
       "      <th>תנועות הנוער</th>\n",
       "      <th>תנחום</th>\n",
       "      <th>תרמ\"ב</th>\n",
       "      <th>תרשיש</th>\n",
       "    </tr>\n",
       "  </thead>\n",
       "  <tbody>\n",
       "    <tr>\n",
       "      <th>11063</th>\n",
       "      <td>2015</td>\n",
       "      <td>1</td>\n",
       "      <td>3.5</td>\n",
       "      <td>1.0</td>\n",
       "      <td>74.48</td>\n",
       "      <td>0</td>\n",
       "      <td>0</td>\n",
       "      <td>0</td>\n",
       "      <td>0</td>\n",
       "      <td>0</td>\n",
       "      <td>...</td>\n",
       "      <td>0</td>\n",
       "      <td>0</td>\n",
       "      <td>0</td>\n",
       "      <td>0</td>\n",
       "      <td>0</td>\n",
       "      <td>0</td>\n",
       "      <td>0</td>\n",
       "      <td>0</td>\n",
       "      <td>0</td>\n",
       "      <td>0</td>\n",
       "    </tr>\n",
       "    <tr>\n",
       "      <th>19340</th>\n",
       "      <td>2010</td>\n",
       "      <td>1</td>\n",
       "      <td>5.0</td>\n",
       "      <td>1.0</td>\n",
       "      <td>126.60</td>\n",
       "      <td>0</td>\n",
       "      <td>0</td>\n",
       "      <td>0</td>\n",
       "      <td>0</td>\n",
       "      <td>0</td>\n",
       "      <td>...</td>\n",
       "      <td>0</td>\n",
       "      <td>0</td>\n",
       "      <td>0</td>\n",
       "      <td>0</td>\n",
       "      <td>0</td>\n",
       "      <td>0</td>\n",
       "      <td>0</td>\n",
       "      <td>0</td>\n",
       "      <td>0</td>\n",
       "      <td>0</td>\n",
       "    </tr>\n",
       "    <tr>\n",
       "      <th>13451</th>\n",
       "      <td>2014</td>\n",
       "      <td>1</td>\n",
       "      <td>4.0</td>\n",
       "      <td>4.0</td>\n",
       "      <td>98.90</td>\n",
       "      <td>0</td>\n",
       "      <td>0</td>\n",
       "      <td>0</td>\n",
       "      <td>0</td>\n",
       "      <td>0</td>\n",
       "      <td>...</td>\n",
       "      <td>0</td>\n",
       "      <td>0</td>\n",
       "      <td>0</td>\n",
       "      <td>0</td>\n",
       "      <td>0</td>\n",
       "      <td>0</td>\n",
       "      <td>0</td>\n",
       "      <td>0</td>\n",
       "      <td>0</td>\n",
       "      <td>0</td>\n",
       "    </tr>\n",
       "    <tr>\n",
       "      <th>6886</th>\n",
       "      <td>2017</td>\n",
       "      <td>1</td>\n",
       "      <td>4.0</td>\n",
       "      <td>3.0</td>\n",
       "      <td>93.70</td>\n",
       "      <td>0</td>\n",
       "      <td>0</td>\n",
       "      <td>0</td>\n",
       "      <td>0</td>\n",
       "      <td>0</td>\n",
       "      <td>...</td>\n",
       "      <td>0</td>\n",
       "      <td>0</td>\n",
       "      <td>0</td>\n",
       "      <td>0</td>\n",
       "      <td>0</td>\n",
       "      <td>0</td>\n",
       "      <td>0</td>\n",
       "      <td>0</td>\n",
       "      <td>0</td>\n",
       "      <td>0</td>\n",
       "    </tr>\n",
       "    <tr>\n",
       "      <th>2731</th>\n",
       "      <td>2020</td>\n",
       "      <td>1</td>\n",
       "      <td>3.5</td>\n",
       "      <td>4.0</td>\n",
       "      <td>73.21</td>\n",
       "      <td>0</td>\n",
       "      <td>0</td>\n",
       "      <td>0</td>\n",
       "      <td>0</td>\n",
       "      <td>0</td>\n",
       "      <td>...</td>\n",
       "      <td>0</td>\n",
       "      <td>0</td>\n",
       "      <td>0</td>\n",
       "      <td>0</td>\n",
       "      <td>0</td>\n",
       "      <td>0</td>\n",
       "      <td>0</td>\n",
       "      <td>0</td>\n",
       "      <td>0</td>\n",
       "      <td>0</td>\n",
       "    </tr>\n",
       "    <tr>\n",
       "      <th>...</th>\n",
       "      <td>...</td>\n",
       "      <td>...</td>\n",
       "      <td>...</td>\n",
       "      <td>...</td>\n",
       "      <td>...</td>\n",
       "      <td>...</td>\n",
       "      <td>...</td>\n",
       "      <td>...</td>\n",
       "      <td>...</td>\n",
       "      <td>...</td>\n",
       "      <td>...</td>\n",
       "      <td>...</td>\n",
       "      <td>...</td>\n",
       "      <td>...</td>\n",
       "      <td>...</td>\n",
       "      <td>...</td>\n",
       "      <td>...</td>\n",
       "      <td>...</td>\n",
       "      <td>...</td>\n",
       "      <td>...</td>\n",
       "      <td>...</td>\n",
       "    </tr>\n",
       "    <tr>\n",
       "      <th>15014</th>\n",
       "      <td>2013</td>\n",
       "      <td>1</td>\n",
       "      <td>2.0</td>\n",
       "      <td>2.0</td>\n",
       "      <td>35.20</td>\n",
       "      <td>0</td>\n",
       "      <td>0</td>\n",
       "      <td>0</td>\n",
       "      <td>0</td>\n",
       "      <td>0</td>\n",
       "      <td>...</td>\n",
       "      <td>0</td>\n",
       "      <td>0</td>\n",
       "      <td>0</td>\n",
       "      <td>0</td>\n",
       "      <td>0</td>\n",
       "      <td>0</td>\n",
       "      <td>0</td>\n",
       "      <td>0</td>\n",
       "      <td>0</td>\n",
       "      <td>0</td>\n",
       "    </tr>\n",
       "    <tr>\n",
       "      <th>985</th>\n",
       "      <td>2021</td>\n",
       "      <td>1</td>\n",
       "      <td>4.0</td>\n",
       "      <td>1.0</td>\n",
       "      <td>80.90</td>\n",
       "      <td>0</td>\n",
       "      <td>0</td>\n",
       "      <td>0</td>\n",
       "      <td>0</td>\n",
       "      <td>0</td>\n",
       "      <td>...</td>\n",
       "      <td>0</td>\n",
       "      <td>0</td>\n",
       "      <td>0</td>\n",
       "      <td>0</td>\n",
       "      <td>0</td>\n",
       "      <td>0</td>\n",
       "      <td>0</td>\n",
       "      <td>0</td>\n",
       "      <td>0</td>\n",
       "      <td>0</td>\n",
       "    </tr>\n",
       "    <tr>\n",
       "      <th>6115</th>\n",
       "      <td>2018</td>\n",
       "      <td>2</td>\n",
       "      <td>3.0</td>\n",
       "      <td>0.0</td>\n",
       "      <td>50.20</td>\n",
       "      <td>0</td>\n",
       "      <td>0</td>\n",
       "      <td>0</td>\n",
       "      <td>0</td>\n",
       "      <td>0</td>\n",
       "      <td>...</td>\n",
       "      <td>0</td>\n",
       "      <td>0</td>\n",
       "      <td>0</td>\n",
       "      <td>0</td>\n",
       "      <td>0</td>\n",
       "      <td>0</td>\n",
       "      <td>0</td>\n",
       "      <td>0</td>\n",
       "      <td>0</td>\n",
       "      <td>0</td>\n",
       "    </tr>\n",
       "    <tr>\n",
       "      <th>11520</th>\n",
       "      <td>2015</td>\n",
       "      <td>2</td>\n",
       "      <td>2.5</td>\n",
       "      <td>0.0</td>\n",
       "      <td>56.00</td>\n",
       "      <td>0</td>\n",
       "      <td>0</td>\n",
       "      <td>0</td>\n",
       "      <td>0</td>\n",
       "      <td>0</td>\n",
       "      <td>...</td>\n",
       "      <td>0</td>\n",
       "      <td>0</td>\n",
       "      <td>0</td>\n",
       "      <td>0</td>\n",
       "      <td>0</td>\n",
       "      <td>0</td>\n",
       "      <td>0</td>\n",
       "      <td>0</td>\n",
       "      <td>0</td>\n",
       "      <td>0</td>\n",
       "    </tr>\n",
       "    <tr>\n",
       "      <th>18299</th>\n",
       "      <td>2011</td>\n",
       "      <td>1</td>\n",
       "      <td>4.0</td>\n",
       "      <td>2.0</td>\n",
       "      <td>104.96</td>\n",
       "      <td>0</td>\n",
       "      <td>0</td>\n",
       "      <td>0</td>\n",
       "      <td>0</td>\n",
       "      <td>0</td>\n",
       "      <td>...</td>\n",
       "      <td>0</td>\n",
       "      <td>0</td>\n",
       "      <td>0</td>\n",
       "      <td>0</td>\n",
       "      <td>0</td>\n",
       "      <td>0</td>\n",
       "      <td>0</td>\n",
       "      <td>0</td>\n",
       "      <td>0</td>\n",
       "      <td>0</td>\n",
       "    </tr>\n",
       "  </tbody>\n",
       "</table>\n",
       "<p>14364 rows × 443 columns</p>\n",
       "</div>"
      ],
      "text/plain": [
       "       Year sold Kind  Number of rooms  Floor  Squared meter  אבידן שמעון  \\\n",
       "11063       2015    1              3.5    1.0          74.48            0   \n",
       "19340       2010    1              5.0    1.0         126.60            0   \n",
       "13451       2014    1              4.0    4.0          98.90            0   \n",
       "6886        2017    1              4.0    3.0          93.70            0   \n",
       "2731        2020    1              3.5    4.0          73.21            0   \n",
       "...          ...  ...              ...    ...            ...          ...   \n",
       "15014       2013    1              2.0    2.0          35.20            0   \n",
       "985         2021    1              4.0    1.0          80.90            0   \n",
       "6115        2018    2              3.0    0.0          50.20            0   \n",
       "11520       2015    2              2.5    0.0          56.00            0   \n",
       "18299       2011    1              4.0    2.0         104.96            0   \n",
       "\n",
       "       אביעזר  אבן גבירול  אבן חן  אברבנאל  ...  שפרינצק  שרירא שמואל  \\\n",
       "11063       0           0       0        0  ...        0            0   \n",
       "19340       0           0       0        0  ...        0            0   \n",
       "13451       0           0       0        0  ...        0            0   \n",
       "6886        0           0       0        0  ...        0            0   \n",
       "2731        0           0       0        0  ...        0            0   \n",
       "...       ...         ...     ...      ...  ...      ...          ...   \n",
       "15014       0           0       0        0  ...        0            0   \n",
       "985         0           0       0        0  ...        0            0   \n",
       "6115        0           0       0        0  ...        0            0   \n",
       "11520       0           0       0        0  ...        0            0   \n",
       "18299       0           0       0        0  ...        0            0   \n",
       "\n",
       "       שרף חיים  תדהר דוד  תורה ועבודה  תל חי  תנועות הנוער  תנחום  תרמ\"ב  \\\n",
       "11063         0         0            0      0             0      0      0   \n",
       "19340         0         0            0      0             0      0      0   \n",
       "13451         0         0            0      0             0      0      0   \n",
       "6886          0         0            0      0             0      0      0   \n",
       "2731          0         0            0      0             0      0      0   \n",
       "...         ...       ...          ...    ...           ...    ...    ...   \n",
       "15014         0         0            0      0             0      0      0   \n",
       "985           0         0            0      0             0      0      0   \n",
       "6115          0         0            0      0             0      0      0   \n",
       "11520         0         0            0      0             0      0      0   \n",
       "18299         0         0            0      0             0      0      0   \n",
       "\n",
       "       תרשיש  \n",
       "11063      0  \n",
       "19340      0  \n",
       "13451      0  \n",
       "6886       0  \n",
       "2731       0  \n",
       "...      ...  \n",
       "15014      0  \n",
       "985        0  \n",
       "6115       0  \n",
       "11520      0  \n",
       "18299      0  \n",
       "\n",
       "[14364 rows x 443 columns]"
      ]
     },
     "execution_count": 42,
     "metadata": {},
     "output_type": "execute_result"
    }
   ],
   "source": [
    "X_train1"
   ]
  },
  {
   "cell_type": "code",
   "execution_count": 43,
   "metadata": {},
   "outputs": [
    {
     "data": {
      "text/plain": [
       "11063    1240000\n",
       "19340    2200000\n",
       "13451    1250000\n",
       "6886     1920000\n",
       "2731     1280000\n",
       "          ...   \n",
       "15014     600000\n",
       "985       785000\n",
       "6115     1975000\n",
       "11520    1060000\n",
       "18299    1525000\n",
       "Name: Price, Length: 14364, dtype: int64"
      ]
     },
     "execution_count": 43,
     "metadata": {},
     "output_type": "execute_result"
    }
   ],
   "source": [
    "y_train1"
   ]
  },
  {
   "cell_type": "markdown",
   "metadata": {},
   "source": [
    "### Normalization "
   ]
  },
  {
   "cell_type": "code",
   "execution_count": 44,
   "metadata": {},
   "outputs": [
    {
     "name": "stderr",
     "output_type": "stream",
     "text": [
      "<ipython-input-44-afb92cad7756>:3: SettingWithCopyWarning: \n",
      "A value is trying to be set on a copy of a slice from a DataFrame.\n",
      "Try using .loc[row_indexer,col_indexer] = value instead\n",
      "\n",
      "See the caveats in the documentation: https://pandas.pydata.org/pandas-docs/stable/user_guide/indexing.html#returning-a-view-versus-a-copy\n",
      "  X_train1[num_features] = basic_scale.fit_transform(X_train1[num_features])\n",
      "C:\\Users\\matan\\anaconda3\\lib\\site-packages\\pandas\\core\\indexing.py:1738: SettingWithCopyWarning: \n",
      "A value is trying to be set on a copy of a slice from a DataFrame.\n",
      "Try using .loc[row_indexer,col_indexer] = value instead\n",
      "\n",
      "See the caveats in the documentation: https://pandas.pydata.org/pandas-docs/stable/user_guide/indexing.html#returning-a-view-versus-a-copy\n",
      "  self._setitem_single_column(loc, value[:, i].tolist(), pi)\n",
      "<ipython-input-44-afb92cad7756>:4: SettingWithCopyWarning: \n",
      "A value is trying to be set on a copy of a slice from a DataFrame.\n",
      "Try using .loc[row_indexer,col_indexer] = value instead\n",
      "\n",
      "See the caveats in the documentation: https://pandas.pydata.org/pandas-docs/stable/user_guide/indexing.html#returning-a-view-versus-a-copy\n",
      "  X_test1[num_features] = basic_scale.transform(X_test1[num_features])\n",
      "C:\\Users\\matan\\anaconda3\\lib\\site-packages\\pandas\\core\\indexing.py:1738: SettingWithCopyWarning: \n",
      "A value is trying to be set on a copy of a slice from a DataFrame.\n",
      "Try using .loc[row_indexer,col_indexer] = value instead\n",
      "\n",
      "See the caveats in the documentation: https://pandas.pydata.org/pandas-docs/stable/user_guide/indexing.html#returning-a-view-versus-a-copy\n",
      "  self._setitem_single_column(loc, value[:, i].tolist(), pi)\n"
     ]
    }
   ],
   "source": [
    "num_features = ['Year sold', 'Number of rooms', 'Floor', 'Squared meter']\n",
    "basic_scale = MinMaxScaler()\n",
    "X_train1[num_features] = basic_scale.fit_transform(X_train1[num_features])\n",
    "X_test1[num_features] = basic_scale.transform(X_test1[num_features])"
   ]
  },
  {
   "cell_type": "markdown",
   "metadata": {},
   "source": [
    "### Models"
   ]
  },
  {
   "cell_type": "markdown",
   "metadata": {},
   "source": [
    "#### Dummy Regressor"
   ]
  },
  {
   "cell_type": "code",
   "execution_count": null,
   "metadata": {},
   "outputs": [],
   "source": [
    "# need to be implemented"
   ]
  },
  {
   "cell_type": "markdown",
   "metadata": {},
   "source": [
    "#### Models that we have learned"
   ]
  },
  {
   "cell_type": "code",
   "execution_count": 45,
   "metadata": {},
   "outputs": [
    {
     "name": "stdout",
     "output_type": "stream",
     "text": [
      "score:  -6.39736087192357e+21\n",
      "r^2 score:  -6.39736087192357e+21\n",
      "MSE:  1.2331971536313743e+33\n"
     ]
    }
   ],
   "source": [
    "# Linear Regression\n",
    "linear_reg = LinearRegression()\n",
    "linear_reg.fit(X_train1, y_train1)\n",
    "initial_prediction = linear_reg.predict(X_test1)\n",
    "\n",
    "\n",
    "print(\"score: \",linear_reg.score(X_test1,y_test1))\n",
    "print(\"r^2 score: \",metrics.r2_score(y_test1,initial_prediction))\n",
    "print (\"MSE: \",mean_squared_error(y_test1,initial_prediction))"
   ]
  },
  {
   "cell_type": "code",
   "execution_count": 46,
   "metadata": {},
   "outputs": [
    {
     "name": "stdout",
     "output_type": "stream",
     "text": [
      "After cross validation\n",
      "\n",
      "R2 Score: -6.690732167274571e+22\n",
      "MSE: 1.148138458011564e+17\n"
     ]
    }
   ],
   "source": [
    "# Cross validation\n",
    "linear_reg_scores = cross_val_score(LinearRegression(), X_train1, y_train1, cv=10,scoring=\"neg_mean_squared_error\")\n",
    "linear_reg_scores_r2 = cross_val_score(LinearRegression(),X_train1, y_train1,cv=10,scoring=\"r2\")\n",
    "\n",
    "print(\"After cross validation\\n\")\n",
    "print(\"R2 Score:\",linear_reg_scores_r2.mean())\n",
    "print (\"MSE:\",np.sqrt(-linear_reg_scores.mean()))"
   ]
  },
  {
   "cell_type": "code",
   "execution_count": null,
   "metadata": {},
   "outputs": [],
   "source": [
    "# KNN Regressor\n",
    "knn_reg = KNeighborsRegressor()\n",
    "knn_reg.fit(X_train1, y_train1)\n",
    "initial_prediction = knn_reg.predict(X_test1)\n",
    "\n",
    "\n",
    "print(\"score: \",knn_reg.score(X_test1,y_test1))\n",
    "print(\"r^2 score: \",metrics.r2_score(y_test1,initial_prediction))\n",
    "print (\"MSE: \",mean_squared_error(y_test1,initial_prediction))"
   ]
  },
  {
   "cell_type": "code",
   "execution_count": null,
   "metadata": {},
   "outputs": [],
   "source": [
    "# Cross validation\n",
    "knn_reg_scores = cross_val_score(KNeighborsRegressor(n_neighbors=10),X_train1, y_train1, cv=10, scoring=\"neg_mean_squared_error\")\n",
    "knn_reg_scores_r2 = cross_val_score(KNeighborsRegressor(n_neighbors=10),X_train1, y_train1, cv=10, scoring=\"r2\")\n",
    "\n",
    "print(\"After cross validation\\n\")\n",
    "print(\"R2 Score:\",knn_reg_scores_r2.mean())\n",
    "print (\"Mean Square ERR:\",np.sqrt(-knn_reg_scores.mean()))"
   ]
  },
  {
   "cell_type": "markdown",
   "metadata": {},
   "source": [
    "#### Models that we did not learn"
   ]
  },
  {
   "cell_type": "code",
   "execution_count": 47,
   "metadata": {},
   "outputs": [
    {
     "name": "stdout",
     "output_type": "stream",
     "text": [
      "score:  0.7261759989234959\n",
      "r^2 score:  0.7261759989234959\n",
      "MSE:  52784106678.34739\n"
     ]
    }
   ],
   "source": [
    "# Random Forest\n",
    "rf_reg = RandomForestRegressor()\n",
    "rf_reg.fit(X_train1, y_train1)\n",
    "initial_prediction = rf_reg.predict(X_test1)\n",
    "\n",
    "\n",
    "print(\"score: \",rf_reg.score(X_test1,y_test1))\n",
    "print(\"r^2 score: \",metrics.r2_score(y_test1,initial_prediction))\n",
    "print (\"MSE: \",mean_squared_error(y_test1,initial_prediction))"
   ]
  },
  {
   "cell_type": "code",
   "execution_count": 48,
   "metadata": {},
   "outputs": [
    {
     "name": "stdout",
     "output_type": "stream",
     "text": [
      "After cross validation\n",
      "\n",
      "R2 Score: 0.730527738317776\n",
      "Mean Square ERR: 231287.67498138893\n"
     ]
    }
   ],
   "source": [
    "# Cross validation\n",
    "rf_reg_scores = cross_val_score(RandomForestRegressor(),X_train1, y_train1, cv=10, scoring=\"neg_mean_squared_error\")\n",
    "rf_reg_scores_r2 = cross_val_score(RandomForestRegressor(),X_train1, y_train1, cv=10, scoring=\"r2\")\n",
    "\n",
    "print(\"After cross validation\\n\")\n",
    "print(\"R2 Score:\",rf_reg_scores_r2.mean())\n",
    "print (\"Mean Square ERR:\",np.sqrt(-rf_reg_scores.mean()))"
   ]
  },
  {
   "cell_type": "code",
   "execution_count": 49,
   "metadata": {},
   "outputs": [
    {
     "name": "stdout",
     "output_type": "stream",
     "text": [
      "score:  0.7031273481119947\n",
      "r^2 score:  0.7031273481119947\n",
      "MSE:  57227115466.63235\n"
     ]
    }
   ],
   "source": [
    "# knn outcome\n",
    "# need to be deleted"
   ]
  },
  {
   "cell_type": "code",
   "execution_count": 50,
   "metadata": {},
   "outputs": [
    {
     "name": "stdout",
     "output_type": "stream",
     "text": [
      "After cross validation\n",
      "\n",
      "R2 Score: 0.6765059744710886\n",
      "Mean Square ERR: 252723.81902221034\n"
     ]
    }
   ],
   "source": [
    "# Cross validation outcome\n",
    "# need to be deleted"
   ]
  },
  {
   "cell_type": "code",
   "execution_count": 100,
   "metadata": {},
   "outputs": [
    {
     "name": "stdout",
     "output_type": "stream",
     "text": [
      "0.028684907325684024\n",
      "108412403139.76169\n"
     ]
    }
   ],
   "source": [
    "# Logistic Regression\n",
    "log_reg = LogisticRegression()\n",
    "log_reg.fit(X_train1, y_train1)\n",
    "initial_prediction = log_reg.predict(X_test1)\n",
    "\n",
    "\n",
    "print(log_reg.score(X_test1, y_test1))\n",
    "print (mean_squared_error(y_test1,initial_prediction))"
   ]
  },
  {
   "cell_type": "code",
   "execution_count": 128,
   "metadata": {},
   "outputs": [
    {
     "name": "stdout",
     "output_type": "stream",
     "text": [
      "After cross validation\n",
      "\n",
      "score:  -110015270079.27939\n",
      "R2 Score: 0.6628512643143023\n",
      "Mean Square ERR: 268606.864171569\n"
     ]
    }
   ],
   "source": [
    "# Cross validation\n",
    "log_reg_scores = cross_val_score(LogisticRegression(),X_train1, y_train1, cv=10, scoring=\"neg_mean_squared_error\")\n",
    "log_reg_scores_r2 = cross_val_score(LogisticRegression(),X_train1, y_train1, cv=10, scoring=\"r2\")\n",
    "\n",
    "print(\"After cross validation\\n\")\n",
    "print(\"R2 Score:\",log_reg_scores_r2.mean())\n",
    "print (\"Mean Square ERR:\",np.sqrt(-log_reg_scores.mean()))"
   ]
  },
  {
   "cell_type": "markdown",
   "metadata": {},
   "source": [
    "## Tuning"
   ]
  },
  {
   "cell_type": "markdown",
   "metadata": {},
   "source": [
    "For improvment, we will use GridSearchCV on our best model."
   ]
  },
  {
   "cell_type": "code",
   "execution_count": null,
   "metadata": {},
   "outputs": [],
   "source": [
    "parameters = {np.arrange(0.1,0.2,0.01), [500,1000,30000]}\n",
    "grid = GridSearchCV(estimator = RandomForestRegressor(), param_grid = parameters)\n",
    "grid.fit(X_train1, y_train1)"
   ]
  },
  {
   "cell_type": "code",
   "execution_count": null,
   "metadata": {},
   "outputs": [],
   "source": [
    "# The best parameters\n",
    "best_parameters = grid.best_params_\n",
    "best_parameters"
   ]
  },
  {
   "cell_type": "code",
   "execution_count": null,
   "metadata": {},
   "outputs": [],
   "source": [
    "# The best score\n",
    "best_score = grid.best_score_\n",
    "best_score"
   ]
  },
  {
   "cell_type": "markdown",
   "metadata": {},
   "source": [
    "# Conclusion"
   ]
  },
  {
   "cell_type": "markdown",
   "metadata": {},
   "source": [
    "The best model (between the models that we chceked) for our dataset is:\n",
    "\n",
    "**Random Forest Reggresor** with the hyper_parameters: ...\n",
    "\n",
    "His score is: ..."
   ]
  }
 ],
 "metadata": {
  "kernelspec": {
   "display_name": "Python 3",
   "language": "python",
   "name": "python3"
  },
  "language_info": {
   "codemirror_mode": {
    "name": "ipython",
    "version": 3
   },
   "file_extension": ".py",
   "mimetype": "text/x-python",
   "name": "python",
   "nbconvert_exporter": "python",
   "pygments_lexer": "ipython3",
   "version": "3.8.8"
  }
 },
 "nbformat": 4,
 "nbformat_minor": 4
}
