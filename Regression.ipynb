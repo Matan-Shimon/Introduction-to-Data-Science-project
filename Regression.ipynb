{
 "cells": [
  {
   "cell_type": "code",
   "execution_count": 98,
   "metadata": {},
   "outputs": [],
   "source": [
    "import numpy as np\n",
    "import pandas as pd\n",
    "import seaborn as sb\n",
    "import matplotlib.pyplot as plt\n",
    "%matplotlib inline\n",
    "from sklearn import linear_model\n",
    "from sklearn.linear_model import LinearRegression\n",
    "from sklearn.linear_model import LogisticRegression\n",
    "from sklearn.model_selection import GridSearchCV\n",
    "from sklearn.model_selection import train_test_split #(divide into train/test)\n",
    "from sklearn.model_selection import cross_val_score\n",
    "from sklearn.linear_model import LogisticRegression\n",
    "from sklearn.ensemble import RandomForestRegressor\n",
    "from sklearn.dummy import DummyRegressor\n",
    "from sklearn.preprocessing import StandardScaler\n",
    "from sklearn.neighbors import KNeighborsRegressor\n",
    "from sklearn import metrics #(vital for notebook)\n",
    "from sklearn.metrics import mean_squared_error, confusion_matrix\n",
    "from sklearn.preprocessing import MinMaxScaler"
   ]
  },
  {
   "cell_type": "code",
   "execution_count": 95,
   "metadata": {},
   "outputs": [],
   "source": [
    "import warnings\n",
    "warnings.filterwarnings('ignore')"
   ]
  },
  {
   "cell_type": "code",
   "execution_count": 3,
   "metadata": {},
   "outputs": [],
   "source": [
    "df = pd.read_csv('C:/Users/WIN10/Desktop/Data Science Project/Rishon_Lezion_House_Sales.csv')"
   ]
  },
  {
   "cell_type": "code",
   "execution_count": 4,
   "metadata": {},
   "outputs": [
    {
     "data": {
      "text/html": [
       "<div>\n",
       "<style scoped>\n",
       "    .dataframe tbody tr th:only-of-type {\n",
       "        vertical-align: middle;\n",
       "    }\n",
       "\n",
       "    .dataframe tbody tr th {\n",
       "        vertical-align: top;\n",
       "    }\n",
       "\n",
       "    .dataframe thead th {\n",
       "        text-align: right;\n",
       "    }\n",
       "</style>\n",
       "<table border=\"1\" class=\"dataframe\">\n",
       "  <thead>\n",
       "    <tr style=\"text-align: right;\">\n",
       "      <th></th>\n",
       "      <th>index</th>\n",
       "      <th>Year sold</th>\n",
       "      <th>Month sold</th>\n",
       "      <th>Day sold</th>\n",
       "      <th>Street</th>\n",
       "      <th>Street number</th>\n",
       "      <th>Kind</th>\n",
       "      <th>Number of rooms</th>\n",
       "      <th>Floor</th>\n",
       "      <th>Squared meter</th>\n",
       "      <th>Price</th>\n",
       "    </tr>\n",
       "  </thead>\n",
       "  <tbody>\n",
       "    <tr>\n",
       "      <th>0</th>\n",
       "      <td>0</td>\n",
       "      <td>2021</td>\n",
       "      <td>12</td>\n",
       "      <td>20</td>\n",
       "      <td>נירים</td>\n",
       "      <td>3</td>\n",
       "      <td>דירה בבית קומות</td>\n",
       "      <td>6.0</td>\n",
       "      <td>6.0</td>\n",
       "      <td>134.60</td>\n",
       "      <td>3670000</td>\n",
       "    </tr>\n",
       "    <tr>\n",
       "      <th>1</th>\n",
       "      <td>1</td>\n",
       "      <td>2021</td>\n",
       "      <td>12</td>\n",
       "      <td>19</td>\n",
       "      <td>קרל נטר</td>\n",
       "      <td>6</td>\n",
       "      <td>דירה בבית קומות</td>\n",
       "      <td>3.0</td>\n",
       "      <td>3.0</td>\n",
       "      <td>81.00</td>\n",
       "      <td>1770000</td>\n",
       "    </tr>\n",
       "    <tr>\n",
       "      <th>2</th>\n",
       "      <td>2</td>\n",
       "      <td>2021</td>\n",
       "      <td>12</td>\n",
       "      <td>16</td>\n",
       "      <td>יהודה הלוי</td>\n",
       "      <td>27</td>\n",
       "      <td>דירה בבית קומות</td>\n",
       "      <td>5.0</td>\n",
       "      <td>5.0</td>\n",
       "      <td>120.00</td>\n",
       "      <td>2400000</td>\n",
       "    </tr>\n",
       "    <tr>\n",
       "      <th>3</th>\n",
       "      <td>3</td>\n",
       "      <td>2021</td>\n",
       "      <td>12</td>\n",
       "      <td>15</td>\n",
       "      <td>שרירא שמואל</td>\n",
       "      <td>17</td>\n",
       "      <td>דירה בבית קומות</td>\n",
       "      <td>4.0</td>\n",
       "      <td>2.0</td>\n",
       "      <td>64.32</td>\n",
       "      <td>2050000</td>\n",
       "    </tr>\n",
       "    <tr>\n",
       "      <th>4</th>\n",
       "      <td>4</td>\n",
       "      <td>2021</td>\n",
       "      <td>12</td>\n",
       "      <td>15</td>\n",
       "      <td>תרמ\"ב</td>\n",
       "      <td>30</td>\n",
       "      <td>דירה בבית קומות</td>\n",
       "      <td>3.0</td>\n",
       "      <td>3.0</td>\n",
       "      <td>80.98</td>\n",
       "      <td>1640000</td>\n",
       "    </tr>\n",
       "  </tbody>\n",
       "</table>\n",
       "</div>"
      ],
      "text/plain": [
       "   index  Year sold  Month sold  Day sold       Street  Street number  \\\n",
       "0      0       2021          12        20        נירים              3   \n",
       "1      1       2021          12        19      קרל נטר              6   \n",
       "2      2       2021          12        16   יהודה הלוי             27   \n",
       "3      3       2021          12        15  שרירא שמואל             17   \n",
       "4      4       2021          12        15        תרמ\"ב             30   \n",
       "\n",
       "              Kind  Number of rooms  Floor  Squared meter    Price  \n",
       "0  דירה בבית קומות              6.0    6.0         134.60  3670000  \n",
       "1  דירה בבית קומות              3.0    3.0          81.00  1770000  \n",
       "2  דירה בבית קומות              5.0    5.0         120.00  2400000  \n",
       "3  דירה בבית קומות              4.0    2.0          64.32  2050000  \n",
       "4  דירה בבית קומות              3.0    3.0          80.98  1640000  "
      ]
     },
     "execution_count": 4,
     "metadata": {},
     "output_type": "execute_result"
    }
   ],
   "source": [
    "df.head()"
   ]
  },
  {
   "cell_type": "code",
   "execution_count": 5,
   "metadata": {},
   "outputs": [
    {
     "data": {
      "text/html": [
       "<div>\n",
       "<style scoped>\n",
       "    .dataframe tbody tr th:only-of-type {\n",
       "        vertical-align: middle;\n",
       "    }\n",
       "\n",
       "    .dataframe tbody tr th {\n",
       "        vertical-align: top;\n",
       "    }\n",
       "\n",
       "    .dataframe thead th {\n",
       "        text-align: right;\n",
       "    }\n",
       "</style>\n",
       "<table border=\"1\" class=\"dataframe\">\n",
       "  <thead>\n",
       "    <tr style=\"text-align: right;\">\n",
       "      <th></th>\n",
       "      <th>index</th>\n",
       "      <th>Year sold</th>\n",
       "      <th>Month sold</th>\n",
       "      <th>Day sold</th>\n",
       "      <th>Street</th>\n",
       "      <th>Street number</th>\n",
       "      <th>Kind</th>\n",
       "      <th>Number of rooms</th>\n",
       "      <th>Floor</th>\n",
       "      <th>Squared meter</th>\n",
       "      <th>Price</th>\n",
       "    </tr>\n",
       "  </thead>\n",
       "  <tbody>\n",
       "    <tr>\n",
       "      <th>0</th>\n",
       "      <td>0</td>\n",
       "      <td>2021</td>\n",
       "      <td>12</td>\n",
       "      <td>20</td>\n",
       "      <td>נירים</td>\n",
       "      <td>3</td>\n",
       "      <td>דירה בבית קומות</td>\n",
       "      <td>6.0</td>\n",
       "      <td>6.0</td>\n",
       "      <td>134.60</td>\n",
       "      <td>3670000</td>\n",
       "    </tr>\n",
       "    <tr>\n",
       "      <th>1</th>\n",
       "      <td>1</td>\n",
       "      <td>2021</td>\n",
       "      <td>12</td>\n",
       "      <td>19</td>\n",
       "      <td>קרל נטר</td>\n",
       "      <td>6</td>\n",
       "      <td>דירה בבית קומות</td>\n",
       "      <td>3.0</td>\n",
       "      <td>3.0</td>\n",
       "      <td>81.00</td>\n",
       "      <td>1770000</td>\n",
       "    </tr>\n",
       "    <tr>\n",
       "      <th>2</th>\n",
       "      <td>2</td>\n",
       "      <td>2021</td>\n",
       "      <td>12</td>\n",
       "      <td>16</td>\n",
       "      <td>יהודה הלוי</td>\n",
       "      <td>27</td>\n",
       "      <td>דירה בבית קומות</td>\n",
       "      <td>5.0</td>\n",
       "      <td>5.0</td>\n",
       "      <td>120.00</td>\n",
       "      <td>2400000</td>\n",
       "    </tr>\n",
       "    <tr>\n",
       "      <th>3</th>\n",
       "      <td>3</td>\n",
       "      <td>2021</td>\n",
       "      <td>12</td>\n",
       "      <td>15</td>\n",
       "      <td>שרירא שמואל</td>\n",
       "      <td>17</td>\n",
       "      <td>דירה בבית קומות</td>\n",
       "      <td>4.0</td>\n",
       "      <td>2.0</td>\n",
       "      <td>64.32</td>\n",
       "      <td>2050000</td>\n",
       "    </tr>\n",
       "    <tr>\n",
       "      <th>4</th>\n",
       "      <td>4</td>\n",
       "      <td>2021</td>\n",
       "      <td>12</td>\n",
       "      <td>15</td>\n",
       "      <td>תרמ\"ב</td>\n",
       "      <td>30</td>\n",
       "      <td>דירה בבית קומות</td>\n",
       "      <td>3.0</td>\n",
       "      <td>3.0</td>\n",
       "      <td>80.98</td>\n",
       "      <td>1640000</td>\n",
       "    </tr>\n",
       "    <tr>\n",
       "      <th>...</th>\n",
       "      <td>...</td>\n",
       "      <td>...</td>\n",
       "      <td>...</td>\n",
       "      <td>...</td>\n",
       "      <td>...</td>\n",
       "      <td>...</td>\n",
       "      <td>...</td>\n",
       "      <td>...</td>\n",
       "      <td>...</td>\n",
       "      <td>...</td>\n",
       "      <td>...</td>\n",
       "    </tr>\n",
       "    <tr>\n",
       "      <th>11922</th>\n",
       "      <td>11922</td>\n",
       "      <td>2014</td>\n",
       "      <td>12</td>\n",
       "      <td>28</td>\n",
       "      <td>ז'בוטינסקי</td>\n",
       "      <td>3</td>\n",
       "      <td>דירה בבית קומות</td>\n",
       "      <td>3.0</td>\n",
       "      <td>4.0</td>\n",
       "      <td>54.30</td>\n",
       "      <td>930000</td>\n",
       "    </tr>\n",
       "    <tr>\n",
       "      <th>11923</th>\n",
       "      <td>11923</td>\n",
       "      <td>2014</td>\n",
       "      <td>12</td>\n",
       "      <td>28</td>\n",
       "      <td>ההתיישבות</td>\n",
       "      <td>51</td>\n",
       "      <td>דירה בבית קומות</td>\n",
       "      <td>5.0</td>\n",
       "      <td>6.0</td>\n",
       "      <td>139.20</td>\n",
       "      <td>2280000</td>\n",
       "    </tr>\n",
       "    <tr>\n",
       "      <th>11924</th>\n",
       "      <td>11924</td>\n",
       "      <td>2014</td>\n",
       "      <td>12</td>\n",
       "      <td>28</td>\n",
       "      <td>כתריאל</td>\n",
       "      <td>10</td>\n",
       "      <td>דירת גן</td>\n",
       "      <td>6.0</td>\n",
       "      <td>6.0</td>\n",
       "      <td>140.30</td>\n",
       "      <td>2560000</td>\n",
       "    </tr>\n",
       "    <tr>\n",
       "      <th>11925</th>\n",
       "      <td>11925</td>\n",
       "      <td>2014</td>\n",
       "      <td>12</td>\n",
       "      <td>28</td>\n",
       "      <td>הרב גורן</td>\n",
       "      <td>15</td>\n",
       "      <td>דירה בבית קומות</td>\n",
       "      <td>5.0</td>\n",
       "      <td>1.0</td>\n",
       "      <td>102.00</td>\n",
       "      <td>1810000</td>\n",
       "    </tr>\n",
       "    <tr>\n",
       "      <th>11926</th>\n",
       "      <td>11926</td>\n",
       "      <td>2014</td>\n",
       "      <td>12</td>\n",
       "      <td>28</td>\n",
       "      <td>סנש חנה</td>\n",
       "      <td>8</td>\n",
       "      <td>דירה בבית קומות</td>\n",
       "      <td>3.0</td>\n",
       "      <td>1.0</td>\n",
       "      <td>56.50</td>\n",
       "      <td>127000</td>\n",
       "    </tr>\n",
       "  </tbody>\n",
       "</table>\n",
       "<p>11927 rows × 11 columns</p>\n",
       "</div>"
      ],
      "text/plain": [
       "       index  Year sold  Month sold  Day sold       Street  Street number  \\\n",
       "0          0       2021          12        20        נירים              3   \n",
       "1          1       2021          12        19      קרל נטר              6   \n",
       "2          2       2021          12        16   יהודה הלוי             27   \n",
       "3          3       2021          12        15  שרירא שמואל             17   \n",
       "4          4       2021          12        15        תרמ\"ב             30   \n",
       "...      ...        ...         ...       ...          ...            ...   \n",
       "11922  11922       2014          12        28   ז'בוטינסקי              3   \n",
       "11923  11923       2014          12        28    ההתיישבות             51   \n",
       "11924  11924       2014          12        28       כתריאל             10   \n",
       "11925  11925       2014          12        28     הרב גורן             15   \n",
       "11926  11926       2014          12        28      סנש חנה              8   \n",
       "\n",
       "                  Kind  Number of rooms  Floor  Squared meter    Price  \n",
       "0      דירה בבית קומות              6.0    6.0         134.60  3670000  \n",
       "1      דירה בבית קומות              3.0    3.0          81.00  1770000  \n",
       "2      דירה בבית קומות              5.0    5.0         120.00  2400000  \n",
       "3      דירה בבית קומות              4.0    2.0          64.32  2050000  \n",
       "4      דירה בבית קומות              3.0    3.0          80.98  1640000  \n",
       "...                ...              ...    ...            ...      ...  \n",
       "11922  דירה בבית קומות              3.0    4.0          54.30   930000  \n",
       "11923  דירה בבית קומות              5.0    6.0         139.20  2280000  \n",
       "11924          דירת גן              6.0    6.0         140.30  2560000  \n",
       "11925  דירה בבית קומות              5.0    1.0         102.00  1810000  \n",
       "11926  דירה בבית קומות              3.0    1.0          56.50   127000  \n",
       "\n",
       "[11927 rows x 11 columns]"
      ]
     },
     "execution_count": 5,
     "metadata": {},
     "output_type": "execute_result"
    }
   ],
   "source": [
    "df"
   ]
  },
  {
   "cell_type": "code",
   "execution_count": 6,
   "metadata": {},
   "outputs": [],
   "source": [
    "df[\"Kind\"].replace({\"דירה\": \"1\", \"דירה בבית קומות\": \"1\"}, inplace=True)\n",
    "df[\"Kind\"].replace({\"דירת גן\": \"2\"}, inplace=True)\n",
    "df[\"Kind\"].replace({\"דירת גג\": \"3\", \"דירת גג (פנטהאוז)\": \"3\"}, inplace=True)"
   ]
  },
  {
   "cell_type": "code",
   "execution_count": 6,
   "metadata": {},
   "outputs": [],
   "source": [
    "# taking the reliable data.\n",
    "# we noticed that there are some errors in the data we took,\n",
    "# so, to get a reliable prediction, we will take the data that is more reliable.\n",
    "# we decided that these data is more reliable by talking to expert (from family)\n",
    "# that understands about the real estate in out country.\n",
    "#df = df.loc[(df['Number of rooms'] >= 3) & (df['Price'] >= 800000) & (df['Squared meter'] >= 75)]"
   ]
  },
  {
   "cell_type": "code",
   "execution_count": 7,
   "metadata": {},
   "outputs": [],
   "source": [
    "#df = df.loc[(df['Number of rooms'] >= 3) & (df['Price'] >= 800000)]"
   ]
  },
  {
   "cell_type": "code",
   "execution_count": 8,
   "metadata": {},
   "outputs": [],
   "source": [
    "#df = df.loc[(df['Price'] >= 1000000) & (df['Year sold'] >= 2020)]"
   ]
  },
  {
   "cell_type": "code",
   "execution_count": 9,
   "metadata": {},
   "outputs": [],
   "source": [
    "#print(df['Price'].max())\n",
    "#data = data.drop(data.index[1])"
   ]
  },
  {
   "cell_type": "code",
   "execution_count": 7,
   "metadata": {},
   "outputs": [
    {
     "data": {
      "text/plain": [
       "0            0\n",
       "1            1\n",
       "2            2\n",
       "3            3\n",
       "4            4\n",
       "         ...  \n",
       "11922    11922\n",
       "11923    11923\n",
       "11924    11924\n",
       "11925    11925\n",
       "11926    11926\n",
       "Name: index, Length: 11927, dtype: int64"
      ]
     },
     "execution_count": 7,
     "metadata": {},
     "output_type": "execute_result"
    }
   ],
   "source": [
    "df.pop('index')"
   ]
  },
  {
   "cell_type": "code",
   "execution_count": 8,
   "metadata": {},
   "outputs": [
    {
     "data": {
      "text/html": [
       "<div>\n",
       "<style scoped>\n",
       "    .dataframe tbody tr th:only-of-type {\n",
       "        vertical-align: middle;\n",
       "    }\n",
       "\n",
       "    .dataframe tbody tr th {\n",
       "        vertical-align: top;\n",
       "    }\n",
       "\n",
       "    .dataframe thead th {\n",
       "        text-align: right;\n",
       "    }\n",
       "</style>\n",
       "<table border=\"1\" class=\"dataframe\">\n",
       "  <thead>\n",
       "    <tr style=\"text-align: right;\">\n",
       "      <th></th>\n",
       "      <th>Year sold</th>\n",
       "      <th>Month sold</th>\n",
       "      <th>Day sold</th>\n",
       "      <th>Street</th>\n",
       "      <th>Street number</th>\n",
       "      <th>Kind</th>\n",
       "      <th>Number of rooms</th>\n",
       "      <th>Floor</th>\n",
       "      <th>Squared meter</th>\n",
       "      <th>Price</th>\n",
       "    </tr>\n",
       "  </thead>\n",
       "  <tbody>\n",
       "    <tr>\n",
       "      <th>0</th>\n",
       "      <td>2021</td>\n",
       "      <td>12</td>\n",
       "      <td>20</td>\n",
       "      <td>נירים</td>\n",
       "      <td>3</td>\n",
       "      <td>1</td>\n",
       "      <td>6.0</td>\n",
       "      <td>6.0</td>\n",
       "      <td>134.60</td>\n",
       "      <td>3670000</td>\n",
       "    </tr>\n",
       "    <tr>\n",
       "      <th>1</th>\n",
       "      <td>2021</td>\n",
       "      <td>12</td>\n",
       "      <td>19</td>\n",
       "      <td>קרל נטר</td>\n",
       "      <td>6</td>\n",
       "      <td>1</td>\n",
       "      <td>3.0</td>\n",
       "      <td>3.0</td>\n",
       "      <td>81.00</td>\n",
       "      <td>1770000</td>\n",
       "    </tr>\n",
       "    <tr>\n",
       "      <th>2</th>\n",
       "      <td>2021</td>\n",
       "      <td>12</td>\n",
       "      <td>16</td>\n",
       "      <td>יהודה הלוי</td>\n",
       "      <td>27</td>\n",
       "      <td>1</td>\n",
       "      <td>5.0</td>\n",
       "      <td>5.0</td>\n",
       "      <td>120.00</td>\n",
       "      <td>2400000</td>\n",
       "    </tr>\n",
       "    <tr>\n",
       "      <th>3</th>\n",
       "      <td>2021</td>\n",
       "      <td>12</td>\n",
       "      <td>15</td>\n",
       "      <td>שרירא שמואל</td>\n",
       "      <td>17</td>\n",
       "      <td>1</td>\n",
       "      <td>4.0</td>\n",
       "      <td>2.0</td>\n",
       "      <td>64.32</td>\n",
       "      <td>2050000</td>\n",
       "    </tr>\n",
       "    <tr>\n",
       "      <th>4</th>\n",
       "      <td>2021</td>\n",
       "      <td>12</td>\n",
       "      <td>15</td>\n",
       "      <td>תרמ\"ב</td>\n",
       "      <td>30</td>\n",
       "      <td>1</td>\n",
       "      <td>3.0</td>\n",
       "      <td>3.0</td>\n",
       "      <td>80.98</td>\n",
       "      <td>1640000</td>\n",
       "    </tr>\n",
       "  </tbody>\n",
       "</table>\n",
       "</div>"
      ],
      "text/plain": [
       "   Year sold  Month sold  Day sold       Street  Street number Kind  \\\n",
       "0       2021          12        20        נירים              3    1   \n",
       "1       2021          12        19      קרל נטר              6    1   \n",
       "2       2021          12        16   יהודה הלוי             27    1   \n",
       "3       2021          12        15  שרירא שמואל             17    1   \n",
       "4       2021          12        15        תרמ\"ב             30    1   \n",
       "\n",
       "   Number of rooms  Floor  Squared meter    Price  \n",
       "0              6.0    6.0         134.60  3670000  \n",
       "1              3.0    3.0          81.00  1770000  \n",
       "2              5.0    5.0         120.00  2400000  \n",
       "3              4.0    2.0          64.32  2050000  \n",
       "4              3.0    3.0          80.98  1640000  "
      ]
     },
     "execution_count": 8,
     "metadata": {},
     "output_type": "execute_result"
    }
   ],
   "source": [
    "df.head()"
   ]
  },
  {
   "cell_type": "code",
   "execution_count": 129,
   "metadata": {},
   "outputs": [
    {
     "data": {
      "text/plain": [
       "1    11205\n",
       "2       66\n",
       "3       57\n",
       "Name: Kind, dtype: int64"
      ]
     },
     "execution_count": 129,
     "metadata": {},
     "output_type": "execute_result"
    }
   ],
   "source": [
    "df['Kind'].value_counts()"
   ]
  },
  {
   "cell_type": "code",
   "execution_count": 9,
   "metadata": {},
   "outputs": [
    {
     "data": {
      "text/plain": [
       "0        20\n",
       "1        19\n",
       "2        16\n",
       "3        15\n",
       "4        15\n",
       "         ..\n",
       "11922    28\n",
       "11923    28\n",
       "11924    28\n",
       "11925    28\n",
       "11926    28\n",
       "Name: Day sold, Length: 11927, dtype: int64"
      ]
     },
     "execution_count": 9,
     "metadata": {},
     "output_type": "execute_result"
    }
   ],
   "source": [
    "df.pop('Day sold')"
   ]
  },
  {
   "cell_type": "code",
   "execution_count": 10,
   "metadata": {},
   "outputs": [
    {
     "data": {
      "text/plain": [
       "0         3\n",
       "1         6\n",
       "2        27\n",
       "3        17\n",
       "4        30\n",
       "         ..\n",
       "11922     3\n",
       "11923    51\n",
       "11924    10\n",
       "11925    15\n",
       "11926     8\n",
       "Name: Street number, Length: 11927, dtype: int64"
      ]
     },
     "execution_count": 10,
     "metadata": {},
     "output_type": "execute_result"
    }
   ],
   "source": [
    "df.pop('Street number')"
   ]
  },
  {
   "cell_type": "code",
   "execution_count": 11,
   "metadata": {},
   "outputs": [
    {
     "data": {
      "text/html": [
       "<div>\n",
       "<style scoped>\n",
       "    .dataframe tbody tr th:only-of-type {\n",
       "        vertical-align: middle;\n",
       "    }\n",
       "\n",
       "    .dataframe tbody tr th {\n",
       "        vertical-align: top;\n",
       "    }\n",
       "\n",
       "    .dataframe thead th {\n",
       "        text-align: right;\n",
       "    }\n",
       "</style>\n",
       "<table border=\"1\" class=\"dataframe\">\n",
       "  <thead>\n",
       "    <tr style=\"text-align: right;\">\n",
       "      <th></th>\n",
       "      <th>Year sold</th>\n",
       "      <th>Month sold</th>\n",
       "      <th>Street</th>\n",
       "      <th>Kind</th>\n",
       "      <th>Number of rooms</th>\n",
       "      <th>Floor</th>\n",
       "      <th>Squared meter</th>\n",
       "      <th>Price</th>\n",
       "    </tr>\n",
       "  </thead>\n",
       "  <tbody>\n",
       "    <tr>\n",
       "      <th>0</th>\n",
       "      <td>2021</td>\n",
       "      <td>12</td>\n",
       "      <td>נירים</td>\n",
       "      <td>1</td>\n",
       "      <td>6.0</td>\n",
       "      <td>6.0</td>\n",
       "      <td>134.60</td>\n",
       "      <td>3670000</td>\n",
       "    </tr>\n",
       "    <tr>\n",
       "      <th>1</th>\n",
       "      <td>2021</td>\n",
       "      <td>12</td>\n",
       "      <td>קרל נטר</td>\n",
       "      <td>1</td>\n",
       "      <td>3.0</td>\n",
       "      <td>3.0</td>\n",
       "      <td>81.00</td>\n",
       "      <td>1770000</td>\n",
       "    </tr>\n",
       "    <tr>\n",
       "      <th>2</th>\n",
       "      <td>2021</td>\n",
       "      <td>12</td>\n",
       "      <td>יהודה הלוי</td>\n",
       "      <td>1</td>\n",
       "      <td>5.0</td>\n",
       "      <td>5.0</td>\n",
       "      <td>120.00</td>\n",
       "      <td>2400000</td>\n",
       "    </tr>\n",
       "    <tr>\n",
       "      <th>3</th>\n",
       "      <td>2021</td>\n",
       "      <td>12</td>\n",
       "      <td>שרירא שמואל</td>\n",
       "      <td>1</td>\n",
       "      <td>4.0</td>\n",
       "      <td>2.0</td>\n",
       "      <td>64.32</td>\n",
       "      <td>2050000</td>\n",
       "    </tr>\n",
       "    <tr>\n",
       "      <th>4</th>\n",
       "      <td>2021</td>\n",
       "      <td>12</td>\n",
       "      <td>תרמ\"ב</td>\n",
       "      <td>1</td>\n",
       "      <td>3.0</td>\n",
       "      <td>3.0</td>\n",
       "      <td>80.98</td>\n",
       "      <td>1640000</td>\n",
       "    </tr>\n",
       "  </tbody>\n",
       "</table>\n",
       "</div>"
      ],
      "text/plain": [
       "   Year sold  Month sold       Street Kind  Number of rooms  Floor  \\\n",
       "0       2021          12        נירים    1              6.0    6.0   \n",
       "1       2021          12      קרל נטר    1              3.0    3.0   \n",
       "2       2021          12   יהודה הלוי    1              5.0    5.0   \n",
       "3       2021          12  שרירא שמואל    1              4.0    2.0   \n",
       "4       2021          12        תרמ\"ב    1              3.0    3.0   \n",
       "\n",
       "   Squared meter    Price  \n",
       "0         134.60  3670000  \n",
       "1          81.00  1770000  \n",
       "2         120.00  2400000  \n",
       "3          64.32  2050000  \n",
       "4          80.98  1640000  "
      ]
     },
     "execution_count": 11,
     "metadata": {},
     "output_type": "execute_result"
    }
   ],
   "source": [
    "df.head()"
   ]
  },
  {
   "cell_type": "code",
   "execution_count": 12,
   "metadata": {},
   "outputs": [
    {
     "data": {
      "text/html": [
       "<div>\n",
       "<style scoped>\n",
       "    .dataframe tbody tr th:only-of-type {\n",
       "        vertical-align: middle;\n",
       "    }\n",
       "\n",
       "    .dataframe tbody tr th {\n",
       "        vertical-align: top;\n",
       "    }\n",
       "\n",
       "    .dataframe thead th {\n",
       "        text-align: right;\n",
       "    }\n",
       "</style>\n",
       "<table border=\"1\" class=\"dataframe\">\n",
       "  <thead>\n",
       "    <tr style=\"text-align: right;\">\n",
       "      <th></th>\n",
       "      <th>Year sold</th>\n",
       "      <th>Month sold</th>\n",
       "      <th>Number of rooms</th>\n",
       "      <th>Floor</th>\n",
       "      <th>Squared meter</th>\n",
       "      <th>Price</th>\n",
       "    </tr>\n",
       "  </thead>\n",
       "  <tbody>\n",
       "    <tr>\n",
       "      <th>count</th>\n",
       "      <td>11927.000000</td>\n",
       "      <td>11927.000000</td>\n",
       "      <td>11927.000000</td>\n",
       "      <td>11927.000000</td>\n",
       "      <td>11927.000000</td>\n",
       "      <td>1.192700e+04</td>\n",
       "    </tr>\n",
       "    <tr>\n",
       "      <th>mean</th>\n",
       "      <td>2018.007546</td>\n",
       "      <td>6.404712</td>\n",
       "      <td>3.703823</td>\n",
       "      <td>3.728264</td>\n",
       "      <td>85.105796</td>\n",
       "      <td>1.690010e+06</td>\n",
       "    </tr>\n",
       "    <tr>\n",
       "      <th>std</th>\n",
       "      <td>2.060817</td>\n",
       "      <td>3.486197</td>\n",
       "      <td>0.843140</td>\n",
       "      <td>3.149475</td>\n",
       "      <td>30.769447</td>\n",
       "      <td>1.105917e+06</td>\n",
       "    </tr>\n",
       "    <tr>\n",
       "      <th>min</th>\n",
       "      <td>2014.000000</td>\n",
       "      <td>1.000000</td>\n",
       "      <td>1.000000</td>\n",
       "      <td>0.000000</td>\n",
       "      <td>21.500000</td>\n",
       "      <td>1.200000e+05</td>\n",
       "    </tr>\n",
       "    <tr>\n",
       "      <th>25%</th>\n",
       "      <td>2016.000000</td>\n",
       "      <td>3.000000</td>\n",
       "      <td>3.000000</td>\n",
       "      <td>2.000000</td>\n",
       "      <td>65.820000</td>\n",
       "      <td>1.350000e+06</td>\n",
       "    </tr>\n",
       "    <tr>\n",
       "      <th>50%</th>\n",
       "      <td>2018.000000</td>\n",
       "      <td>6.000000</td>\n",
       "      <td>4.000000</td>\n",
       "      <td>3.000000</td>\n",
       "      <td>82.000000</td>\n",
       "      <td>1.600000e+06</td>\n",
       "    </tr>\n",
       "    <tr>\n",
       "      <th>75%</th>\n",
       "      <td>2020.000000</td>\n",
       "      <td>9.000000</td>\n",
       "      <td>4.000000</td>\n",
       "      <td>5.000000</td>\n",
       "      <td>100.000000</td>\n",
       "      <td>1.900000e+06</td>\n",
       "    </tr>\n",
       "    <tr>\n",
       "      <th>max</th>\n",
       "      <td>2021.000000</td>\n",
       "      <td>12.000000</td>\n",
       "      <td>8.000000</td>\n",
       "      <td>26.000000</td>\n",
       "      <td>1710.000000</td>\n",
       "      <td>1.060000e+08</td>\n",
       "    </tr>\n",
       "  </tbody>\n",
       "</table>\n",
       "</div>"
      ],
      "text/plain": [
       "          Year sold    Month sold  Number of rooms         Floor  \\\n",
       "count  11927.000000  11927.000000     11927.000000  11927.000000   \n",
       "mean    2018.007546      6.404712         3.703823      3.728264   \n",
       "std        2.060817      3.486197         0.843140      3.149475   \n",
       "min     2014.000000      1.000000         1.000000      0.000000   \n",
       "25%     2016.000000      3.000000         3.000000      2.000000   \n",
       "50%     2018.000000      6.000000         4.000000      3.000000   \n",
       "75%     2020.000000      9.000000         4.000000      5.000000   \n",
       "max     2021.000000     12.000000         8.000000     26.000000   \n",
       "\n",
       "       Squared meter         Price  \n",
       "count   11927.000000  1.192700e+04  \n",
       "mean       85.105796  1.690010e+06  \n",
       "std        30.769447  1.105917e+06  \n",
       "min        21.500000  1.200000e+05  \n",
       "25%        65.820000  1.350000e+06  \n",
       "50%        82.000000  1.600000e+06  \n",
       "75%       100.000000  1.900000e+06  \n",
       "max      1710.000000  1.060000e+08  "
      ]
     },
     "execution_count": 12,
     "metadata": {},
     "output_type": "execute_result"
    }
   ],
   "source": [
    "df.describe()"
   ]
  },
  {
   "cell_type": "code",
   "execution_count": 13,
   "metadata": {},
   "outputs": [
    {
     "data": {
      "image/png": "[encoded data removed]",
      "text/plain": [
       "<Figure size 1440x1080 with 6 Axes>"
      ]
     },
     "metadata": {
      "needs_background": "light"
     },
     "output_type": "display_data"
    }
   ],
   "source": [
    "df.hist(bins=50, figsize=(20,15))\n",
    "plt.show()"
   ]
  },
  {
   "cell_type": "code",
   "execution_count": 14,
   "metadata": {},
   "outputs": [],
   "source": [
    "# cleaning outliers\n",
    "df = df.loc[df['Year sold'] > 2014]\n",
    "df = df.loc[df['Floor'] <= 10]\n",
    "df = df.loc[(df['Number of rooms'] > 1) & (df['Number of rooms'] < 7)]\n",
    "df = df.loc[df['Squared meter'] <= 300]\n",
    "df = df.loc[df['Price'] < 10000000]"
   ]
  },
  {
   "cell_type": "code",
   "execution_count": 15,
   "metadata": {},
   "outputs": [
    {
     "data": {
      "image/png": "[encoded data removed]",
      "text/plain": [
       "<Figure size 1440x1080 with 6 Axes>"
      ]
     },
     "metadata": {
      "needs_background": "light"
     },
     "output_type": "display_data"
    }
   ],
   "source": [
    "df.hist(bins=50, figsize=(20,15))\n",
    "plt.show()"
   ]
  },
  {
   "cell_type": "code",
   "execution_count": 16,
   "metadata": {},
   "outputs": [],
   "source": [
    "# cleaning outliers again (more specific)\n",
    "df = df.loc[df['Squared meter'] <= 150]\n",
    "df = df.loc[df['Price'] < 4000000]"
   ]
  },
  {
   "cell_type": "code",
   "execution_count": null,
   "metadata": {},
   "outputs": [],
   "source": [
    "# df = pd.get_dummies(df, columns = ['Street'], prefix = '', prefix_sep = '')"
   ]
  },
  {
   "cell_type": "code",
   "execution_count": 17,
   "metadata": {},
   "outputs": [
    {
     "data": {
      "image/png": "[encoded data removed]",
      "text/plain": [
       "<Figure size 1440x720 with 2 Axes>"
      ]
     },
     "metadata": {
      "needs_background": "light"
     },
     "output_type": "display_data"
    }
   ],
   "source": [
    "plt.figure(figsize=(20, 10))\n",
    "sb.heatmap(df.corr(), cmap = 'Blues', annot=True);"
   ]
  },
  {
   "cell_type": "code",
   "execution_count": 18,
   "metadata": {},
   "outputs": [],
   "source": [
    "# as we can see from the correlation map,\n",
    "# the Month sold and Price columns are almost not correlated at all.\n",
    "# Therfore, we will drop the 'Month sold' column\n",
    "df = df.drop('Month sold', axis=1)"
   ]
  },
  {
   "cell_type": "code",
   "execution_count": 19,
   "metadata": {},
   "outputs": [
    {
     "data": {
      "image/png": "[encoded data removed]",
      "text/plain": [
       "<Figure size 432x288 with 1 Axes>"
      ]
     },
     "metadata": {
      "needs_background": "light"
     },
     "output_type": "display_data"
    },
    {
     "data": {
      "image/png": "[encoded data removed]",
      "text/plain": [
       "<Figure size 432x288 with 1 Axes>"
      ]
     },
     "metadata": {
      "needs_background": "light"
     },
     "output_type": "display_data"
    },
    {
     "data": {
      "image/png": "[encoded data removed]",
      "text/plain": [
       "<Figure size 432x288 with 1 Axes>"
      ]
     },
     "metadata": {
      "needs_background": "light"
     },
     "output_type": "display_data"
    },
    {
     "data": {
      "image/png": "[encoded data removed]",
      "text/plain": [
       "<Figure size 432x288 with 1 Axes>"
      ]
     },
     "metadata": {
      "needs_background": "light"
     },
     "output_type": "display_data"
    }
   ],
   "source": [
    "sb.scatterplot(x = df['Price'], y = df['Year sold'], color='blue')\n",
    "plt.title(\"Price VS Year sold\")\n",
    "plt.show()\n",
    "\n",
    "sb.scatterplot(x = df['Price'], y = df['Number of rooms'], color='red')\n",
    "plt.title(\"Price VS Number of rooms\")\n",
    "plt.show()\n",
    "\n",
    "sb.scatterplot(x = df['Price'], y = df['Floor'], color='green')\n",
    "plt.title(\"Price VS Floor\")\n",
    "plt.show()\n",
    "\n",
    "sb.scatterplot(x = df['Price'], y = df['Squared meter'], color='orange')\n",
    "plt.title(\"Price VS Squared meter\")\n",
    "plt.show()"
   ]
  },
  {
   "cell_type": "code",
   "execution_count": 130,
   "metadata": {},
   "outputs": [
    {
     "data": {
      "image/png": "[encoded data removed]",
      "text/plain": [
       "<Figure size 432x288 with 1 Axes>"
      ]
     },
     "metadata": {
      "needs_background": "light"
     },
     "output_type": "display_data"
    }
   ],
   "source": [
    "ax = sb.regplot(x=\"Price\", y=\"Year sold\", data=df, fit_reg=True, scatter_kws={\"color\": \"grey\"}, line_kws={\"color\": \"blue\"})\n",
    "ax.set_title(\"Regression Line: Price VS Year sold\", color=\"black\", loc='left');"
   ]
  },
  {
   "cell_type": "code",
   "execution_count": 131,
   "metadata": {},
   "outputs": [
    {
     "data": {
      "image/png": "[encoded data removed]",
      "text/plain": [
       "<Figure size 432x288 with 1 Axes>"
      ]
     },
     "metadata": {
      "needs_background": "light"
     },
     "output_type": "display_data"
    }
   ],
   "source": [
    "ax = sb.regplot(x=\"Price\", y=\"Number of rooms\", data=df, fit_reg=True, scatter_kws={\"color\": \"grey\"}, line_kws={\"color\": \"red\"})\n",
    "ax.set_title(\"Regression Line: Price VS Number of rooms\", color=\"black\", loc='left');"
   ]
  },
  {
   "cell_type": "code",
   "execution_count": 134,
   "metadata": {},
   "outputs": [
    {
     "data": {
      "image/png": "[encoded data removed]",
      "text/plain": [
       "<Figure size 432x288 with 1 Axes>"
      ]
     },
     "metadata": {
      "needs_background": "light"
     },
     "output_type": "display_data"
    }
   ],
   "source": [
    "ax = sb.regplot(x=\"Price\", y=\"Floor\", data=df, fit_reg=True, scatter_kws={\"color\": \"grey\"}, line_kws={\"color\": \"green\"})\n",
    "ax.set_title(\"Regression Line: Price VS Floor\", color=\"black\", loc='left');"
   ]
  },
  {
   "cell_type": "code",
   "execution_count": 133,
   "metadata": {},
   "outputs": [
    {
     "data": {
      "image/png": "[encoded data removed]",
      "text/plain": [
       "<Figure size 432x288 with 1 Axes>"
      ]
     },
     "metadata": {
      "needs_background": "light"
     },
     "output_type": "display_data"
    }
   ],
   "source": [
    "ax = sb.regplot(x=\"Price\", y=\"Squared meter\", data=df, fit_reg=True, scatter_kws={\"color\": \"grey\"}, line_kws={\"color\": \"orange\"})\n",
    "ax.set_title(\"Regression Line: Price VS Squared meter\", color=\"black\", loc='left');"
   ]
  },
  {
   "cell_type": "code",
   "execution_count": 24,
   "metadata": {},
   "outputs": [
    {
     "data": {
      "text/html": [
       "<div>\n",
       "<style scoped>\n",
       "    .dataframe tbody tr th:only-of-type {\n",
       "        vertical-align: middle;\n",
       "    }\n",
       "\n",
       "    .dataframe tbody tr th {\n",
       "        vertical-align: top;\n",
       "    }\n",
       "\n",
       "    .dataframe thead th {\n",
       "        text-align: right;\n",
       "    }\n",
       "</style>\n",
       "<table border=\"1\" class=\"dataframe\">\n",
       "  <thead>\n",
       "    <tr style=\"text-align: right;\">\n",
       "      <th></th>\n",
       "      <th>Year sold</th>\n",
       "      <th>Number of rooms</th>\n",
       "      <th>Floor</th>\n",
       "      <th>Squared meter</th>\n",
       "      <th>Price</th>\n",
       "    </tr>\n",
       "  </thead>\n",
       "  <tbody>\n",
       "    <tr>\n",
       "      <th>count</th>\n",
       "      <td>11328.000000</td>\n",
       "      <td>11328.000000</td>\n",
       "      <td>11328.000000</td>\n",
       "      <td>11328.000000</td>\n",
       "      <td>1.132800e+04</td>\n",
       "    </tr>\n",
       "    <tr>\n",
       "      <th>mean</th>\n",
       "      <td>2018.026042</td>\n",
       "      <td>3.658104</td>\n",
       "      <td>3.288312</td>\n",
       "      <td>82.725850</td>\n",
       "      <td>1.633301e+06</td>\n",
       "    </tr>\n",
       "    <tr>\n",
       "      <th>std</th>\n",
       "      <td>2.050723</td>\n",
       "      <td>0.802730</td>\n",
       "      <td>2.133249</td>\n",
       "      <td>22.870117</td>\n",
       "      <td>4.636351e+05</td>\n",
       "    </tr>\n",
       "    <tr>\n",
       "      <th>min</th>\n",
       "      <td>2015.000000</td>\n",
       "      <td>1.500000</td>\n",
       "      <td>0.000000</td>\n",
       "      <td>22.900000</td>\n",
       "      <td>1.200000e+05</td>\n",
       "    </tr>\n",
       "    <tr>\n",
       "      <th>25%</th>\n",
       "      <td>2016.000000</td>\n",
       "      <td>3.000000</td>\n",
       "      <td>2.000000</td>\n",
       "      <td>65.400000</td>\n",
       "      <td>1.337750e+06</td>\n",
       "    </tr>\n",
       "    <tr>\n",
       "      <th>50%</th>\n",
       "      <td>2018.000000</td>\n",
       "      <td>4.000000</td>\n",
       "      <td>3.000000</td>\n",
       "      <td>80.905000</td>\n",
       "      <td>1.575000e+06</td>\n",
       "    </tr>\n",
       "    <tr>\n",
       "      <th>75%</th>\n",
       "      <td>2020.000000</td>\n",
       "      <td>4.000000</td>\n",
       "      <td>4.000000</td>\n",
       "      <td>97.900000</td>\n",
       "      <td>1.850000e+06</td>\n",
       "    </tr>\n",
       "    <tr>\n",
       "      <th>max</th>\n",
       "      <td>2021.000000</td>\n",
       "      <td>6.500000</td>\n",
       "      <td>10.000000</td>\n",
       "      <td>150.000000</td>\n",
       "      <td>3.902000e+06</td>\n",
       "    </tr>\n",
       "  </tbody>\n",
       "</table>\n",
       "</div>"
      ],
      "text/plain": [
       "          Year sold  Number of rooms         Floor  Squared meter  \\\n",
       "count  11328.000000     11328.000000  11328.000000   11328.000000   \n",
       "mean    2018.026042         3.658104      3.288312      82.725850   \n",
       "std        2.050723         0.802730      2.133249      22.870117   \n",
       "min     2015.000000         1.500000      0.000000      22.900000   \n",
       "25%     2016.000000         3.000000      2.000000      65.400000   \n",
       "50%     2018.000000         4.000000      3.000000      80.905000   \n",
       "75%     2020.000000         4.000000      4.000000      97.900000   \n",
       "max     2021.000000         6.500000     10.000000     150.000000   \n",
       "\n",
       "              Price  \n",
       "count  1.132800e+04  \n",
       "mean   1.633301e+06  \n",
       "std    4.636351e+05  \n",
       "min    1.200000e+05  \n",
       "25%    1.337750e+06  \n",
       "50%    1.575000e+06  \n",
       "75%    1.850000e+06  \n",
       "max    3.902000e+06  "
      ]
     },
     "execution_count": 24,
     "metadata": {},
     "output_type": "execute_result"
    }
   ],
   "source": [
    "df.describe()"
   ]
  },
  {
   "cell_type": "code",
   "execution_count": 25,
   "metadata": {},
   "outputs": [
    {
     "data": {
      "image/png": "[encoded data removed]",
      "text/plain": [
       "<Figure size 1152x576 with 2 Axes>"
      ]
     },
     "metadata": {
      "needs_background": "light"
     },
     "output_type": "display_data"
    }
   ],
   "source": [
    "plt.figure(figsize=(16, 8))\n",
    "sb.heatmap(df.corr(), cmap = 'Blues', annot=True);"
   ]
  },
  {
   "cell_type": "code",
   "execution_count": 26,
   "metadata": {},
   "outputs": [],
   "source": [
    "df_without_street = df.drop('Street', axis=1)\n",
    "df_with_street_dummies = pd.get_dummies(df, columns = ['Street'], prefix = '', prefix_sep = '')"
   ]
  },
  {
   "cell_type": "code",
   "execution_count": 27,
   "metadata": {},
   "outputs": [
    {
     "data": {
      "text/html": [
       "<div>\n",
       "<style scoped>\n",
       "    .dataframe tbody tr th:only-of-type {\n",
       "        vertical-align: middle;\n",
       "    }\n",
       "\n",
       "    .dataframe tbody tr th {\n",
       "        vertical-align: top;\n",
       "    }\n",
       "\n",
       "    .dataframe thead th {\n",
       "        text-align: right;\n",
       "    }\n",
       "</style>\n",
       "<table border=\"1\" class=\"dataframe\">\n",
       "  <thead>\n",
       "    <tr style=\"text-align: right;\">\n",
       "      <th></th>\n",
       "      <th>Year sold</th>\n",
       "      <th>Street</th>\n",
       "      <th>Kind</th>\n",
       "      <th>Number of rooms</th>\n",
       "      <th>Floor</th>\n",
       "      <th>Squared meter</th>\n",
       "      <th>Price</th>\n",
       "    </tr>\n",
       "  </thead>\n",
       "  <tbody>\n",
       "    <tr>\n",
       "      <th>0</th>\n",
       "      <td>2021</td>\n",
       "      <td>נירים</td>\n",
       "      <td>1</td>\n",
       "      <td>6.0</td>\n",
       "      <td>6.0</td>\n",
       "      <td>134.60</td>\n",
       "      <td>3670000</td>\n",
       "    </tr>\n",
       "    <tr>\n",
       "      <th>1</th>\n",
       "      <td>2021</td>\n",
       "      <td>קרל נטר</td>\n",
       "      <td>1</td>\n",
       "      <td>3.0</td>\n",
       "      <td>3.0</td>\n",
       "      <td>81.00</td>\n",
       "      <td>1770000</td>\n",
       "    </tr>\n",
       "    <tr>\n",
       "      <th>2</th>\n",
       "      <td>2021</td>\n",
       "      <td>יהודה הלוי</td>\n",
       "      <td>1</td>\n",
       "      <td>5.0</td>\n",
       "      <td>5.0</td>\n",
       "      <td>120.00</td>\n",
       "      <td>2400000</td>\n",
       "    </tr>\n",
       "    <tr>\n",
       "      <th>3</th>\n",
       "      <td>2021</td>\n",
       "      <td>שרירא שמואל</td>\n",
       "      <td>1</td>\n",
       "      <td>4.0</td>\n",
       "      <td>2.0</td>\n",
       "      <td>64.32</td>\n",
       "      <td>2050000</td>\n",
       "    </tr>\n",
       "    <tr>\n",
       "      <th>4</th>\n",
       "      <td>2021</td>\n",
       "      <td>תרמ\"ב</td>\n",
       "      <td>1</td>\n",
       "      <td>3.0</td>\n",
       "      <td>3.0</td>\n",
       "      <td>80.98</td>\n",
       "      <td>1640000</td>\n",
       "    </tr>\n",
       "  </tbody>\n",
       "</table>\n",
       "</div>"
      ],
      "text/plain": [
       "   Year sold       Street Kind  Number of rooms  Floor  Squared meter    Price\n",
       "0       2021        נירים    1              6.0    6.0         134.60  3670000\n",
       "1       2021      קרל נטר    1              3.0    3.0          81.00  1770000\n",
       "2       2021   יהודה הלוי    1              5.0    5.0         120.00  2400000\n",
       "3       2021  שרירא שמואל    1              4.0    2.0          64.32  2050000\n",
       "4       2021        תרמ\"ב    1              3.0    3.0          80.98  1640000"
      ]
     },
     "execution_count": 27,
     "metadata": {},
     "output_type": "execute_result"
    }
   ],
   "source": [
    "df.head()"
   ]
  },
  {
   "cell_type": "code",
   "execution_count": 28,
   "metadata": {},
   "outputs": [
    {
     "data": {
      "text/html": [
       "<div>\n",
       "<style scoped>\n",
       "    .dataframe tbody tr th:only-of-type {\n",
       "        vertical-align: middle;\n",
       "    }\n",
       "\n",
       "    .dataframe tbody tr th {\n",
       "        vertical-align: top;\n",
       "    }\n",
       "\n",
       "    .dataframe thead th {\n",
       "        text-align: right;\n",
       "    }\n",
       "</style>\n",
       "<table border=\"1\" class=\"dataframe\">\n",
       "  <thead>\n",
       "    <tr style=\"text-align: right;\">\n",
       "      <th></th>\n",
       "      <th>Year sold</th>\n",
       "      <th>Kind</th>\n",
       "      <th>Number of rooms</th>\n",
       "      <th>Floor</th>\n",
       "      <th>Squared meter</th>\n",
       "      <th>Price</th>\n",
       "    </tr>\n",
       "  </thead>\n",
       "  <tbody>\n",
       "    <tr>\n",
       "      <th>0</th>\n",
       "      <td>2021</td>\n",
       "      <td>1</td>\n",
       "      <td>6.0</td>\n",
       "      <td>6.0</td>\n",
       "      <td>134.60</td>\n",
       "      <td>3670000</td>\n",
       "    </tr>\n",
       "    <tr>\n",
       "      <th>1</th>\n",
       "      <td>2021</td>\n",
       "      <td>1</td>\n",
       "      <td>3.0</td>\n",
       "      <td>3.0</td>\n",
       "      <td>81.00</td>\n",
       "      <td>1770000</td>\n",
       "    </tr>\n",
       "    <tr>\n",
       "      <th>2</th>\n",
       "      <td>2021</td>\n",
       "      <td>1</td>\n",
       "      <td>5.0</td>\n",
       "      <td>5.0</td>\n",
       "      <td>120.00</td>\n",
       "      <td>2400000</td>\n",
       "    </tr>\n",
       "    <tr>\n",
       "      <th>3</th>\n",
       "      <td>2021</td>\n",
       "      <td>1</td>\n",
       "      <td>4.0</td>\n",
       "      <td>2.0</td>\n",
       "      <td>64.32</td>\n",
       "      <td>2050000</td>\n",
       "    </tr>\n",
       "    <tr>\n",
       "      <th>4</th>\n",
       "      <td>2021</td>\n",
       "      <td>1</td>\n",
       "      <td>3.0</td>\n",
       "      <td>3.0</td>\n",
       "      <td>80.98</td>\n",
       "      <td>1640000</td>\n",
       "    </tr>\n",
       "  </tbody>\n",
       "</table>\n",
       "</div>"
      ],
      "text/plain": [
       "   Year sold Kind  Number of rooms  Floor  Squared meter    Price\n",
       "0       2021    1              6.0    6.0         134.60  3670000\n",
       "1       2021    1              3.0    3.0          81.00  1770000\n",
       "2       2021    1              5.0    5.0         120.00  2400000\n",
       "3       2021    1              4.0    2.0          64.32  2050000\n",
       "4       2021    1              3.0    3.0          80.98  1640000"
      ]
     },
     "execution_count": 28,
     "metadata": {},
     "output_type": "execute_result"
    }
   ],
   "source": [
    "df_without_street.head()"
   ]
  },
  {
   "cell_type": "code",
   "execution_count": 29,
   "metadata": {},
   "outputs": [
    {
     "data": {
      "text/html": [
       "<div>\n",
       "<style scoped>\n",
       "    .dataframe tbody tr th:only-of-type {\n",
       "        vertical-align: middle;\n",
       "    }\n",
       "\n",
       "    .dataframe tbody tr th {\n",
       "        vertical-align: top;\n",
       "    }\n",
       "\n",
       "    .dataframe thead th {\n",
       "        text-align: right;\n",
       "    }\n",
       "</style>\n",
       "<table border=\"1\" class=\"dataframe\">\n",
       "  <thead>\n",
       "    <tr style=\"text-align: right;\">\n",
       "      <th></th>\n",
       "      <th>Year sold</th>\n",
       "      <th>Kind</th>\n",
       "      <th>Number of rooms</th>\n",
       "      <th>Floor</th>\n",
       "      <th>Squared meter</th>\n",
       "      <th>Price</th>\n",
       "      <th>אבידן שמעון</th>\n",
       "      <th>אביעזר</th>\n",
       "      <th>אבן גבירול</th>\n",
       "      <th>אבן חן</th>\n",
       "      <th>...</th>\n",
       "      <th>שפרינצק</th>\n",
       "      <th>שרירא שמואל</th>\n",
       "      <th>שרף חיים</th>\n",
       "      <th>תדהר דוד</th>\n",
       "      <th>תורה ועבודה</th>\n",
       "      <th>תל חי</th>\n",
       "      <th>תנועות הנוער</th>\n",
       "      <th>תנחום</th>\n",
       "      <th>תרמ\"ב</th>\n",
       "      <th>תרשיש</th>\n",
       "    </tr>\n",
       "  </thead>\n",
       "  <tbody>\n",
       "    <tr>\n",
       "      <th>0</th>\n",
       "      <td>2021</td>\n",
       "      <td>1</td>\n",
       "      <td>6.0</td>\n",
       "      <td>6.0</td>\n",
       "      <td>134.60</td>\n",
       "      <td>3670000</td>\n",
       "      <td>0</td>\n",
       "      <td>0</td>\n",
       "      <td>0</td>\n",
       "      <td>0</td>\n",
       "      <td>...</td>\n",
       "      <td>0</td>\n",
       "      <td>0</td>\n",
       "      <td>0</td>\n",
       "      <td>0</td>\n",
       "      <td>0</td>\n",
       "      <td>0</td>\n",
       "      <td>0</td>\n",
       "      <td>0</td>\n",
       "      <td>0</td>\n",
       "      <td>0</td>\n",
       "    </tr>\n",
       "    <tr>\n",
       "      <th>1</th>\n",
       "      <td>2021</td>\n",
       "      <td>1</td>\n",
       "      <td>3.0</td>\n",
       "      <td>3.0</td>\n",
       "      <td>81.00</td>\n",
       "      <td>1770000</td>\n",
       "      <td>0</td>\n",
       "      <td>0</td>\n",
       "      <td>0</td>\n",
       "      <td>0</td>\n",
       "      <td>...</td>\n",
       "      <td>0</td>\n",
       "      <td>0</td>\n",
       "      <td>0</td>\n",
       "      <td>0</td>\n",
       "      <td>0</td>\n",
       "      <td>0</td>\n",
       "      <td>0</td>\n",
       "      <td>0</td>\n",
       "      <td>0</td>\n",
       "      <td>0</td>\n",
       "    </tr>\n",
       "    <tr>\n",
       "      <th>2</th>\n",
       "      <td>2021</td>\n",
       "      <td>1</td>\n",
       "      <td>5.0</td>\n",
       "      <td>5.0</td>\n",
       "      <td>120.00</td>\n",
       "      <td>2400000</td>\n",
       "      <td>0</td>\n",
       "      <td>0</td>\n",
       "      <td>0</td>\n",
       "      <td>0</td>\n",
       "      <td>...</td>\n",
       "      <td>0</td>\n",
       "      <td>0</td>\n",
       "      <td>0</td>\n",
       "      <td>0</td>\n",
       "      <td>0</td>\n",
       "      <td>0</td>\n",
       "      <td>0</td>\n",
       "      <td>0</td>\n",
       "      <td>0</td>\n",
       "      <td>0</td>\n",
       "    </tr>\n",
       "    <tr>\n",
       "      <th>3</th>\n",
       "      <td>2021</td>\n",
       "      <td>1</td>\n",
       "      <td>4.0</td>\n",
       "      <td>2.0</td>\n",
       "      <td>64.32</td>\n",
       "      <td>2050000</td>\n",
       "      <td>0</td>\n",
       "      <td>0</td>\n",
       "      <td>0</td>\n",
       "      <td>0</td>\n",
       "      <td>...</td>\n",
       "      <td>0</td>\n",
       "      <td>1</td>\n",
       "      <td>0</td>\n",
       "      <td>0</td>\n",
       "      <td>0</td>\n",
       "      <td>0</td>\n",
       "      <td>0</td>\n",
       "      <td>0</td>\n",
       "      <td>0</td>\n",
       "      <td>0</td>\n",
       "    </tr>\n",
       "    <tr>\n",
       "      <th>4</th>\n",
       "      <td>2021</td>\n",
       "      <td>1</td>\n",
       "      <td>3.0</td>\n",
       "      <td>3.0</td>\n",
       "      <td>80.98</td>\n",
       "      <td>1640000</td>\n",
       "      <td>0</td>\n",
       "      <td>0</td>\n",
       "      <td>0</td>\n",
       "      <td>0</td>\n",
       "      <td>...</td>\n",
       "      <td>0</td>\n",
       "      <td>0</td>\n",
       "      <td>0</td>\n",
       "      <td>0</td>\n",
       "      <td>0</td>\n",
       "      <td>0</td>\n",
       "      <td>0</td>\n",
       "      <td>0</td>\n",
       "      <td>1</td>\n",
       "      <td>0</td>\n",
       "    </tr>\n",
       "  </tbody>\n",
       "</table>\n",
       "<p>5 rows × 431 columns</p>\n",
       "</div>"
      ],
      "text/plain": [
       "   Year sold Kind  Number of rooms  Floor  Squared meter    Price  \\\n",
       "0       2021    1              6.0    6.0         134.60  3670000   \n",
       "1       2021    1              3.0    3.0          81.00  1770000   \n",
       "2       2021    1              5.0    5.0         120.00  2400000   \n",
       "3       2021    1              4.0    2.0          64.32  2050000   \n",
       "4       2021    1              3.0    3.0          80.98  1640000   \n",
       "\n",
       "   אבידן שמעון  אביעזר  אבן גבירול  אבן חן  ...  שפרינצק  שרירא שמואל  \\\n",
       "0            0       0           0       0  ...        0            0   \n",
       "1            0       0           0       0  ...        0            0   \n",
       "2            0       0           0       0  ...        0            0   \n",
       "3            0       0           0       0  ...        0            1   \n",
       "4            0       0           0       0  ...        0            0   \n",
       "\n",
       "   שרף חיים  תדהר דוד  תורה ועבודה  תל חי  תנועות הנוער  תנחום  תרמ\"ב  תרשיש  \n",
       "0         0         0            0      0             0      0      0      0  \n",
       "1         0         0            0      0             0      0      0      0  \n",
       "2         0         0            0      0             0      0      0      0  \n",
       "3         0         0            0      0             0      0      0      0  \n",
       "4         0         0            0      0             0      0      1      0  \n",
       "\n",
       "[5 rows x 431 columns]"
      ]
     },
     "execution_count": 29,
     "metadata": {},
     "output_type": "execute_result"
    }
   ],
   "source": [
    "df_with_street_dummies.head()"
   ]
  },
  {
   "cell_type": "code",
   "execution_count": 104,
   "metadata": {},
   "outputs": [],
   "source": [
    "prices = df_without_street['Price']\n",
    "data_without_prices = df_without_street.drop(['Price'],axis=1)\n",
    "X_train,X_test,y_train,y_test = train_test_split(data_without_prices, prices, test_size=0.2, random_state = 7)"
   ]
  },
  {
   "cell_type": "code",
   "execution_count": 31,
   "metadata": {},
   "outputs": [
    {
     "data": {
      "text/html": [
       "<div>\n",
       "<style scoped>\n",
       "    .dataframe tbody tr th:only-of-type {\n",
       "        vertical-align: middle;\n",
       "    }\n",
       "\n",
       "    .dataframe tbody tr th {\n",
       "        vertical-align: top;\n",
       "    }\n",
       "\n",
       "    .dataframe thead th {\n",
       "        text-align: right;\n",
       "    }\n",
       "</style>\n",
       "<table border=\"1\" class=\"dataframe\">\n",
       "  <thead>\n",
       "    <tr style=\"text-align: right;\">\n",
       "      <th></th>\n",
       "      <th>Year sold</th>\n",
       "      <th>Kind</th>\n",
       "      <th>Number of rooms</th>\n",
       "      <th>Floor</th>\n",
       "      <th>Squared meter</th>\n",
       "    </tr>\n",
       "  </thead>\n",
       "  <tbody>\n",
       "    <tr>\n",
       "      <th>3352</th>\n",
       "      <td>2020</td>\n",
       "      <td>1</td>\n",
       "      <td>5.0</td>\n",
       "      <td>4.0</td>\n",
       "      <td>120.36</td>\n",
       "    </tr>\n",
       "    <tr>\n",
       "      <th>5268</th>\n",
       "      <td>2018</td>\n",
       "      <td>1</td>\n",
       "      <td>3.0</td>\n",
       "      <td>3.0</td>\n",
       "      <td>72.00</td>\n",
       "    </tr>\n",
       "    <tr>\n",
       "      <th>4524</th>\n",
       "      <td>2019</td>\n",
       "      <td>1</td>\n",
       "      <td>6.0</td>\n",
       "      <td>5.0</td>\n",
       "      <td>148.00</td>\n",
       "    </tr>\n",
       "    <tr>\n",
       "      <th>4163</th>\n",
       "      <td>2019</td>\n",
       "      <td>1</td>\n",
       "      <td>4.0</td>\n",
       "      <td>8.0</td>\n",
       "      <td>94.00</td>\n",
       "    </tr>\n",
       "    <tr>\n",
       "      <th>7042</th>\n",
       "      <td>2017</td>\n",
       "      <td>1</td>\n",
       "      <td>3.0</td>\n",
       "      <td>3.0</td>\n",
       "      <td>55.68</td>\n",
       "    </tr>\n",
       "    <tr>\n",
       "      <th>...</th>\n",
       "      <td>...</td>\n",
       "      <td>...</td>\n",
       "      <td>...</td>\n",
       "      <td>...</td>\n",
       "      <td>...</td>\n",
       "    </tr>\n",
       "    <tr>\n",
       "      <th>4516</th>\n",
       "      <td>2019</td>\n",
       "      <td>1</td>\n",
       "      <td>5.0</td>\n",
       "      <td>10.0</td>\n",
       "      <td>121.00</td>\n",
       "    </tr>\n",
       "    <tr>\n",
       "      <th>5969</th>\n",
       "      <td>2018</td>\n",
       "      <td>1</td>\n",
       "      <td>3.0</td>\n",
       "      <td>3.0</td>\n",
       "      <td>63.43</td>\n",
       "    </tr>\n",
       "    <tr>\n",
       "      <th>11285</th>\n",
       "      <td>2015</td>\n",
       "      <td>1</td>\n",
       "      <td>4.0</td>\n",
       "      <td>2.0</td>\n",
       "      <td>89.31</td>\n",
       "    </tr>\n",
       "    <tr>\n",
       "      <th>550</th>\n",
       "      <td>2021</td>\n",
       "      <td>1</td>\n",
       "      <td>5.0</td>\n",
       "      <td>1.0</td>\n",
       "      <td>114.05</td>\n",
       "    </tr>\n",
       "    <tr>\n",
       "      <th>9861</th>\n",
       "      <td>2016</td>\n",
       "      <td>1</td>\n",
       "      <td>3.0</td>\n",
       "      <td>4.0</td>\n",
       "      <td>74.03</td>\n",
       "    </tr>\n",
       "  </tbody>\n",
       "</table>\n",
       "<p>9062 rows × 5 columns</p>\n",
       "</div>"
      ],
      "text/plain": [
       "       Year sold Kind  Number of rooms  Floor  Squared meter\n",
       "3352        2020    1              5.0    4.0         120.36\n",
       "5268        2018    1              3.0    3.0          72.00\n",
       "4524        2019    1              6.0    5.0         148.00\n",
       "4163        2019    1              4.0    8.0          94.00\n",
       "7042        2017    1              3.0    3.0          55.68\n",
       "...          ...  ...              ...    ...            ...\n",
       "4516        2019    1              5.0   10.0         121.00\n",
       "5969        2018    1              3.0    3.0          63.43\n",
       "11285       2015    1              4.0    2.0          89.31\n",
       "550         2021    1              5.0    1.0         114.05\n",
       "9861        2016    1              3.0    4.0          74.03\n",
       "\n",
       "[9062 rows x 5 columns]"
      ]
     },
     "execution_count": 31,
     "metadata": {},
     "output_type": "execute_result"
    }
   ],
   "source": [
    "X_train"
   ]
  },
  {
   "cell_type": "code",
   "execution_count": 33,
   "metadata": {},
   "outputs": [
    {
     "data": {
      "text/plain": [
       "3352     3160000\n",
       "5268     1330000\n",
       "4524     2920000\n",
       "4163     2340000\n",
       "7042     1285000\n",
       "          ...   \n",
       "4516     2450000\n",
       "5969     1280000\n",
       "11285    1575000\n",
       "550      2200000\n",
       "9861     1050000\n",
       "Name: Price, Length: 9062, dtype: int64"
      ]
     },
     "execution_count": 33,
     "metadata": {},
     "output_type": "execute_result"
    }
   ],
   "source": [
    "y_train"
   ]
  },
  {
   "cell_type": "code",
   "execution_count": 105,
   "metadata": {},
   "outputs": [],
   "source": [
    "basic_scale = MinMaxScaler()\n",
    "X_train = basic_scale.fit_transform(X_train)\n",
    "X_test = basic_scale.transform(X_test)"
   ]
  },
  {
   "cell_type": "code",
   "execution_count": 70,
   "metadata": {},
   "outputs": [],
   "source": [
    "# normalization\n",
    "#lables = ['Year sold', 'Number of rooms', 'Floor', 'Squared meter']\n",
    "#basic_scale = StandardScaler()\n",
    "#X_train = basic_scale.fit_transform(X_train)\n",
    "#X_test = basic_scale.transform(X_test)"
   ]
  },
  {
   "cell_type": "code",
   "execution_count": 118,
   "metadata": {},
   "outputs": [
    {
     "name": "stdout",
     "output_type": "stream",
     "text": [
      "score:  0.5917947348056305\n",
      "r^2 score:  0.5917947348056305\n",
      "MSE:  298167.8877129533\n"
     ]
    }
   ],
   "source": [
    "linear_reg = LinearRegression()\n",
    "linear_reg.fit(X_train, y_train)\n",
    "initial_prediction = linear_reg.predict(X_test)\n",
    "\n",
    "print(\"score: \",linear_reg.score(X_test,y_test))\n",
    "print(\"r^2 score: \",metrics.r2_score(y_test,initial_prediction))\n",
    "print (\"MSE: \",mean_squared_error(y_test,initial_prediction, squared=False))"
   ]
  },
  {
   "cell_type": "code",
   "execution_count": 117,
   "metadata": {},
   "outputs": [
    {
     "name": "stdout",
     "output_type": "stream",
     "text": [
      "After cross validation:\n",
      "\n",
      "R2 Score: 0.5882223705525224\n",
      "MSE: 297173.6589924013\n"
     ]
    }
   ],
   "source": [
    "# Cross validation\n",
    "linear_reg_scores = cross_val_score(LinearRegression(), X_train, y_train, cv=10,scoring=\"neg_mean_squared_error\")\n",
    "linear_reg_scores_r2 = cross_val_score(LinearRegression(),X_train, y_train,cv=10,scoring=\"r2\")\n",
    "\n",
    "print(\"After cross validation\\n\")\n",
    "print(\"R2 Score:\",linear_reg_scores_r2.mean())\n",
    "print (\"MSE:\",np.sqrt(-linear_reg_scores.mean()))"
   ]
  },
  {
   "cell_type": "code",
   "execution_count": 108,
   "metadata": {},
   "outputs": [
    {
     "name": "stdout",
     "output_type": "stream",
     "text": [
      "score:  0.5760258331571997\n",
      "r^2 score:  0.5760258331571997\n",
      "MSE:  92338439476.85786\n"
     ]
    }
   ],
   "source": [
    "rf_reg = RandomForestRegressor()\n",
    "rf_reg.fit(X_train, y_train)\n",
    "initial_prediction = rf_reg.predict(X_test)\n",
    "\n",
    "\n",
    "print(\"score: \",rf_reg.score(X_test,y_test))\n",
    "print(\"r^2 score: \",metrics.r2_score(y_test,initial_prediction))\n",
    "print (\"MSE: \",mean_squared_error(y_test,initial_prediction))"
   ]
  },
  {
   "cell_type": "code",
   "execution_count": 120,
   "metadata": {},
   "outputs": [
    {
     "name": "stdout",
     "output_type": "stream",
     "text": [
      "After cross validation\n",
      "\n",
      "R2 Score: 0.551919008323799\n",
      "Mean Square ERR: 309486.41736398946\n"
     ]
    }
   ],
   "source": [
    "# Cross validation\n",
    "rf_reg_scores = cross_val_score(RandomForestRegressor(),X_train, y_train, cv=10, scoring=\"neg_mean_squared_error\")\n",
    "rf_reg_scores_r2 = cross_val_score(RandomForestRegressor(),X_train, y_train, cv=10, scoring=\"r2\")\n",
    "\n",
    "print(\"After cross validation\\n\")\n",
    "print(\"R2 Score:\",rf_reg_scores_r2.mean())\n",
    "print (\"Mean Square ERR:\",np.sqrt(-rf_reg_scores.mean()))"
   ]
  },
  {
   "cell_type": "code",
   "execution_count": 109,
   "metadata": {},
   "outputs": [
    {
     "name": "stdout",
     "output_type": "stream",
     "text": [
      "score:  0.5438651751461088\n",
      "r^2 score:  0.5438651751461088\n",
      "MSE:  99342793056.7167\n"
     ]
    }
   ],
   "source": [
    "knn_reg = KNeighborsRegressor()\n",
    "knn_reg.fit(X_train, y_train)\n",
    "initial_prediction = knn_reg.predict(X_test)\n",
    "\n",
    "print(\"score: \",knn_reg.score(X_test,y_test))\n",
    "print(\"r^2 score: \",metrics.r2_score(y_test,initial_prediction))\n",
    "print (\"MSE: \",mean_squared_error(y_test,initial_prediction))"
   ]
  },
  {
   "cell_type": "code",
   "execution_count": 119,
   "metadata": {},
   "outputs": [
    {
     "name": "stdout",
     "output_type": "stream",
     "text": [
      "After cross validation\n",
      "\n",
      "R2 Score: 0.5790682240738276\n",
      "Mean Square ERR: 300311.5894049486\n"
     ]
    }
   ],
   "source": [
    "# Cross validation\n",
    "knn_reg_scores = cross_val_score(KNeighborsRegressor(n_neighbors=10),X_train, y_train, cv=10, scoring=\"neg_mean_squared_error\")\n",
    "knn_reg_scores_r2 = cross_val_score(KNeighborsRegressor(n_neighbors=10),X_train, y_train, cv=10, scoring=\"r2\")\n",
    "\n",
    "print(\"After cross validation\\n\")\n",
    "print(\"R2 Score:\",knn_reg_scores_r2.mean())\n",
    "print (\"Mean Square ERR:\",np.sqrt(-knn_reg_scores.mean()))"
   ]
  },
  {
   "cell_type": "code",
   "execution_count": 103,
   "metadata": {},
   "outputs": [
    {
     "name": "stdout",
     "output_type": "stream",
     "text": [
      "0.024271844660194174\n",
      "130380724172.41837\n"
     ]
    }
   ],
   "source": [
    "log_reg = LogisticRegression()\n",
    "log_reg.fit(X_train, y_train)\n",
    "initial_prediction = log_reg.predict(X_test)\n",
    "\n",
    "\n",
    "print(log_reg.score(X_test, y_test))\n",
    "print (mean_squared_error(y_test,initial_prediction))"
   ]
  },
  {
   "cell_type": "code",
   "execution_count": null,
   "metadata": {},
   "outputs": [],
   "source": [
    "# Cross validation\n",
    "log_reg_scores = cross_val_score(LogisticRegression(),X_train, y_train, cv=10, scoring=\"neg_mean_squared_error\")\n",
    "log_reg_scores_r2 = cross_val_score(LogisticRegression(),X_train, y_train, cv=10, scoring=\"r2\")\n",
    "\n",
    "print(\"After cross validation\\n\")\n",
    "print(\"R2 Score:\",rf_reg_scores_r2.mean())\n",
    "print (\"Mean Square ERR:\",np.sqrt(-rf_reg_scores.mean()))"
   ]
  },
  {
   "cell_type": "code",
   "execution_count": 110,
   "metadata": {},
   "outputs": [],
   "source": [
    "prices1 = df_with_street_dummies['Price']\n",
    "data_without_prices1 = df_with_street_dummies.drop(['Price'],axis=1)\n",
    "X_train1,X_test1,y_train1,y_test1 = train_test_split(data_without_prices1, prices1, test_size=0.2, random_state = 7)"
   ]
  },
  {
   "cell_type": "code",
   "execution_count": 111,
   "metadata": {},
   "outputs": [
    {
     "data": {
      "text/html": [
       "<div>\n",
       "<style scoped>\n",
       "    .dataframe tbody tr th:only-of-type {\n",
       "        vertical-align: middle;\n",
       "    }\n",
       "\n",
       "    .dataframe tbody tr th {\n",
       "        vertical-align: top;\n",
       "    }\n",
       "\n",
       "    .dataframe thead th {\n",
       "        text-align: right;\n",
       "    }\n",
       "</style>\n",
       "<table border=\"1\" class=\"dataframe\">\n",
       "  <thead>\n",
       "    <tr style=\"text-align: right;\">\n",
       "      <th></th>\n",
       "      <th>Year sold</th>\n",
       "      <th>Kind</th>\n",
       "      <th>Number of rooms</th>\n",
       "      <th>Floor</th>\n",
       "      <th>Squared meter</th>\n",
       "      <th>אבידן שמעון</th>\n",
       "      <th>אביעזר</th>\n",
       "      <th>אבן גבירול</th>\n",
       "      <th>אבן חן</th>\n",
       "      <th>אברבנאל</th>\n",
       "      <th>...</th>\n",
       "      <th>שפרינצק</th>\n",
       "      <th>שרירא שמואל</th>\n",
       "      <th>שרף חיים</th>\n",
       "      <th>תדהר דוד</th>\n",
       "      <th>תורה ועבודה</th>\n",
       "      <th>תל חי</th>\n",
       "      <th>תנועות הנוער</th>\n",
       "      <th>תנחום</th>\n",
       "      <th>תרמ\"ב</th>\n",
       "      <th>תרשיש</th>\n",
       "    </tr>\n",
       "  </thead>\n",
       "  <tbody>\n",
       "    <tr>\n",
       "      <th>3352</th>\n",
       "      <td>2020</td>\n",
       "      <td>1</td>\n",
       "      <td>5.0</td>\n",
       "      <td>4.0</td>\n",
       "      <td>120.36</td>\n",
       "      <td>0</td>\n",
       "      <td>0</td>\n",
       "      <td>0</td>\n",
       "      <td>0</td>\n",
       "      <td>0</td>\n",
       "      <td>...</td>\n",
       "      <td>0</td>\n",
       "      <td>0</td>\n",
       "      <td>0</td>\n",
       "      <td>0</td>\n",
       "      <td>0</td>\n",
       "      <td>0</td>\n",
       "      <td>0</td>\n",
       "      <td>0</td>\n",
       "      <td>0</td>\n",
       "      <td>0</td>\n",
       "    </tr>\n",
       "    <tr>\n",
       "      <th>5268</th>\n",
       "      <td>2018</td>\n",
       "      <td>1</td>\n",
       "      <td>3.0</td>\n",
       "      <td>3.0</td>\n",
       "      <td>72.00</td>\n",
       "      <td>0</td>\n",
       "      <td>0</td>\n",
       "      <td>0</td>\n",
       "      <td>0</td>\n",
       "      <td>0</td>\n",
       "      <td>...</td>\n",
       "      <td>0</td>\n",
       "      <td>0</td>\n",
       "      <td>0</td>\n",
       "      <td>0</td>\n",
       "      <td>0</td>\n",
       "      <td>0</td>\n",
       "      <td>0</td>\n",
       "      <td>0</td>\n",
       "      <td>0</td>\n",
       "      <td>0</td>\n",
       "    </tr>\n",
       "    <tr>\n",
       "      <th>4524</th>\n",
       "      <td>2019</td>\n",
       "      <td>1</td>\n",
       "      <td>6.0</td>\n",
       "      <td>5.0</td>\n",
       "      <td>148.00</td>\n",
       "      <td>0</td>\n",
       "      <td>0</td>\n",
       "      <td>0</td>\n",
       "      <td>0</td>\n",
       "      <td>0</td>\n",
       "      <td>...</td>\n",
       "      <td>0</td>\n",
       "      <td>0</td>\n",
       "      <td>0</td>\n",
       "      <td>0</td>\n",
       "      <td>0</td>\n",
       "      <td>0</td>\n",
       "      <td>0</td>\n",
       "      <td>0</td>\n",
       "      <td>0</td>\n",
       "      <td>0</td>\n",
       "    </tr>\n",
       "    <tr>\n",
       "      <th>4163</th>\n",
       "      <td>2019</td>\n",
       "      <td>1</td>\n",
       "      <td>4.0</td>\n",
       "      <td>8.0</td>\n",
       "      <td>94.00</td>\n",
       "      <td>0</td>\n",
       "      <td>0</td>\n",
       "      <td>0</td>\n",
       "      <td>0</td>\n",
       "      <td>0</td>\n",
       "      <td>...</td>\n",
       "      <td>0</td>\n",
       "      <td>0</td>\n",
       "      <td>0</td>\n",
       "      <td>0</td>\n",
       "      <td>0</td>\n",
       "      <td>0</td>\n",
       "      <td>0</td>\n",
       "      <td>0</td>\n",
       "      <td>0</td>\n",
       "      <td>0</td>\n",
       "    </tr>\n",
       "    <tr>\n",
       "      <th>7042</th>\n",
       "      <td>2017</td>\n",
       "      <td>1</td>\n",
       "      <td>3.0</td>\n",
       "      <td>3.0</td>\n",
       "      <td>55.68</td>\n",
       "      <td>0</td>\n",
       "      <td>0</td>\n",
       "      <td>0</td>\n",
       "      <td>0</td>\n",
       "      <td>0</td>\n",
       "      <td>...</td>\n",
       "      <td>0</td>\n",
       "      <td>0</td>\n",
       "      <td>0</td>\n",
       "      <td>0</td>\n",
       "      <td>0</td>\n",
       "      <td>0</td>\n",
       "      <td>0</td>\n",
       "      <td>0</td>\n",
       "      <td>0</td>\n",
       "      <td>0</td>\n",
       "    </tr>\n",
       "    <tr>\n",
       "      <th>...</th>\n",
       "      <td>...</td>\n",
       "      <td>...</td>\n",
       "      <td>...</td>\n",
       "      <td>...</td>\n",
       "      <td>...</td>\n",
       "      <td>...</td>\n",
       "      <td>...</td>\n",
       "      <td>...</td>\n",
       "      <td>...</td>\n",
       "      <td>...</td>\n",
       "      <td>...</td>\n",
       "      <td>...</td>\n",
       "      <td>...</td>\n",
       "      <td>...</td>\n",
       "      <td>...</td>\n",
       "      <td>...</td>\n",
       "      <td>...</td>\n",
       "      <td>...</td>\n",
       "      <td>...</td>\n",
       "      <td>...</td>\n",
       "      <td>...</td>\n",
       "    </tr>\n",
       "    <tr>\n",
       "      <th>4516</th>\n",
       "      <td>2019</td>\n",
       "      <td>1</td>\n",
       "      <td>5.0</td>\n",
       "      <td>10.0</td>\n",
       "      <td>121.00</td>\n",
       "      <td>0</td>\n",
       "      <td>0</td>\n",
       "      <td>0</td>\n",
       "      <td>0</td>\n",
       "      <td>0</td>\n",
       "      <td>...</td>\n",
       "      <td>0</td>\n",
       "      <td>0</td>\n",
       "      <td>0</td>\n",
       "      <td>0</td>\n",
       "      <td>0</td>\n",
       "      <td>0</td>\n",
       "      <td>0</td>\n",
       "      <td>0</td>\n",
       "      <td>0</td>\n",
       "      <td>0</td>\n",
       "    </tr>\n",
       "    <tr>\n",
       "      <th>5969</th>\n",
       "      <td>2018</td>\n",
       "      <td>1</td>\n",
       "      <td>3.0</td>\n",
       "      <td>3.0</td>\n",
       "      <td>63.43</td>\n",
       "      <td>0</td>\n",
       "      <td>0</td>\n",
       "      <td>0</td>\n",
       "      <td>0</td>\n",
       "      <td>0</td>\n",
       "      <td>...</td>\n",
       "      <td>0</td>\n",
       "      <td>0</td>\n",
       "      <td>0</td>\n",
       "      <td>0</td>\n",
       "      <td>0</td>\n",
       "      <td>0</td>\n",
       "      <td>0</td>\n",
       "      <td>0</td>\n",
       "      <td>0</td>\n",
       "      <td>0</td>\n",
       "    </tr>\n",
       "    <tr>\n",
       "      <th>11285</th>\n",
       "      <td>2015</td>\n",
       "      <td>1</td>\n",
       "      <td>4.0</td>\n",
       "      <td>2.0</td>\n",
       "      <td>89.31</td>\n",
       "      <td>0</td>\n",
       "      <td>0</td>\n",
       "      <td>0</td>\n",
       "      <td>0</td>\n",
       "      <td>0</td>\n",
       "      <td>...</td>\n",
       "      <td>0</td>\n",
       "      <td>0</td>\n",
       "      <td>0</td>\n",
       "      <td>0</td>\n",
       "      <td>0</td>\n",
       "      <td>0</td>\n",
       "      <td>0</td>\n",
       "      <td>0</td>\n",
       "      <td>0</td>\n",
       "      <td>0</td>\n",
       "    </tr>\n",
       "    <tr>\n",
       "      <th>550</th>\n",
       "      <td>2021</td>\n",
       "      <td>1</td>\n",
       "      <td>5.0</td>\n",
       "      <td>1.0</td>\n",
       "      <td>114.05</td>\n",
       "      <td>0</td>\n",
       "      <td>0</td>\n",
       "      <td>0</td>\n",
       "      <td>0</td>\n",
       "      <td>0</td>\n",
       "      <td>...</td>\n",
       "      <td>0</td>\n",
       "      <td>0</td>\n",
       "      <td>0</td>\n",
       "      <td>0</td>\n",
       "      <td>0</td>\n",
       "      <td>0</td>\n",
       "      <td>0</td>\n",
       "      <td>0</td>\n",
       "      <td>0</td>\n",
       "      <td>0</td>\n",
       "    </tr>\n",
       "    <tr>\n",
       "      <th>9861</th>\n",
       "      <td>2016</td>\n",
       "      <td>1</td>\n",
       "      <td>3.0</td>\n",
       "      <td>4.0</td>\n",
       "      <td>74.03</td>\n",
       "      <td>0</td>\n",
       "      <td>0</td>\n",
       "      <td>0</td>\n",
       "      <td>0</td>\n",
       "      <td>0</td>\n",
       "      <td>...</td>\n",
       "      <td>0</td>\n",
       "      <td>0</td>\n",
       "      <td>0</td>\n",
       "      <td>0</td>\n",
       "      <td>0</td>\n",
       "      <td>0</td>\n",
       "      <td>0</td>\n",
       "      <td>0</td>\n",
       "      <td>0</td>\n",
       "      <td>0</td>\n",
       "    </tr>\n",
       "  </tbody>\n",
       "</table>\n",
       "<p>9062 rows × 430 columns</p>\n",
       "</div>"
      ],
      "text/plain": [
       "       Year sold Kind  Number of rooms  Floor  Squared meter  אבידן שמעון  \\\n",
       "3352        2020    1              5.0    4.0         120.36            0   \n",
       "5268        2018    1              3.0    3.0          72.00            0   \n",
       "4524        2019    1              6.0    5.0         148.00            0   \n",
       "4163        2019    1              4.0    8.0          94.00            0   \n",
       "7042        2017    1              3.0    3.0          55.68            0   \n",
       "...          ...  ...              ...    ...            ...          ...   \n",
       "4516        2019    1              5.0   10.0         121.00            0   \n",
       "5969        2018    1              3.0    3.0          63.43            0   \n",
       "11285       2015    1              4.0    2.0          89.31            0   \n",
       "550         2021    1              5.0    1.0         114.05            0   \n",
       "9861        2016    1              3.0    4.0          74.03            0   \n",
       "\n",
       "       אביעזר  אבן גבירול  אבן חן  אברבנאל  ...  שפרינצק  שרירא שמואל  \\\n",
       "3352        0           0       0        0  ...        0            0   \n",
       "5268        0           0       0        0  ...        0            0   \n",
       "4524        0           0       0        0  ...        0            0   \n",
       "4163        0           0       0        0  ...        0            0   \n",
       "7042        0           0       0        0  ...        0            0   \n",
       "...       ...         ...     ...      ...  ...      ...          ...   \n",
       "4516        0           0       0        0  ...        0            0   \n",
       "5969        0           0       0        0  ...        0            0   \n",
       "11285       0           0       0        0  ...        0            0   \n",
       "550         0           0       0        0  ...        0            0   \n",
       "9861        0           0       0        0  ...        0            0   \n",
       "\n",
       "       שרף חיים  תדהר דוד  תורה ועבודה  תל חי  תנועות הנוער  תנחום  תרמ\"ב  \\\n",
       "3352          0         0            0      0             0      0      0   \n",
       "5268          0         0            0      0             0      0      0   \n",
       "4524          0         0            0      0             0      0      0   \n",
       "4163          0         0            0      0             0      0      0   \n",
       "7042          0         0            0      0             0      0      0   \n",
       "...         ...       ...          ...    ...           ...    ...    ...   \n",
       "4516          0         0            0      0             0      0      0   \n",
       "5969          0         0            0      0             0      0      0   \n",
       "11285         0         0            0      0             0      0      0   \n",
       "550           0         0            0      0             0      0      0   \n",
       "9861          0         0            0      0             0      0      0   \n",
       "\n",
       "       תרשיש  \n",
       "3352       0  \n",
       "5268       0  \n",
       "4524       0  \n",
       "4163       0  \n",
       "7042       0  \n",
       "...      ...  \n",
       "4516       0  \n",
       "5969       0  \n",
       "11285      0  \n",
       "550        0  \n",
       "9861       0  \n",
       "\n",
       "[9062 rows x 430 columns]"
      ]
     },
     "execution_count": 111,
     "metadata": {},
     "output_type": "execute_result"
    }
   ],
   "source": [
    "X_train1"
   ]
  },
  {
   "cell_type": "code",
   "execution_count": 112,
   "metadata": {},
   "outputs": [],
   "source": [
    "num_features = ['Year sold', 'Number of rooms', 'Floor', 'Squared meter']\n",
    "basic_scale = MinMaxScaler()\n",
    "X_train1[num_features] = basic_scale.fit_transform(X_train1[num_features])\n",
    "X_test1[num_features] = basic_scale.transform(X_test1[num_features])"
   ]
  },
  {
   "cell_type": "code",
   "execution_count": 114,
   "metadata": {},
   "outputs": [
    {
     "name": "stdout",
     "output_type": "stream",
     "text": [
      "score:  -6.427450378509691e+21\n",
      "r^2 score:  -6.427450378509691e+21\n",
      "MSE:  1.3998511800521576e+33\n"
     ]
    }
   ],
   "source": [
    "linear_reg = LinearRegression()\n",
    "linear_reg.fit(X_train1, y_train1)\n",
    "initial_prediction = linear_reg.predict(X_test1)\n",
    "\n",
    "\n",
    "print(\"score: \",linear_reg.score(X_test1,y_test1))\n",
    "print(\"r^2 score: \",metrics.r2_score(y_test1,initial_prediction))\n",
    "print (\"MSE: \",mean_squared_error(y_test1,initial_prediction))"
   ]
  },
  {
   "cell_type": "code",
   "execution_count": 123,
   "metadata": {},
   "outputs": [
    {
     "name": "stdout",
     "output_type": "stream",
     "text": [
      "After cross validation\n",
      "\n",
      "score:  -1.2648707729646841e+35\n",
      "R2 Score: -5.892892364900902e+23\n",
      "MSE: 3.5565021762466054e+17\n"
     ]
    }
   ],
   "source": [
    "# Cross validation\n",
    "linear_reg_scores = cross_val_score(LinearRegression(), X_train1, y_train1, cv=10,scoring=\"neg_mean_squared_error\")\n",
    "linear_reg_scores_r2 = cross_val_score(LinearRegression(),X_train1, y_train1,cv=10,scoring=\"r2\")\n",
    "\n",
    "print(\"After cross validation\\n\")\n",
    "print(\"R2 Score:\",linear_reg_scores_r2.mean())\n",
    "print (\"MSE:\",np.sqrt(-linear_reg_scores.mean()))"
   ]
  },
  {
   "cell_type": "code",
   "execution_count": 113,
   "metadata": {},
   "outputs": [
    {
     "name": "stdout",
     "output_type": "stream",
     "text": [
      "score:  0.6630444307926793\n",
      "r^2 score:  0.6630444307926793\n",
      "MSE:  73386432162.44989\n"
     ]
    }
   ],
   "source": [
    "rf_reg = RandomForestRegressor()\n",
    "rf_reg.fit(X_train1, y_train1)\n",
    "initial_prediction = rf_reg.predict(X_test1)\n",
    "\n",
    "\n",
    "print(\"score: \",rf_reg.score(X_test1,y_test1))\n",
    "print(\"r^2 score: \",metrics.r2_score(y_test1,initial_prediction))\n",
    "print (\"MSE: \",mean_squared_error(y_test1,initial_prediction))"
   ]
  },
  {
   "cell_type": "code",
   "execution_count": 124,
   "metadata": {},
   "outputs": [
    {
     "name": "stdout",
     "output_type": "stream",
     "text": [
      "After cross validation\n",
      "\n",
      "score:  -1.2648707729646841e+35\n",
      "R2 Score: 0.6628512643143023\n",
      "Mean Square ERR: 268606.864171569\n"
     ]
    }
   ],
   "source": [
    "# Cross validation\n",
    "rf_reg_scores = cross_val_score(RandomForestRegressor(),X_train1, y_train1, cv=10, scoring=\"neg_mean_squared_error\")\n",
    "rf_reg_scores_r2 = cross_val_score(RandomForestRegressor(),X_train1, y_train1, cv=10, scoring=\"r2\")\n",
    "\n",
    "print(\"After cross validation\\n\")\n",
    "print(\"R2 Score:\",rf_reg_scores_r2.mean())\n",
    "print (\"Mean Square ERR:\",np.sqrt(-rf_reg_scores.mean()))"
   ]
  },
  {
   "cell_type": "code",
   "execution_count": 115,
   "metadata": {},
   "outputs": [
    {
     "name": "stdout",
     "output_type": "stream",
     "text": [
      "score:  0.6143739209004788\n",
      "r^2 score:  0.6143739209004788\n",
      "MSE:  83986509439.45789\n"
     ]
    }
   ],
   "source": [
    "knn_reg = KNeighborsRegressor()\n",
    "knn_reg.fit(X_train1, y_train1)\n",
    "initial_prediction = knn_reg.predict(X_test1)\n",
    "\n",
    "\n",
    "print(\"score: \",knn_reg.score(X_test1,y_test1))\n",
    "print(\"r^2 score: \",metrics.r2_score(y_test1,initial_prediction))\n",
    "print (\"MSE: \",mean_squared_error(y_test1,initial_prediction))"
   ]
  },
  {
   "cell_type": "code",
   "execution_count": 125,
   "metadata": {},
   "outputs": [
    {
     "name": "stdout",
     "output_type": "stream",
     "text": [
      "After cross validation\n",
      "\n",
      "score:  -86074988622.69032\n",
      "R2 Score: 0.5980432393684906\n",
      "Mean Square ERR: 293385.39265391236\n"
     ]
    }
   ],
   "source": [
    "# Cross validation\n",
    "knn_reg_scores = cross_val_score(KNeighborsRegressor(n_neighbors=10),X_train1, y_train1, cv=10, scoring=\"neg_mean_squared_error\")\n",
    "knn_reg_scores_r2 = cross_val_score(KNeighborsRegressor(n_neighbors=10),X_train1, y_train1, cv=10, scoring=\"r2\")\n",
    "\n",
    "print(\"After cross validation\\n\")\n",
    "print(\"R2 Score:\",knn_reg_scores_r2.mean())\n",
    "print (\"Mean Square ERR:\",np.sqrt(-knn_reg_scores.mean()))"
   ]
  },
  {
   "cell_type": "code",
   "execution_count": 100,
   "metadata": {},
   "outputs": [
    {
     "name": "stdout",
     "output_type": "stream",
     "text": [
      "0.028684907325684024\n",
      "108412403139.76169\n"
     ]
    }
   ],
   "source": [
    "log_reg = LogisticRegression()\n",
    "log_reg.fit(X_train1, y_train1)\n",
    "initial_prediction = log_reg.predict(X_test1)\n",
    "\n",
    "\n",
    "print(log_reg.score(X_test1, y_test1))\n",
    "print (mean_squared_error(y_test1,initial_prediction))"
   ]
  },
  {
   "cell_type": "code",
   "execution_count": 128,
   "metadata": {},
   "outputs": [
    {
     "name": "stdout",
     "output_type": "stream",
     "text": [
      "After cross validation\n",
      "\n",
      "score:  -110015270079.27939\n",
      "R2 Score: 0.6628512643143023\n",
      "Mean Square ERR: 268606.864171569\n"
     ]
    }
   ],
   "source": [
    "# Cross validation\n",
    "log_reg_scores = cross_val_score(LogisticRegression(),X_train1, y_train1, cv=10, scoring=\"neg_mean_squared_error\")\n",
    "log_reg_scores_r2 = cross_val_score(LogisticRegression(),X_train1, y_train1, cv=10, scoring=\"r2\")\n",
    "\n",
    "print(\"After cross validation\\n\")\n",
    "print(\"R2 Score:\",log_reg_scores_r2.mean())\n",
    "print (\"Mean Square ERR:\",np.sqrt(-log_reg_scores.mean()))"
   ]
  },
  {
   "cell_type": "code",
   "execution_count": null,
   "metadata": {},
   "outputs": [],
   "source": []
  }
 ],
 "metadata": {
  "kernelspec": {
   "display_name": "Python 3",
   "language": "python",
   "name": "python3"
  },
  "language_info": {
   "codemirror_mode": {
    "name": "ipython",
    "version": 3
   },
   "file_extension": ".py",
   "mimetype": "text/x-python",
   "name": "python",
   "nbconvert_exporter": "python",
   "pygments_lexer": "ipython3",
   "version": "3.7.6"
  }
 },
 "nbformat": 4,
 "nbformat_minor": 4
}
